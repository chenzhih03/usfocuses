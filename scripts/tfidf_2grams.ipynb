{
 "cells": [
  {
   "cell_type": "code",
   "execution_count": 1,
   "metadata": {
    "collapsed": true
   },
   "outputs": [],
   "source": [
    "import numpy as np\n",
    "import pickle as pkl\n",
    "import re\n",
    "import pandas as pd\n",
    "from nltk.tokenize import word_tokenize\n",
    "from nltk.corpus import stopwords\n",
    "from nltk.stem.porter import PorterStemmer\n",
    "from pyspark.mllib.clustering import KMeans\n",
    "from collections import Counter\n",
    "from nltk.corpus import stopwords\n",
    "import string\n",
    "import pyspark as ps    # for the pyspark suite\n",
    "from pyspark.sql.functions import udf, col\n",
    "from pyspark.sql.types import ArrayType, StringType\n",
    "import unicodedata\n",
    "import nltk\n",
    "\n",
    "from nltk.tokenize import sent_tokenize\n",
    "from nltk.stem.snowball import SnowballStemmer\n",
    "from nltk.util import ngrams\n",
    "from nltk import pos_tag\n",
    "from nltk import RegexpParser\n",
    "\n",
    "from pyspark.ml.feature import CountVectorizer\n",
    "from pyspark.ml.feature import IDF\n",
    "\n",
    "import sys\n",
    "from pyspark.ml import Pipeline\n",
    "from pyspark.ml.feature import Tokenizer, RegexTokenizer, StopWordsRemover, NGram, \\\n",
    "        CountVectorizer, IDF, Word2Vec\n",
    "from pyspark.sql.functions import udf, col, explode, collect_list, to_date, concat\n",
    "from pyspark.sql.types import StructType, StructField, IntegerType, StringType, \\\n",
    "        FloatType, ArrayType, BooleanType\n",
    "from nltk.stem import SnowballStemmer\n",
    "\n",
    "\n",
    "\n"
   ]
  },
  {
   "cell_type": "code",
   "execution_count": null,
   "metadata": {
    "collapsed": true
   },
   "outputs": [],
   "source": []
  },
  {
   "cell_type": "code",
   "execution_count": null,
   "metadata": {
    "collapsed": true
   },
   "outputs": [],
   "source": []
  },
  {
   "cell_type": "code",
   "execution_count": 2,
   "metadata": {
    "collapsed": false
   },
   "outputs": [],
   "source": [
    "df_full = spark.read.csv('s3a://usfocus/congress_full.csv',header = True,inferSchema=True,sep=\",\")\n"
   ]
  },
  {
   "cell_type": "code",
   "execution_count": null,
   "metadata": {
    "collapsed": true
   },
   "outputs": [],
   "source": []
  },
  {
   "cell_type": "code",
   "execution_count": 3,
   "metadata": {
    "collapsed": false
   },
   "outputs": [
    {
     "name": "stdout",
     "output_type": "stream",
     "text": [
      "root\n",
      " |-- content: string (nullable = true)\n",
      " |-- subject: string (nullable = true)\n",
      " |-- dates: string (nullable = true)\n",
      " |-- name: string (nullable = true)\n",
      " |-- congress: double (nullable = true)\n",
      "\n"
     ]
    }
   ],
   "source": [
    "df_full.printSchema()"
   ]
  },
  {
   "cell_type": "code",
   "execution_count": null,
   "metadata": {
    "collapsed": true
   },
   "outputs": [],
   "source": []
  },
  {
   "cell_type": "code",
   "execution_count": 4,
   "metadata": {
    "collapsed": false
   },
   "outputs": [],
   "source": [
    "tokenizer = RegexTokenizer(inputCol=\"content\", outputCol=\"tokens\", pattern=\"\\\\W\", minTokenLength=3)\n",
    "\n",
    "remover = StopWordsRemover(inputCol=\"tokens\", outputCol='tokens_nostopwords')\n",
    "\n",
    "from pyspark import keyword_only\n",
    "from pyspark.ml.util import Identifiable\n",
    "from pyspark.ml.pipeline import Transformer\n",
    "from pyspark.ml.param.shared import HasInputCol, HasOutputCol, Param\n",
    "from nltk.stem import SnowballStemmer\n",
    "from pyspark.sql.functions import udf\n",
    "from pyspark.sql.types import ArrayType, StringType\n",
    "\n",
    "# Custom stemming transformer class for pyspark\n",
    "class Stemming_Transformer(Transformer, HasInputCol, HasOutputCol):\n",
    "    @keyword_only\n",
    "    def __init__(self, inputCol=None, outputCol=None):\n",
    "        super(Stemming_Transformer, self).__init__()\n",
    "        kwargs = self.__init__._input_kwargs\n",
    "        self.setParams(**kwargs)\n",
    "\n",
    "    @keyword_only\n",
    "    def setParams(self, inputCol=None, outputCol=None, language='english', ):\n",
    "        kwargs = self.setParams._input_kwargs\n",
    "        return self._set(**kwargs)\n",
    "\n",
    "    def _transform(self, dataset):\n",
    "        opinion_stemm = SnowballStemmer('english')\n",
    "        udfStemmer = udf(lambda tokens: [opinion_stemm.stem(word) for word in tokens], ArrayType(StringType()))\n",
    "\n",
    "        inCol = self.getInputCol()\n",
    "        outCol = self.getOutputCol()\n",
    "\n",
    "        return dataset.withColumn(outCol, udfStemmer(inCol))\n",
    "\n",
    "stemmer = Stemming_Transformer(inputCol='tokens_nostopwords', outputCol='tokens_stemmed')\n",
    "grams2 = NGram(n=2 , inputCol='tokens_stemmed', outputCol='tokens_2grams' )\n",
    "grams3 = NGram(n=3 , inputCol='tokens_stemmed', outputCol='tokens_3grams' )\n",
    "\n",
    "cv_2grams = CountVectorizer(inputCol='tokens_2grams', outputCol='tokens2grams_countvectorized', minDF=2.0,vocabSize=3000)\n",
    "cv_3grams = CountVectorizer(inputCol='tokens_3grams', outputCol='tokens3grams_countvectorized', minDF=2.0,vocabSize=3000)\n",
    "\n",
    "idf_2grams = IDF(inputCol='tokens2grams_countvectorized', outputCol='token2grams_idf')\n",
    "idf_3grams = IDF(inputCol='tokens3grams_countvectorized', outputCol='token3grams_idf')\n"
   ]
  },
  {
   "cell_type": "code",
   "execution_count": 5,
   "metadata": {
    "collapsed": true
   },
   "outputs": [],
   "source": [
    "pipe_stem = Pipeline(stages=[tokenizer, remover, stemmer])\n"
   ]
  },
  {
   "cell_type": "code",
   "execution_count": 6,
   "metadata": {
    "collapsed": false
   },
   "outputs": [],
   "source": [
    "model_stem = pipe_stem.fit(df_full)\n",
    "\n",
    "df_stem = model_stem.transform(df_full)\n"
   ]
  },
  {
   "cell_type": "code",
   "execution_count": 7,
   "metadata": {
    "collapsed": false
   },
   "outputs": [
    {
     "name": "stdout",
     "output_type": "stream",
     "text": [
      "root\n",
      " |-- content: string (nullable = true)\n",
      " |-- subject: string (nullable = true)\n",
      " |-- dates: string (nullable = true)\n",
      " |-- name: string (nullable = true)\n",
      " |-- congress: double (nullable = true)\n",
      " |-- tokens: array (nullable = true)\n",
      " |    |-- element: string (containsNull = true)\n",
      " |-- tokens_nostopwords: array (nullable = true)\n",
      " |    |-- element: string (containsNull = true)\n",
      " |-- tokens_stemmed: array (nullable = true)\n",
      " |    |-- element: string (containsNull = true)\n",
      "\n"
     ]
    }
   ],
   "source": [
    "df_stem.printSchema()"
   ]
  },
  {
   "cell_type": "code",
   "execution_count": 8,
   "metadata": {
    "collapsed": false
   },
   "outputs": [],
   "source": [
    "df_grams2 = grams2.transform(df_stem)"
   ]
  },
  {
   "cell_type": "code",
   "execution_count": 9,
   "metadata": {
    "collapsed": false
   },
   "outputs": [
    {
     "name": "stdout",
     "output_type": "stream",
     "text": [
      "root\n",
      " |-- content: string (nullable = true)\n",
      " |-- subject: string (nullable = true)\n",
      " |-- dates: string (nullable = true)\n",
      " |-- name: string (nullable = true)\n",
      " |-- congress: double (nullable = true)\n",
      " |-- tokens: array (nullable = true)\n",
      " |    |-- element: string (containsNull = true)\n",
      " |-- tokens_nostopwords: array (nullable = true)\n",
      " |    |-- element: string (containsNull = true)\n",
      " |-- tokens_stemmed: array (nullable = true)\n",
      " |    |-- element: string (containsNull = true)\n",
      " |-- tokens_2grams: array (nullable = true)\n",
      " |    |-- element: string (containsNull = false)\n",
      "\n"
     ]
    }
   ],
   "source": [
    "df_grams2.printSchema()"
   ]
  },
  {
   "cell_type": "code",
   "execution_count": null,
   "metadata": {
    "collapsed": true
   },
   "outputs": [],
   "source": []
  },
  {
   "cell_type": "code",
   "execution_count": 10,
   "metadata": {
    "collapsed": true
   },
   "outputs": [],
   "source": [
    "#df_grams3 = grams3.transform(df_grams2)"
   ]
  },
  {
   "cell_type": "code",
   "execution_count": 11,
   "metadata": {
    "collapsed": false
   },
   "outputs": [],
   "source": [
    "#df_grams3.printSchema()"
   ]
  },
  {
   "cell_type": "code",
   "execution_count": null,
   "metadata": {
    "collapsed": true
   },
   "outputs": [],
   "source": []
  },
  {
   "cell_type": "code",
   "execution_count": 10,
   "metadata": {
    "collapsed": true
   },
   "outputs": [],
   "source": [
    "cv_model_2grams = cv_2grams.fit(df_grams2)"
   ]
  },
  {
   "cell_type": "code",
   "execution_count": 11,
   "metadata": {
    "collapsed": true
   },
   "outputs": [],
   "source": [
    "df2grams_countvector = cv_model_2grams.transform(df_grams2)"
   ]
  },
  {
   "cell_type": "code",
   "execution_count": 12,
   "metadata": {
    "collapsed": true
   },
   "outputs": [],
   "source": [
    "Vocab_2grams = cv_model_2grams.vocabulary"
   ]
  },
  {
   "cell_type": "code",
   "execution_count": 13,
   "metadata": {
    "collapsed": false,
    "scrolled": true
   },
   "outputs": [
    {
     "data": {
      "text/plain": [
       "3000"
      ]
     },
     "execution_count": 13,
     "metadata": {},
     "output_type": "execute_result"
    }
   ],
   "source": [
    "len(Vocab_2grams)"
   ]
  },
  {
   "cell_type": "code",
   "execution_count": 14,
   "metadata": {
    "collapsed": false
   },
   "outputs": [
    {
     "data": {
      "text/plain": [
       "u'secretari shall'"
      ]
     },
     "execution_count": 14,
     "metadata": {},
     "output_type": "execute_result"
    }
   ],
   "source": [
    "Vocab_2grams[2]"
   ]
  },
  {
   "cell_type": "code",
   "execution_count": null,
   "metadata": {
    "collapsed": true
   },
   "outputs": [],
   "source": []
  },
  {
   "cell_type": "code",
   "execution_count": 15,
   "metadata": {
    "collapsed": false
   },
   "outputs": [],
   "source": [
    "model_idf2grams = idf_2grams.fit(df2grams_countvector)\n",
    "\n",
    "df_tfidf_2grams = model_idf2grams.transform(df2grams_countvector)"
   ]
  },
  {
   "cell_type": "code",
   "execution_count": 16,
   "metadata": {
    "collapsed": false
   },
   "outputs": [
    {
     "name": "stdout",
     "output_type": "stream",
     "text": [
      "root\n",
      " |-- content: string (nullable = true)\n",
      " |-- subject: string (nullable = true)\n",
      " |-- dates: string (nullable = true)\n",
      " |-- name: string (nullable = true)\n",
      " |-- congress: double (nullable = true)\n",
      " |-- tokens: array (nullable = true)\n",
      " |    |-- element: string (containsNull = true)\n",
      " |-- tokens_nostopwords: array (nullable = true)\n",
      " |    |-- element: string (containsNull = true)\n",
      " |-- tokens_stemmed: array (nullable = true)\n",
      " |    |-- element: string (containsNull = true)\n",
      " |-- tokens_2grams: array (nullable = true)\n",
      " |    |-- element: string (containsNull = false)\n",
      " |-- tokens2grams_countvectorized: vector (nullable = true)\n",
      " |-- token2grams_idf: vector (nullable = true)\n",
      "\n"
     ]
    }
   ],
   "source": [
    "df_tfidf_2grams.printSchema()"
   ]
  },
  {
   "cell_type": "code",
   "execution_count": 17,
   "metadata": {
    "collapsed": false
   },
   "outputs": [
    {
     "data": {
      "text/plain": [
       "{'Agriculture+and+Food': 25,\n",
       " 'Animals': 26,\n",
       " 'Armed+Forces+and+National+Security': 3,\n",
       " 'Arts,+Culture,+Religion': 30,\n",
       " 'Civil+Rights+and+Liberties,+Minority+Issues': 16,\n",
       " 'Commerce': 20,\n",
       " 'Congress': 6,\n",
       " 'Crime+and+Law+Enforcement': 7,\n",
       " 'Economics+and+Public+Finance': 19,\n",
       " 'Education': 10,\n",
       " 'Emergency+Management': 17,\n",
       " 'Energy': 15,\n",
       " 'Environmental+Protection': 12,\n",
       " 'Families': 28,\n",
       " 'Finance+and+Financial+Sector': 11,\n",
       " 'Foreign+Trade+and+International+Finance': 27,\n",
       " 'Government+Operations+and+Politics': 1,\n",
       " 'Health': 0,\n",
       " 'Housing+and+Community+Development': 22,\n",
       " 'Immigration': 8,\n",
       " 'International+Affairs': 5,\n",
       " 'Labor+and+Employment': 13,\n",
       " 'Law': 18,\n",
       " 'Native+Americans': 21,\n",
       " 'Public+Lands+and+Natural+Resources': 4,\n",
       " 'Science,+Technology,+Communications': 9,\n",
       " 'Social+Sciences+and+History': 31,\n",
       " 'Social+Welfare': 23,\n",
       " 'Sports+and+Recreation': 29,\n",
       " 'Taxation': 2,\n",
       " 'Transportation+and+Public+Works': 14,\n",
       " 'Water+Resources+Development': 24}"
      ]
     },
     "execution_count": 17,
     "metadata": {},
     "output_type": "execute_result"
    }
   ],
   "source": [
    "\n",
    "sub_list =['Health',\n",
    " 'Government+Operations+and+Politics',\n",
    " 'Taxation',\n",
    " 'Armed+Forces+and+National+Security',\n",
    " 'Public+Lands+and+Natural+Resources',\n",
    " 'International+Affairs',\n",
    " 'Congress',\n",
    " 'Crime+and+Law+Enforcement',\n",
    " 'Immigration',\n",
    " 'Science,+Technology,+Communications',\n",
    " 'Education',\n",
    " 'Finance+and+Financial+Sector',\n",
    " 'Environmental+Protection',\n",
    " 'Labor+and+Employment',\n",
    " 'Transportation+and+Public+Works',\n",
    " 'Energy',\n",
    " 'Civil+Rights+and+Liberties,+Minority+Issues',\n",
    " 'Emergency+Management',\n",
    " 'Law',\n",
    " 'Economics+and+Public+Finance',\n",
    " 'Commerce',\n",
    " 'Native+Americans',\n",
    " 'Housing+and+Community+Development',\n",
    " 'Social+Welfare',\n",
    " 'Water+Resources+Development',\n",
    " 'Agriculture+and+Food',\n",
    " 'Animals',\n",
    " 'Foreign+Trade+and+International+Finance',\n",
    " 'Families',\n",
    " 'Sports+and+Recreation',\n",
    " 'Arts,+Culture,+Religion',\n",
    " 'Social+Sciences+and+History']\n",
    "\n",
    "sub_dict = {}\n",
    "for i in range(len(sub_list)):\n",
    "    sub_dict[sub_list[i]] = i\n",
    "\n",
    "sub_dict\n",
    "\n"
   ]
  },
  {
   "cell_type": "code",
   "execution_count": null,
   "metadata": {
    "collapsed": true
   },
   "outputs": [],
   "source": []
  },
  {
   "cell_type": "code",
   "execution_count": 19,
   "metadata": {
    "collapsed": false
   },
   "outputs": [],
   "source": [
    "df_presidential = spark.read.json('s3a://usfocus/presidential-full-final.json')"
   ]
  },
  {
   "cell_type": "code",
   "execution_count": null,
   "metadata": {
    "collapsed": true
   },
   "outputs": [],
   "source": []
  },
  {
   "cell_type": "code",
   "execution_count": 20,
   "metadata": {
    "collapsed": false
   },
   "outputs": [
    {
     "data": {
      "text/plain": [
       "975"
      ]
     },
     "execution_count": 20,
     "metadata": {},
     "output_type": "execute_result"
    }
   ],
   "source": [
    "df_presidential.count()"
   ]
  },
  {
   "cell_type": "code",
   "execution_count": null,
   "metadata": {
    "collapsed": true
   },
   "outputs": [],
   "source": []
  },
  {
   "cell_type": "code",
   "execution_count": null,
   "metadata": {
    "collapsed": true
   },
   "outputs": [],
   "source": []
  },
  {
   "cell_type": "code",
   "execution_count": 21,
   "metadata": {
    "collapsed": false
   },
   "outputs": [],
   "source": [
    "df_presidential = df_presidential.filter(df_presidential['content'] != 'null')"
   ]
  },
  {
   "cell_type": "code",
   "execution_count": null,
   "metadata": {
    "collapsed": true
   },
   "outputs": [],
   "source": []
  },
  {
   "cell_type": "code",
   "execution_count": null,
   "metadata": {
    "collapsed": true
   },
   "outputs": [],
   "source": []
  },
  {
   "cell_type": "code",
   "execution_count": 22,
   "metadata": {
    "collapsed": false
   },
   "outputs": [
    {
     "data": {
      "text/plain": [
       "974"
      ]
     },
     "execution_count": 22,
     "metadata": {},
     "output_type": "execute_result"
    }
   ],
   "source": [
    "df_presidential.count()"
   ]
  },
  {
   "cell_type": "code",
   "execution_count": null,
   "metadata": {
    "collapsed": true
   },
   "outputs": [],
   "source": []
  },
  {
   "cell_type": "code",
   "execution_count": 23,
   "metadata": {
    "collapsed": true
   },
   "outputs": [],
   "source": [
    "model_stem_pre = pipe_stem.fit(df_presidential)"
   ]
  },
  {
   "cell_type": "code",
   "execution_count": 24,
   "metadata": {
    "collapsed": false
   },
   "outputs": [],
   "source": [
    "df_pres_stem = model_stem_pre.transform(df_presidential)"
   ]
  },
  {
   "cell_type": "code",
   "execution_count": null,
   "metadata": {
    "collapsed": true
   },
   "outputs": [],
   "source": []
  },
  {
   "cell_type": "code",
   "execution_count": 25,
   "metadata": {
    "collapsed": true
   },
   "outputs": [],
   "source": [
    "df_pre_2grams = grams2.transform(df_pres_stem)"
   ]
  },
  {
   "cell_type": "code",
   "execution_count": 26,
   "metadata": {
    "collapsed": false
   },
   "outputs": [],
   "source": [
    "Vector_presidential_2grams = cv_model_2grams.transform(df_pre_2grams)"
   ]
  },
  {
   "cell_type": "code",
   "execution_count": null,
   "metadata": {
    "collapsed": true
   },
   "outputs": [],
   "source": []
  },
  {
   "cell_type": "code",
   "execution_count": 27,
   "metadata": {
    "collapsed": false
   },
   "outputs": [
    {
     "name": "stdout",
     "output_type": "stream",
     "text": [
      "root\n",
      " |-- _corrupt_record: string (nullable = true)\n",
      " |-- _id: struct (nullable = true)\n",
      " |    |-- $oid: string (nullable = true)\n",
      " |-- content: string (nullable = true)\n",
      " |-- date: string (nullable = true)\n",
      " |-- link: string (nullable = true)\n",
      " |-- speech_title: string (nullable = true)\n",
      " |-- tokens: array (nullable = true)\n",
      " |    |-- element: string (containsNull = true)\n",
      " |-- tokens_nostopwords: array (nullable = true)\n",
      " |    |-- element: string (containsNull = true)\n",
      " |-- tokens_stemmed: array (nullable = true)\n",
      " |    |-- element: string (containsNull = true)\n",
      " |-- tokens_2grams: array (nullable = true)\n",
      " |    |-- element: string (containsNull = false)\n",
      " |-- tokens2grams_countvectorized: vector (nullable = true)\n",
      "\n"
     ]
    }
   ],
   "source": [
    "Vector_presidential_2grams.printSchema()"
   ]
  },
  {
   "cell_type": "code",
   "execution_count": 28,
   "metadata": {
    "collapsed": true
   },
   "outputs": [],
   "source": [
    "df_tfidf_pre_2grams = model_idf2grams.transform(Vector_presidential_2grams)"
   ]
  },
  {
   "cell_type": "code",
   "execution_count": 29,
   "metadata": {
    "collapsed": false
   },
   "outputs": [
    {
     "name": "stdout",
     "output_type": "stream",
     "text": [
      "root\n",
      " |-- _corrupt_record: string (nullable = true)\n",
      " |-- _id: struct (nullable = true)\n",
      " |    |-- $oid: string (nullable = true)\n",
      " |-- content: string (nullable = true)\n",
      " |-- date: string (nullable = true)\n",
      " |-- link: string (nullable = true)\n",
      " |-- speech_title: string (nullable = true)\n",
      " |-- tokens: array (nullable = true)\n",
      " |    |-- element: string (containsNull = true)\n",
      " |-- tokens_nostopwords: array (nullable = true)\n",
      " |    |-- element: string (containsNull = true)\n",
      " |-- tokens_stemmed: array (nullable = true)\n",
      " |    |-- element: string (containsNull = true)\n",
      " |-- tokens_2grams: array (nullable = true)\n",
      " |    |-- element: string (containsNull = false)\n",
      " |-- tokens2grams_countvectorized: vector (nullable = true)\n",
      " |-- token2grams_idf: vector (nullable = true)\n",
      "\n"
     ]
    }
   ],
   "source": [
    "df_tfidf_pre_2grams.printSchema()"
   ]
  },
  {
   "cell_type": "code",
   "execution_count": 18,
   "metadata": {
    "collapsed": true
   },
   "outputs": [],
   "source": [
    "topicWord=udf(lambda tkn: sub_dict[tkn],IntegerType())"
   ]
  },
  {
   "cell_type": "code",
   "execution_count": null,
   "metadata": {
    "collapsed": true
   },
   "outputs": [],
   "source": []
  },
  {
   "cell_type": "code",
   "execution_count": 19,
   "metadata": {
    "collapsed": true
   },
   "outputs": [],
   "source": [
    "df_tfidf_2grams=df_tfidf_2grams.withColumn(\"label\",topicWord(df_tfidf_2grams.subject))"
   ]
  },
  {
   "cell_type": "code",
   "execution_count": 20,
   "metadata": {
    "collapsed": false
   },
   "outputs": [
    {
     "name": "stdout",
     "output_type": "stream",
     "text": [
      "root\n",
      " |-- content: string (nullable = true)\n",
      " |-- subject: string (nullable = true)\n",
      " |-- dates: string (nullable = true)\n",
      " |-- name: string (nullable = true)\n",
      " |-- congress: double (nullable = true)\n",
      " |-- tokens: array (nullable = true)\n",
      " |    |-- element: string (containsNull = true)\n",
      " |-- tokens_nostopwords: array (nullable = true)\n",
      " |    |-- element: string (containsNull = true)\n",
      " |-- tokens_stemmed: array (nullable = true)\n",
      " |    |-- element: string (containsNull = true)\n",
      " |-- tokens_2grams: array (nullable = true)\n",
      " |    |-- element: string (containsNull = false)\n",
      " |-- tokens2grams_countvectorized: vector (nullable = true)\n",
      " |-- token2grams_idf: vector (nullable = true)\n",
      " |-- label: integer (nullable = true)\n",
      "\n"
     ]
    }
   ],
   "source": [
    "df_tfidf_2grams.printSchema()"
   ]
  },
  {
   "cell_type": "code",
   "execution_count": null,
   "metadata": {
    "collapsed": true
   },
   "outputs": [],
   "source": []
  },
  {
   "cell_type": "code",
   "execution_count": 35,
   "metadata": {
    "collapsed": true
   },
   "outputs": [],
   "source": [
    "#df_tfidf.write.json('s3a://usfocus/congress_tfidf_2nd.json')"
   ]
  },
  {
   "cell_type": "code",
   "execution_count": null,
   "metadata": {
    "collapsed": true
   },
   "outputs": [],
   "source": []
  },
  {
   "cell_type": "code",
   "execution_count": 21,
   "metadata": {
    "collapsed": true
   },
   "outputs": [],
   "source": [
    "from pyspark.ml.classification import NaiveBayes"
   ]
  },
  {
   "cell_type": "code",
   "execution_count": 22,
   "metadata": {
    "collapsed": true
   },
   "outputs": [],
   "source": [
    "nb = NaiveBayes(smoothing=1.0, modelType=\"multinomial\",featuresCol=\"token2grams_idf\", labelCol=\"label\")"
   ]
  },
  {
   "cell_type": "code",
   "execution_count": 69,
   "metadata": {
    "collapsed": true
   },
   "outputs": [],
   "source": [
    "splits = df_tfidf_2grams.randomSplit([0.7, 0.3])"
   ]
  },
  {
   "cell_type": "code",
   "execution_count": 70,
   "metadata": {
    "collapsed": true
   },
   "outputs": [],
   "source": [
    "df_train = splits[0]\n",
    "df_test = splits[1]"
   ]
  },
  {
   "cell_type": "code",
   "execution_count": 71,
   "metadata": {
    "collapsed": false
   },
   "outputs": [],
   "source": [
    "#df_train.count(), df_test.count(), df_transformed.count()"
   ]
  },
  {
   "cell_type": "code",
   "execution_count": 72,
   "metadata": {
    "collapsed": false
   },
   "outputs": [
    {
     "data": {
      "text/plain": [
       "DataFrame[content: string, subject: string, dates: string, name: string, congress: double, tokens: array<string>, tokens_nostopwords: array<string>, tokens_stemmed: array<string>, tokens_2grams: array<string>, tokens2grams_countvectorized: vector, token2grams_idf: vector, label: int]"
      ]
     },
     "execution_count": 72,
     "metadata": {},
     "output_type": "execute_result"
    }
   ],
   "source": [
    "df_train.persist()"
   ]
  },
  {
   "cell_type": "code",
   "execution_count": 73,
   "metadata": {
    "collapsed": false
   },
   "outputs": [
    {
     "data": {
      "text/plain": [
       "DataFrame[content: string, subject: string, dates: string, name: string, congress: double, tokens: array<string>, tokens_nostopwords: array<string>, tokens_stemmed: array<string>, tokens_2grams: array<string>, tokens2grams_countvectorized: vector, token2grams_idf: vector, label: int]"
      ]
     },
     "execution_count": 73,
     "metadata": {},
     "output_type": "execute_result"
    }
   ],
   "source": [
    "df_test.persist()"
   ]
  },
  {
   "cell_type": "code",
   "execution_count": 28,
   "metadata": {
    "collapsed": true
   },
   "outputs": [],
   "source": [
    "from pyspark.ml.evaluation import MulticlassClassificationEvaluator"
   ]
  },
  {
   "cell_type": "code",
   "execution_count": 29,
   "metadata": {
    "collapsed": true
   },
   "outputs": [],
   "source": [
    "model = nb.fit(df_train)\n",
    "\n",
    "# apply the model on the test setM\n",
    "result = model.transform(df_test)"
   ]
  },
  {
   "cell_type": "code",
   "execution_count": 30,
   "metadata": {
    "collapsed": false
   },
   "outputs": [
    {
     "name": "stdout",
     "output_type": "stream",
     "text": [
      "Accuracy: 0.740132656404\n"
     ]
    }
   ],
   "source": [
    "# keep only label and prediction to compute accuracy\n",
    "predictionAndLabels = result.select(\"prediction\", \"label\")\n",
    "\n",
    "# compute accuracy on the test set\n",
    "evaluator = MulticlassClassificationEvaluator(labelCol=\"label\", predictionCol=\"prediction\",\n",
    "                                                  metricName=\"accuracy\")\n",
    "\n",
    "print(\"Accuracy: {}\".format(evaluator.evaluate(predictionAndLabels)))"
   ]
  },
  {
   "cell_type": "code",
   "execution_count": null,
   "metadata": {
    "collapsed": true
   },
   "outputs": [],
   "source": []
  },
  {
   "cell_type": "code",
   "execution_count": 49,
   "metadata": {
    "collapsed": true
   },
   "outputs": [],
   "source": [
    "thetaarray = model.theta.toArray().T"
   ]
  },
  {
   "cell_type": "code",
   "execution_count": null,
   "metadata": {
    "collapsed": true
   },
   "outputs": [],
   "source": [
    "import numpy as np"
   ]
  },
  {
   "cell_type": "code",
   "execution_count": null,
   "metadata": {
    "collapsed": true
   },
   "outputs": [],
   "source": [
    "1+1"
   ]
  },
  {
   "cell_type": "code",
   "execution_count": null,
   "metadata": {
    "collapsed": true
   },
   "outputs": [],
   "source": []
  },
  {
   "cell_type": "code",
   "execution_count": 51,
   "metadata": {
    "collapsed": false
   },
   "outputs": [
    {
     "data": {
      "text/plain": [
       "(5000, 32)"
      ]
     },
     "execution_count": 51,
     "metadata": {},
     "output_type": "execute_result"
    }
   ],
   "source": [
    "thetaarray.shape"
   ]
  },
  {
   "cell_type": "code",
   "execution_count": 52,
   "metadata": {
    "collapsed": false
   },
   "outputs": [
    {
     "data": {
      "text/plain": [
       "array([-6.44590418, -6.43343054, -5.85717183, -6.52351288, -7.02232651,\n",
       "       -7.08194578, -6.85005214, -6.53172559, -6.29349743, -6.92021564,\n",
       "       -6.64341211, -6.49222054, -6.73765527, -6.28748885, -6.48646872,\n",
       "       -6.71948854, -6.67430144, -6.7454701 , -6.58944382, -6.53970928,\n",
       "       -6.59213549, -6.85835928, -6.28178018, -6.25293172, -7.0096497 ,\n",
       "       -6.66029902, -6.72710336, -6.72332243, -6.44808934, -7.16209552,\n",
       "       -7.06001318, -8.58070375])"
      ]
     },
     "execution_count": 52,
     "metadata": {},
     "output_type": "execute_result"
    }
   ],
   "source": [
    "thetaarray[0]"
   ]
  },
  {
   "cell_type": "code",
   "execution_count": null,
   "metadata": {
    "collapsed": true
   },
   "outputs": [],
   "source": []
  },
  {
   "cell_type": "code",
   "execution_count": 31,
   "metadata": {
    "collapsed": false
   },
   "outputs": [],
   "source": [
    "from sklearn.metrics import confusion_matrix"
   ]
  },
  {
   "cell_type": "code",
   "execution_count": 32,
   "metadata": {
    "collapsed": false
   },
   "outputs": [
    {
     "name": "stdout",
     "output_type": "stream",
     "text": [
      "root\n",
      " |-- content: string (nullable = true)\n",
      " |-- subject: string (nullable = true)\n",
      " |-- dates: string (nullable = true)\n",
      " |-- name: string (nullable = true)\n",
      " |-- congress: double (nullable = true)\n",
      " |-- tokens: array (nullable = true)\n",
      " |    |-- element: string (containsNull = true)\n",
      " |-- tokens_nostopwords: array (nullable = true)\n",
      " |    |-- element: string (containsNull = true)\n",
      " |-- tokens_stemmed: array (nullable = true)\n",
      " |    |-- element: string (containsNull = true)\n",
      " |-- tokens_2grams: array (nullable = true)\n",
      " |    |-- element: string (containsNull = false)\n",
      " |-- tokens2grams_countvectorized: vector (nullable = true)\n",
      " |-- token2grams_idf: vector (nullable = true)\n",
      " |-- label: integer (nullable = true)\n",
      " |-- rawPrediction: vector (nullable = true)\n",
      " |-- probability: vector (nullable = true)\n",
      " |-- prediction: double (nullable = true)\n",
      "\n"
     ]
    }
   ],
   "source": [
    "result.printSchema()"
   ]
  },
  {
   "cell_type": "code",
   "execution_count": 33,
   "metadata": {
    "collapsed": false
   },
   "outputs": [],
   "source": [
    "import itertools\n",
    "import matplotlib.pyplot as plt\n",
    "%matplotlib inline\n",
    "def plot_confusion_matrix(cm, classes,\n",
    "                          normalize=True,\n",
    "                          title='Confusion matrix',\n",
    "                          cmap=plt.cm.PuRd):\n",
    "    \"\"\"\n",
    "    This function prints and plots the confusion matrix.\n",
    "    Normalization can be applied by setting `normalize=True`.\n",
    "    \"\"\"\n",
    "    plt.imshow(cm, interpolation='nearest', cmap=cmap)\n",
    "    plt.title(title)\n",
    "    #plt.colorbar()\n",
    "    tick_marks = np.arange(len(classes))\n",
    "    plt.xticks(tick_marks, classes, fontsize=8,fontweight='heavy',rotation=90)\n",
    "    plt.yticks(tick_marks, classes,fontsize=8,fontweight='heavy')\n",
    "\n",
    "    if normalize:\n",
    "        cm = cm.astype('float') / cm.sum(axis=1)[:, np.newaxis]\n",
    "        print(\"Normalized confusion matrix\")\n",
    "    else:\n",
    "        print('Confusion matrix, without normalization')\n",
    "\n",
    "    print(cm)\n",
    "\n",
    "    thresh = cm.max() / 2.\n",
    "    #for i, j in itertools.product(range(cm.shape[0]), range(cm.shape[1])):\n",
    "    #    plt.text(j, i, cm[i, j],\n",
    "    #             horizontalalignment=\"center\",\n",
    "    #             color=\"white\" if cm[i, j] > thresh else \"black\")\n",
    "\n",
    "    plt.tight_layout()\n",
    "    plt.ylabel('True label')\n",
    "    plt.xlabel('Predicted label')\n",
    "    plt.figure(figsize=(20,20),dpi=1000)\n"
   ]
  },
  {
   "cell_type": "code",
   "execution_count": 34,
   "metadata": {
    "collapsed": false
   },
   "outputs": [],
   "source": [
    "true_label = result.select('label').collect()\n",
    "\n",
    "predict_label = result.select('prediction').collect()"
   ]
  },
  {
   "cell_type": "code",
   "execution_count": 35,
   "metadata": {
    "collapsed": false
   },
   "outputs": [
    {
     "data": {
      "text/plain": [
       "(24424, 24424)"
      ]
     },
     "execution_count": 35,
     "metadata": {},
     "output_type": "execute_result"
    }
   ],
   "source": [
    "len(true_label),len(predict_label)"
   ]
  },
  {
   "cell_type": "code",
   "execution_count": 36,
   "metadata": {
    "collapsed": false
   },
   "outputs": [],
   "source": [
    "confusion_matrix_nb = confusion_matrix(np.array(true_label), np.array(predict_label))"
   ]
  },
  {
   "cell_type": "code",
   "execution_count": 37,
   "metadata": {
    "collapsed": false
   },
   "outputs": [
    {
     "data": {
      "text/plain": [
       "array([[1569,    7,   14, ...,   24,    1,   79],\n",
       "       [  15,  996,   13, ...,   38,   19,  100],\n",
       "       [  15,   20, 2175, ...,    3,    0,   13],\n",
       "       ..., \n",
       "       [   0,    0,    0, ...,   32,    0,   15],\n",
       "       [   0,    0,    0, ...,    0,   41,   39],\n",
       "       [   0,    0,    0, ...,    0,    0,   32]])"
      ]
     },
     "execution_count": 37,
     "metadata": {},
     "output_type": "execute_result"
    }
   ],
   "source": [
    "confusion_matrix_nb"
   ]
  },
  {
   "cell_type": "code",
   "execution_count": 38,
   "metadata": {
    "collapsed": false
   },
   "outputs": [],
   "source": [
    "subject_ordered = sorted(sub_dict,key=sub_dict.get)"
   ]
  },
  {
   "cell_type": "code",
   "execution_count": 39,
   "metadata": {
    "collapsed": true
   },
   "outputs": [],
   "source": [
    "label_list=range(0,32)"
   ]
  },
  {
   "cell_type": "code",
   "execution_count": null,
   "metadata": {
    "collapsed": true
   },
   "outputs": [],
   "source": []
  },
  {
   "cell_type": "code",
   "execution_count": 40,
   "metadata": {
    "collapsed": false
   },
   "outputs": [
    {
     "name": "stdout",
     "output_type": "stream",
     "text": [
      "Normalized confusion matrix\n",
      "[[  7.52157239e-01   3.35570470e-03   6.71140940e-03 ...,   1.15052733e-02\n",
      "    4.79386385e-04   3.78715244e-02]\n",
      " [  8.30564784e-03   5.51495017e-01   7.19822813e-03 ...,   2.10409745e-02\n",
      "    1.05204873e-02   5.53709856e-02]\n",
      " [  6.39931741e-03   8.53242321e-03   9.27901024e-01 ...,   1.27986348e-03\n",
      "    0.00000000e+00   5.54607509e-03]\n",
      " ..., \n",
      " [  0.00000000e+00   0.00000000e+00   0.00000000e+00 ...,   4.44444444e-01\n",
      "    0.00000000e+00   2.08333333e-01]\n",
      " [  0.00000000e+00   0.00000000e+00   0.00000000e+00 ...,   0.00000000e+00\n",
      "    3.62831858e-01   3.45132743e-01]\n",
      " [  0.00000000e+00   0.00000000e+00   0.00000000e+00 ...,   0.00000000e+00\n",
      "    0.00000000e+00   9.69696970e-01]]\n"
     ]
    },
    {
     "data": {
      "image/png": "[encoded data removed]",
      "text/plain": [
       "<matplotlib.figure.Figure at 0x7fd890e499d0>"
      ]
     },
     "metadata": {},
     "output_type": "display_data"
    },
    {
     "data": {
      "text/plain": [
       "<matplotlib.figure.Figure at 0x7fd88be1a490>"
      ]
     },
     "metadata": {},
     "output_type": "display_data"
    }
   ],
   "source": [
    "plot_confusion_matrix(confusion_matrix_nb,classes = label_list,normalize = True, title = 'Confusion matrix of MultinomialNB Model')"
   ]
  },
  {
   "cell_type": "code",
   "execution_count": 209,
   "metadata": {
    "collapsed": false
   },
   "outputs": [],
   "source": [
    "#df_tfidf.write.json('s3a://usfocus/congress_tfidf.json')"
   ]
  },
  {
   "cell_type": "code",
   "execution_count": null,
   "metadata": {
    "collapsed": true
   },
   "outputs": [],
   "source": []
  },
  {
   "cell_type": "code",
   "execution_count": null,
   "metadata": {
    "collapsed": false
   },
   "outputs": [],
   "source": [
    "#result.write.json('s3a://usfocus/result_tfidf.csv')"
   ]
  },
  {
   "cell_type": "code",
   "execution_count": 63,
   "metadata": {
    "collapsed": true
   },
   "outputs": [],
   "source": [
    "result_presidential = model.transform(df_tfidf_pre)"
   ]
  },
  {
   "cell_type": "code",
   "execution_count": 64,
   "metadata": {
    "collapsed": false
   },
   "outputs": [],
   "source": [
    "result_presidential = result_presidential.select('content','date','link','speech_title','tokens_countvectorized','tokens_stemmed','token_idf','rawPrediction','probability','prediction')"
   ]
  },
  {
   "cell_type": "code",
   "execution_count": 65,
   "metadata": {
    "collapsed": false
   },
   "outputs": [
    {
     "name": "stdout",
     "output_type": "stream",
     "text": [
      "root\n",
      " |-- content: string (nullable = true)\n",
      " |-- date: string (nullable = true)\n",
      " |-- link: string (nullable = true)\n",
      " |-- speech_title: string (nullable = true)\n",
      " |-- tokens_countvectorized: vector (nullable = true)\n",
      " |-- tokens_stemmed: array (nullable = true)\n",
      " |    |-- element: string (containsNull = true)\n",
      " |-- token_idf: vector (nullable = true)\n",
      " |-- rawPrediction: vector (nullable = true)\n",
      " |-- probability: vector (nullable = true)\n",
      " |-- prediction: double (nullable = true)\n",
      "\n"
     ]
    }
   ],
   "source": [
    "result_presidential.printSchema()"
   ]
  },
  {
   "cell_type": "code",
   "execution_count": null,
   "metadata": {
    "collapsed": true
   },
   "outputs": [],
   "source": []
  },
  {
   "cell_type": "code",
   "execution_count": 66,
   "metadata": {
    "collapsed": true
   },
   "outputs": [],
   "source": [
    "result_presidential.write.json('s3a://usfocus/result_presidential_tfidf.json')"
   ]
  },
  {
   "cell_type": "code",
   "execution_count": null,
   "metadata": {
    "collapsed": true
   },
   "outputs": [],
   "source": []
  },
  {
   "cell_type": "code",
   "execution_count": null,
   "metadata": {
    "collapsed": true
   },
   "outputs": [],
   "source": []
  },
  {
   "cell_type": "code",
   "execution_count": null,
   "metadata": {
    "collapsed": false
   },
   "outputs": [],
   "source": []
  },
  {
   "cell_type": "code",
   "execution_count": 74,
   "metadata": {
    "collapsed": true
   },
   "outputs": [],
   "source": [
    "from pyspark.ml.classification import LogisticRegression"
   ]
  },
  {
   "cell_type": "code",
   "execution_count": 75,
   "metadata": {
    "collapsed": false
   },
   "outputs": [],
   "source": [
    "LG = LogisticRegression(featuresCol=\"token2grams_idf\", labelCol=\"label\")"
   ]
  },
  {
   "cell_type": "code",
   "execution_count": 76,
   "metadata": {
    "collapsed": false
   },
   "outputs": [],
   "source": [
    "model_lg = LG.fit(df_train)\n",
    "\n",
    "# apply the model on the test setM\n",
    "result_lg = model_lg.transform(df_test)"
   ]
  },
  {
   "cell_type": "code",
   "execution_count": 77,
   "metadata": {
    "collapsed": false
   },
   "outputs": [
    {
     "name": "stdout",
     "output_type": "stream",
     "text": [
      "root\n",
      " |-- content: string (nullable = true)\n",
      " |-- subject: string (nullable = true)\n",
      " |-- dates: string (nullable = true)\n",
      " |-- name: string (nullable = true)\n",
      " |-- congress: double (nullable = true)\n",
      " |-- tokens: array (nullable = true)\n",
      " |    |-- element: string (containsNull = true)\n",
      " |-- tokens_nostopwords: array (nullable = true)\n",
      " |    |-- element: string (containsNull = true)\n",
      " |-- tokens_stemmed: array (nullable = true)\n",
      " |    |-- element: string (containsNull = true)\n",
      " |-- tokens_2grams: array (nullable = true)\n",
      " |    |-- element: string (containsNull = false)\n",
      " |-- tokens2grams_countvectorized: vector (nullable = true)\n",
      " |-- token2grams_idf: vector (nullable = true)\n",
      " |-- label: integer (nullable = true)\n",
      " |-- rawPrediction: vector (nullable = true)\n",
      " |-- probability: vector (nullable = true)\n",
      " |-- prediction: double (nullable = true)\n",
      "\n"
     ]
    }
   ],
   "source": [
    "result_lg.printSchema()"
   ]
  },
  {
   "cell_type": "code",
   "execution_count": null,
   "metadata": {
    "collapsed": true
   },
   "outputs": [],
   "source": []
  },
  {
   "cell_type": "code",
   "execution_count": 78,
   "metadata": {
    "collapsed": false
   },
   "outputs": [
    {
     "name": "stdout",
     "output_type": "stream",
     "text": [
      "Accuracy: 0.842786479802\n"
     ]
    }
   ],
   "source": [
    "# keep only label and prediction to compute accuracy\n",
    "predictionAndLabels_lg = result_lg.select(\"prediction\", \"label\")\n",
    "\n",
    "# compute accuracy on the test set\n",
    "evaluator_lg = MulticlassClassificationEvaluator(labelCol=\"label\", predictionCol=\"prediction\",\n",
    "                                                  metricName=\"accuracy\")\n",
    "\n",
    "print(\"Accuracy: {}\".format(evaluator_lg.evaluate(predictionAndLabels_lg)))"
   ]
  },
  {
   "cell_type": "code",
   "execution_count": null,
   "metadata": {
    "collapsed": true
   },
   "outputs": [],
   "source": []
  },
  {
   "cell_type": "code",
   "execution_count": 79,
   "metadata": {
    "collapsed": true
   },
   "outputs": [],
   "source": [
    "predict_label_lg = result_lg.select('prediction').collect()"
   ]
  },
  {
   "cell_type": "code",
   "execution_count": 80,
   "metadata": {
    "collapsed": false
   },
   "outputs": [
    {
     "data": {
      "text/plain": [
       "(24424, 24260)"
      ]
     },
     "execution_count": 80,
     "metadata": {},
     "output_type": "execute_result"
    }
   ],
   "source": [
    "len(true_label),len(predict_label_lg)"
   ]
  },
  {
   "cell_type": "code",
   "execution_count": null,
   "metadata": {
    "collapsed": true
   },
   "outputs": [],
   "source": []
  },
  {
   "cell_type": "code",
   "execution_count": 51,
   "metadata": {
    "collapsed": true
   },
   "outputs": [],
   "source": [
    "confusion_matrix_lg = confusion_matrix(np.array(true_label), np.array(predict_label_lg))"
   ]
  },
  {
   "cell_type": "code",
   "execution_count": 52,
   "metadata": {
    "collapsed": false
   },
   "outputs": [
    {
     "data": {
      "text/plain": [
       "array([[2010,    7,    6, ...,    3,    4,    0],\n",
       "       [   6, 1660,    2, ...,    2,    2,    0],\n",
       "       [   3,    4, 2311, ...,    0,    0,    0],\n",
       "       ..., \n",
       "       [   3,    1,    0, ...,   51,    0,    0],\n",
       "       [   5,   12,    0, ...,    1,   74,    0],\n",
       "       [   0,    6,    0, ...,    1,    3,   14]])"
      ]
     },
     "execution_count": 52,
     "metadata": {},
     "output_type": "execute_result"
    }
   ],
   "source": [
    "confusion_matrix_lg"
   ]
  },
  {
   "cell_type": "code",
   "execution_count": null,
   "metadata": {
    "collapsed": true
   },
   "outputs": [],
   "source": []
  },
  {
   "cell_type": "code",
   "execution_count": 68,
   "metadata": {
    "collapsed": false
   },
   "outputs": [
    {
     "name": "stdout",
     "output_type": "stream",
     "text": [
      "Normalized confusion matrix\n",
      "[[ 0.96356663  0.0033557   0.00287632 ...,  0.00143816  0.00191755  0.        ]\n",
      " [ 0.00332226  0.91915836  0.00110742 ...,  0.00110742  0.00110742  0.        ]\n",
      " [ 0.00127986  0.00170648  0.9859215  ...,  0.          0.          0.        ]\n",
      " ..., \n",
      " [ 0.04166667  0.01388889  0.         ...,  0.70833333  0.          0.        ]\n",
      " [ 0.04424779  0.10619469  0.         ...,  0.00884956  0.65486726  0.        ]\n",
      " [ 0.          0.18181818  0.         ...,  0.03030303  0.09090909\n",
      "   0.42424242]]\n"
     ]
    },
    {
     "data": {
      "image/png": "[encoded data removed]",
      "text/plain": [
       "<matplotlib.figure.Figure at 0x7fd88e253ed0>"
      ]
     },
     "metadata": {},
     "output_type": "display_data"
    },
    {
     "data": {
      "text/plain": [
       "<matplotlib.figure.Figure at 0x7fd88a305390>"
      ]
     },
     "metadata": {},
     "output_type": "display_data"
    }
   ],
   "source": [
    "plot_confusion_matrix(confusion_matrix_lg, classes = label_list,normalize = True, title = 'Confusion matrix of Log_Reg_2grams Model')"
   ]
  },
  {
   "cell_type": "code",
   "execution_count": null,
   "metadata": {
    "collapsed": true
   },
   "outputs": [],
   "source": []
  },
  {
   "cell_type": "code",
   "execution_count": null,
   "metadata": {
    "collapsed": true
   },
   "outputs": [],
   "source": []
  },
  {
   "cell_type": "code",
   "execution_count": null,
   "metadata": {
    "collapsed": true
   },
   "outputs": [],
   "source": []
  },
  {
   "cell_type": "code",
   "execution_count": 54,
   "metadata": {
    "collapsed": true
   },
   "outputs": [],
   "source": [
    "from pyspark.ml.classification import RandomForestClassifier"
   ]
  },
  {
   "cell_type": "code",
   "execution_count": 55,
   "metadata": {
    "collapsed": true
   },
   "outputs": [],
   "source": [
    "rf = RandomForestClassifier(featuresCol=\"token2grams_idf\", labelCol=\"label\")"
   ]
  },
  {
   "cell_type": "code",
   "execution_count": null,
   "metadata": {
    "collapsed": true
   },
   "outputs": [],
   "source": []
  },
  {
   "cell_type": "code",
   "execution_count": 56,
   "metadata": {
    "collapsed": true
   },
   "outputs": [],
   "source": [
    "model_rf = rf.fit(df_train)\n",
    "\n",
    "# apply the model on the test setM\n",
    "result_rf = model_rf.transform(df_test)"
   ]
  },
  {
   "cell_type": "code",
   "execution_count": 57,
   "metadata": {
    "collapsed": false
   },
   "outputs": [
    {
     "name": "stdout",
     "output_type": "stream",
     "text": [
      "root\n",
      " |-- content: string (nullable = true)\n",
      " |-- subject: string (nullable = true)\n",
      " |-- dates: string (nullable = true)\n",
      " |-- name: string (nullable = true)\n",
      " |-- congress: double (nullable = true)\n",
      " |-- tokens: array (nullable = true)\n",
      " |    |-- element: string (containsNull = true)\n",
      " |-- tokens_nostopwords: array (nullable = true)\n",
      " |    |-- element: string (containsNull = true)\n",
      " |-- tokens_stemmed: array (nullable = true)\n",
      " |    |-- element: string (containsNull = true)\n",
      " |-- tokens_2grams: array (nullable = true)\n",
      " |    |-- element: string (containsNull = false)\n",
      " |-- tokens2grams_countvectorized: vector (nullable = true)\n",
      " |-- token2grams_idf: vector (nullable = true)\n",
      " |-- label: integer (nullable = true)\n",
      " |-- rawPrediction: vector (nullable = true)\n",
      " |-- probability: vector (nullable = true)\n",
      " |-- prediction: double (nullable = true)\n",
      "\n"
     ]
    }
   ],
   "source": [
    "result_rf.printSchema()"
   ]
  },
  {
   "cell_type": "code",
   "execution_count": null,
   "metadata": {
    "collapsed": true
   },
   "outputs": [],
   "source": []
  },
  {
   "cell_type": "code",
   "execution_count": 58,
   "metadata": {
    "collapsed": false
   },
   "outputs": [
    {
     "name": "stdout",
     "output_type": "stream",
     "text": [
      "Accuracy: 0.448861775303\n"
     ]
    }
   ],
   "source": [
    "# keep only label and prediction to compute accuracy\n",
    "predictionAndLabels_rf = result_rf.select(\"prediction\", \"label\")\n",
    "\n",
    "# compute accuracy on the test set\n",
    "evaluator_rf = MulticlassClassificationEvaluator(labelCol=\"label\", predictionCol=\"prediction\",\n",
    "                                                  metricName=\"accuracy\")\n",
    "\n",
    "print(\"Accuracy: {}\".format(evaluator_rf.evaluate(predictionAndLabels_rf)))"
   ]
  },
  {
   "cell_type": "code",
   "execution_count": null,
   "metadata": {
    "collapsed": true
   },
   "outputs": [],
   "source": []
  },
  {
   "cell_type": "code",
   "execution_count": 59,
   "metadata": {
    "collapsed": true
   },
   "outputs": [],
   "source": [
    "predict_label_rf = result_rf.select('prediction').collect()"
   ]
  },
  {
   "cell_type": "code",
   "execution_count": null,
   "metadata": {
    "collapsed": true
   },
   "outputs": [],
   "source": []
  },
  {
   "cell_type": "code",
   "execution_count": 60,
   "metadata": {
    "collapsed": false
   },
   "outputs": [
    {
     "data": {
      "text/plain": [
       "(24424, 24424)"
      ]
     },
     "execution_count": 60,
     "metadata": {},
     "output_type": "execute_result"
    }
   ],
   "source": [
    "\n",
    "\n",
    "len(true_label),len(predict_label_rf)"
   ]
  },
  {
   "cell_type": "code",
   "execution_count": null,
   "metadata": {
    "collapsed": true
   },
   "outputs": [],
   "source": []
  },
  {
   "cell_type": "code",
   "execution_count": null,
   "metadata": {
    "collapsed": true
   },
   "outputs": [],
   "source": []
  },
  {
   "cell_type": "code",
   "execution_count": 61,
   "metadata": {
    "collapsed": true
   },
   "outputs": [],
   "source": [
    "confusion_matrix_rf = confusion_matrix(np.array(true_label), np.array(predict_label_rf))"
   ]
  },
  {
   "cell_type": "code",
   "execution_count": 62,
   "metadata": {
    "collapsed": false
   },
   "outputs": [
    {
     "data": {
      "text/plain": [
       "array([[1768,  148,   53, ...,    0,    0,    0],\n",
       "       [ 128, 1365,  113, ...,    0,    0,    0],\n",
       "       [  22,   60, 2228, ...,    0,    0,    0],\n",
       "       ..., \n",
       "       [   9,   35,    1, ...,    0,    0,    0],\n",
       "       [   6,   76,    0, ...,    0,    0,    0],\n",
       "       [   1,   24,    0, ...,    0,    0,    0]])"
      ]
     },
     "execution_count": 62,
     "metadata": {},
     "output_type": "execute_result"
    }
   ],
   "source": [
    "confusion_matrix_rf"
   ]
  },
  {
   "cell_type": "code",
   "execution_count": null,
   "metadata": {
    "collapsed": true
   },
   "outputs": [],
   "source": []
  },
  {
   "cell_type": "code",
   "execution_count": null,
   "metadata": {
    "collapsed": true
   },
   "outputs": [],
   "source": []
  },
  {
   "cell_type": "code",
   "execution_count": 63,
   "metadata": {
    "collapsed": false
   },
   "outputs": [
    {
     "name": "stdout",
     "output_type": "stream",
     "text": [
      "Normalized confusion matrix\n",
      "[[ 0.84755513  0.07094919  0.02540748 ...,  0.          0.          0.        ]\n",
      " [ 0.07087486  0.75581395  0.06256921 ...,  0.          0.          0.        ]\n",
      " [ 0.00938567  0.02559727  0.95051195 ...,  0.          0.          0.        ]\n",
      " ..., \n",
      " [ 0.125       0.48611111  0.01388889 ...,  0.          0.          0.        ]\n",
      " [ 0.05309735  0.67256637  0.         ...,  0.          0.          0.        ]\n",
      " [ 0.03030303  0.72727273  0.         ...,  0.          0.          0.        ]]\n"
     ]
    },
    {
     "data": {
      "image/png": "[encoded data removed]",
      "text/plain": [
       "<matplotlib.figure.Figure at 0x7fd88be07490>"
      ]
     },
     "metadata": {},
     "output_type": "display_data"
    },
    {
     "data": {
      "text/plain": [
       "<matplotlib.figure.Figure at 0x7fd88be6ea10>"
      ]
     },
     "metadata": {},
     "output_type": "display_data"
    }
   ],
   "source": [
    "plot_confusion_matrix(confusion_matrix_rf, classes = label_list,normalize = True, title = 'Confusion matrix of RandomForest Model')"
   ]
  },
  {
   "cell_type": "code",
   "execution_count": 93,
   "metadata": {
    "collapsed": false
   },
   "outputs": [
    {
     "name": "stdout",
     "output_type": "stream",
     "text": [
      "+--------------------+------------------+--------------------+--------------------+----------------------+--------------------+--------------------+--------------------+--------------------+----------+\n",
      "|             content|              date|                link|        speech_title|tokens_countvectorized|      tokens_stemmed|           token_idf|       rawPrediction|         probability|prediction|\n",
      "+--------------------+------------------+--------------------+--------------------+----------------------+--------------------+--------------------+--------------------+--------------------+----------+\n",
      "|Thank you.  (Appl...|    March 22, 2016|https://millercen...| Remarks to the P...|  (5000,[2,8,10,11,...|[thank, applaus, ...|(5000,[2,8,10,11,...|[-42859.721236114...|[0.0,0.0,0.0,0.0,...|       5.0|\n",
      "|Mr. Speaker, Mr. ...|  January 12, 2016|https://millercen...| 2016 State of th...|  (5000,[2,3,8,9,10...|[speaker, vice, p...|(5000,[2,3,8,9,10...|[-59222.646246769...|[0.0,0.0,0.0,0.0,...|       5.0|\n",
      "|THE PRESIDENT:  G...|     June 26, 2015|https://millercen...| Remarks in Eulog...|  (5000,[2,3,8,10,1...|[presid, give, pr...|(5000,[2,3,8,10,1...|[-26873.719393923...|[0.0,0.0,0.0,0.0,...|      31.0|\n",
      "|UDIENCE MEMBER:  ...|     March 7, 2015|https://millercen...| Remarks at the 5...|  (5000,[1,2,3,4,8,...|[udienc, member, ...|(5000,[1,2,3,4,8,...|[-35196.955875680...|[0.0,0.0,0.0,0.0,...|      31.0|\n",
      "|Mr. Speaker, Mr. ...|  January 20, 2015|https://millercen...| 2015 State of th...|  (5000,[2,3,8,9,10...|[speaker, vice, p...|(5000,[2,3,8,9,10...|[-69514.423451773...|[0.0,0.0,0.0,0.0,...|       5.0|\n",
      "|My fellow America...| November 20, 2014|https://millercen...| Address to the N...|  (5000,[1,2,3,7,9,...|[fellow, american...|(5000,[1,2,3,7,9,...|[-19596.174239310...|[0.0,0.0,0.0,0.0,...|       5.0|\n",
      "|Mr. Speaker, Mr. ...|  January 28, 2014|https://millercen...| 2014 State of th...|  (5000,[2,3,8,10,1...|[speaker, vice, p...|(5000,[2,3,8,10,1...|[-74599.701541470...|[0.0,0.0,0.0,0.0,...|       5.0|\n",
      "|Thank you.  (Appl...|  December 4, 2013|https://millercen...| Speech on Econom...|  (5000,[2,3,4,9,10...|[thank, applaus, ...|(5000,[2,3,4,9,10...|[-63421.917340066...|[0.0,0.0,0.0,0.0,...|       5.0|\n",
      "|My fellow America...|September 10, 2013|https://millercen...| Address to the N...|  (5000,[2,3,4,8,9,...|[fellow, american...|(5000,[2,3,4,8,9,...|[-24428.296033556...|[0.0,0.0,0.0,0.0,...|       5.0|\n",
      "|Hello, Warrensbur...|     July 24, 2013|https://millercen...| Remarks on Educa...|  (5000,[2,3,8,9,10...|[hello, warrensbu...|(5000,[2,3,8,9,10...|[-39207.666594110...|[0.0,0.0,0.0,0.0,...|      10.0|\n",
      "|I wanted to come ...|     July 13, 2013|https://millercen...| Remarks on Trayv...|  (5000,[2,10,11,15...|[want, come, firs...|(5000,[2,10,11,15...|[-17190.891936708...|[0.0,3.6601349724...|       7.0|\n",
      "|Hello, Connecticu...|     April 8, 2013|https://millercen...| Speech on Gun Vi...|  (5000,[2,3,7,8,10...|[hello, connectic...|(5000,[2,3,7,8,10...|[-26382.204156710...|[0.0,0.0,0.0,0.0,...|       7.0|\n",
      "|Thank you.  (Appl...|    March 21, 2013|https://millercen...| Address to the P...|  (5000,[2,3,8,9,10...|[thank, applaus, ...|(5000,[2,3,8,9,10...|[-55815.869156393...|[0.0,0.0,0.0,0.0,...|       5.0|\n",
      "|Good morning, eve...|     March 1, 2013|https://millercen...| Statement on the...|  (5000,[2,3,9,10,1...|[good, morn, ever...|(5000,[2,3,9,10,1...|[-46726.068920343...|[0.0,0.0,0.0,0.0,...|       5.0|\n",
      "|Mr. Speaker, Mr. ...| February 13, 2013|https://millercen...| 2013 State of th...|  (5000,[2,3,4,7,8,...|[speaker, vice, p...|(5000,[2,3,4,7,8,...|[-71470.937139208...|[0.0,0.0,0.0,0.0,...|       5.0|\n",
      "|Thank you!  (Appl...|  January 29, 2013|https://millercen...| Remarks on Immig...|  (5000,[2,3,4,8,9,...|[thank, applaus, ...|(5000,[2,3,4,8,9,...|[-27427.848719596...|[0.0,0.0,0.0,0.0,...|      31.0|\n",
      "|Vice President Bi...|  January 21, 2013|https://millercen...| Second Inaugural...|  (5000,[2,3,8,10,1...|[vice, presid, bi...|(5000,[2,3,8,10,1...|[-20253.615928125...|[0.0,0.0,0.0,0.0,...|      31.0|\n",
      "|Thank you.  (Appl...| December 16, 2012|https://millercen...| Remarks on Sandy...|  (5000,[2,3,8,9,10...|[thank, applaus, ...|(5000,[2,3,8,9,10...|[-12572.402649160...|[1.31485698723202...|       7.0|\n",
      "|Tonight, more tha...|  November 6, 2012|https://millercen...| 2012 Election Ni...|  (5000,[2,8,9,10,1...|[tonight, 200, ye...|(5000,[2,8,9,10,1...|[-20454.058694774...|[0.0,0.0,0.0,0.0,...|      31.0|\n",
      "|THE PRESIDENT:  T...| September 6, 2012|https://millercen...| Nominee Acceptan...|  (5000,[2,8,9,10,1...|[presid, thank, a...|(5000,[2,8,9,10,1...|[-45888.930407280...|[0.0,0.0,0.0,0.0,...|       5.0|\n",
      "+--------------------+------------------+--------------------+--------------------+----------------------+--------------------+--------------------+--------------------+--------------------+----------+\n",
      "only showing top 20 rows\n",
      "\n"
     ]
    }
   ],
   "source": [
    "result_presidential.show()"
   ]
  },
  {
   "cell_type": "code",
   "execution_count": 97,
   "metadata": {
    "collapsed": false
   },
   "outputs": [
    {
     "name": "stdout",
     "output_type": "stream",
     "text": [
      "root\n",
      " |-- content: string (nullable = true)\n",
      " |-- date: string (nullable = true)\n",
      " |-- link: string (nullable = true)\n",
      " |-- speech_title: string (nullable = true)\n",
      " |-- tokens_countvectorized: vector (nullable = true)\n",
      " |-- tokens_stemmed: array (nullable = true)\n",
      " |    |-- element: string (containsNull = true)\n",
      " |-- token_idf: vector (nullable = true)\n",
      " |-- rawPrediction: vector (nullable = true)\n",
      " |-- probability: vector (nullable = true)\n",
      " |-- prediction: double (nullable = true)\n",
      "\n"
     ]
    }
   ],
   "source": [
    "result_presidential.printSchema()"
   ]
  },
  {
   "cell_type": "code",
   "execution_count": 66,
   "metadata": {
    "collapsed": false
   },
   "outputs": [
    {
     "data": {
      "text/plain": [
       "(['Health',\n",
       "  'Government+Operations+and+Politics',\n",
       "  'Taxation',\n",
       "  'Armed+Forces+and+National+Security',\n",
       "  'Public+Lands+and+Natural+Resources',\n",
       "  'International+Affairs',\n",
       "  'Congress',\n",
       "  'Crime+and+Law+Enforcement'],\n",
       " 'Foreign+Trade+and+International+Finance')"
      ]
     },
     "execution_count": 66,
     "metadata": {},
     "output_type": "execute_result"
    }
   ],
   "source": [
    "subject_ordered[0:8], subject_ordered[27] "
   ]
  },
  {
   "cell_type": "code",
   "execution_count": 67,
   "metadata": {
    "collapsed": false
   },
   "outputs": [
    {
     "data": {
      "text/plain": [
       "['Families',\n",
       " 'Sports+and+Recreation',\n",
       " 'Arts,+Culture,+Religion',\n",
       " 'Social+Sciences+and+History']"
      ]
     },
     "execution_count": 67,
     "metadata": {},
     "output_type": "execute_result"
    }
   ],
   "source": [
    "subject_ordered[28:]"
   ]
  },
  {
   "cell_type": "code",
   "execution_count": 103,
   "metadata": {
    "collapsed": true
   },
   "outputs": [],
   "source": [
    "table_presidential_date_topic = result_presidential.select('date','prediction')"
   ]
  },
  {
   "cell_type": "code",
   "execution_count": 104,
   "metadata": {
    "collapsed": false
   },
   "outputs": [
    {
     "name": "stdout",
     "output_type": "stream",
     "text": [
      "+------------------+----------+\n",
      "|              date|prediction|\n",
      "+------------------+----------+\n",
      "|    March 22, 2016|       5.0|\n",
      "|  January 12, 2016|       5.0|\n",
      "|     June 26, 2015|      31.0|\n",
      "|     March 7, 2015|      31.0|\n",
      "|  January 20, 2015|       5.0|\n",
      "| November 20, 2014|       5.0|\n",
      "|  January 28, 2014|       5.0|\n",
      "|  December 4, 2013|       5.0|\n",
      "|September 10, 2013|       5.0|\n",
      "|     July 24, 2013|      10.0|\n",
      "|     July 13, 2013|       7.0|\n",
      "|     April 8, 2013|       7.0|\n",
      "|    March 21, 2013|       5.0|\n",
      "|     March 1, 2013|       5.0|\n",
      "| February 13, 2013|       5.0|\n",
      "|  January 29, 2013|      31.0|\n",
      "|  January 21, 2013|      31.0|\n",
      "| December 16, 2012|       7.0|\n",
      "|  November 6, 2012|      31.0|\n",
      "| September 6, 2012|       5.0|\n",
      "+------------------+----------+\n",
      "only showing top 20 rows\n",
      "\n"
     ]
    }
   ],
   "source": [
    "table_presidential_date_topic.show()"
   ]
  },
  {
   "cell_type": "code",
   "execution_count": 107,
   "metadata": {
    "collapsed": false
   },
   "outputs": [
    {
     "name": "stdout",
     "output_type": "stream",
     "text": [
      "root\n",
      " |-- date: string (nullable = true)\n",
      " |-- prediction: double (nullable = true)\n",
      "\n"
     ]
    }
   ],
   "source": [
    "table_presidential_date_topic.printSchema()"
   ]
  },
  {
   "cell_type": "code",
   "execution_count": 128,
   "metadata": {
    "collapsed": true
   },
   "outputs": [],
   "source": [
    "extract_year=udf(lambda date: int(date.split()[-1].encode('utf-8')), IntegerType())"
   ]
  },
  {
   "cell_type": "code",
   "execution_count": 129,
   "metadata": {
    "collapsed": true
   },
   "outputs": [],
   "source": [
    "table_presidential_date_topic = table_presidential_date_topic.withColumn('year', extract_year(table_presidential_date_topic.date))"
   ]
  },
  {
   "cell_type": "code",
   "execution_count": 130,
   "metadata": {
    "collapsed": false
   },
   "outputs": [
    {
     "data": {
      "text/plain": [
       "[Row(date=u'March 22, 2016', prediction=5.0, year=2016),\n",
       " Row(date=u'January 12, 2016', prediction=5.0, year=2016)]"
      ]
     },
     "execution_count": 130,
     "metadata": {},
     "output_type": "execute_result"
    }
   ],
   "source": [
    "table_presidential_date_topic.take(2)"
   ]
  },
  {
   "cell_type": "code",
   "execution_count": 131,
   "metadata": {
    "collapsed": true
   },
   "outputs": [],
   "source": [
    "extract_month=udf(lambda date: date.split()[0].encode('utf-8'), StringType())"
   ]
  },
  {
   "cell_type": "code",
   "execution_count": 132,
   "metadata": {
    "collapsed": true
   },
   "outputs": [],
   "source": [
    "table_presidential_date_topic = table_presidential_date_topic.withColumn('month', extract_month(table_presidential_date_topic.date))"
   ]
  },
  {
   "cell_type": "code",
   "execution_count": 133,
   "metadata": {
    "collapsed": false
   },
   "outputs": [
    {
     "name": "stdout",
     "output_type": "stream",
     "text": [
      "+------------------+----------+----+---------+\n",
      "|              date|prediction|year|    month|\n",
      "+------------------+----------+----+---------+\n",
      "|    March 22, 2016|       5.0|2016|    March|\n",
      "|  January 12, 2016|       5.0|2016|  January|\n",
      "|     June 26, 2015|      31.0|2015|     June|\n",
      "|     March 7, 2015|      31.0|2015|    March|\n",
      "|  January 20, 2015|       5.0|2015|  January|\n",
      "| November 20, 2014|       5.0|2014| November|\n",
      "|  January 28, 2014|       5.0|2014|  January|\n",
      "|  December 4, 2013|       5.0|2013| December|\n",
      "|September 10, 2013|       5.0|2013|September|\n",
      "|     July 24, 2013|      10.0|2013|     July|\n",
      "|     July 13, 2013|       7.0|2013|     July|\n",
      "|     April 8, 2013|       7.0|2013|    April|\n",
      "|    March 21, 2013|       5.0|2013|    March|\n",
      "|     March 1, 2013|       5.0|2013|    March|\n",
      "| February 13, 2013|       5.0|2013| February|\n",
      "|  January 29, 2013|      31.0|2013|  January|\n",
      "|  January 21, 2013|      31.0|2013|  January|\n",
      "| December 16, 2012|       7.0|2012| December|\n",
      "|  November 6, 2012|      31.0|2012| November|\n",
      "| September 6, 2012|       5.0|2012|September|\n",
      "+------------------+----------+----+---------+\n",
      "only showing top 20 rows\n",
      "\n"
     ]
    }
   ],
   "source": [
    "table_presidential_date_topic.show()"
   ]
  },
  {
   "cell_type": "code",
   "execution_count": 161,
   "metadata": {
    "collapsed": true
   },
   "outputs": [],
   "source": [
    "table_presidential_date_topic.createOrReplaceTempView('table_pre_date_topic')"
   ]
  },
  {
   "cell_type": "code",
   "execution_count": 215,
   "metadata": {
    "collapsed": false
   },
   "outputs": [],
   "source": [
    "table_grouped1 = spark.sql(\"SELECT prediction,count(prediction) as count FROM table_pre_date_topic GROUP BY prediction ORDER BY count DESC\")"
   ]
  },
  {
   "cell_type": "code",
   "execution_count": 217,
   "metadata": {
    "collapsed": false
   },
   "outputs": [
    {
     "data": {
      "text/plain": [
       "24"
      ]
     },
     "execution_count": 217,
     "metadata": {},
     "output_type": "execute_result"
    }
   ],
   "source": [
    "table_grouped1.count()"
   ]
  },
  {
   "cell_type": "code",
   "execution_count": 218,
   "metadata": {
    "collapsed": false
   },
   "outputs": [
    {
     "data": {
      "text/plain": [
       "974"
      ]
     },
     "execution_count": 218,
     "metadata": {},
     "output_type": "execute_result"
    }
   ],
   "source": [
    "result_presidential.count()"
   ]
  },
  {
   "cell_type": "code",
   "execution_count": 219,
   "metadata": {
    "collapsed": false
   },
   "outputs": [
    {
     "data": {
      "text/plain": [
       "('International+Affairs', 'Social+Sciences+and+History')"
      ]
     },
     "execution_count": 219,
     "metadata": {},
     "output_type": "execute_result"
    }
   ],
   "source": [
    "subject_ordered[5], subject_ordered[31]"
   ]
  },
  {
   "cell_type": "code",
   "execution_count": null,
   "metadata": {
    "collapsed": true
   },
   "outputs": [],
   "source": []
  },
  {
   "cell_type": "code",
   "execution_count": null,
   "metadata": {
    "collapsed": true
   },
   "outputs": [],
   "source": [
    "table_grouped1.show()"
   ]
  },
  {
   "cell_type": "code",
   "execution_count": 216,
   "metadata": {
    "collapsed": false
   },
   "outputs": [
    {
     "name": "stdout",
     "output_type": "stream",
     "text": [
      "+----------+-----+\n",
      "|prediction|count|\n",
      "+----------+-----+\n",
      "|       5.0|  662|\n",
      "|      31.0|  158|\n",
      "|       1.0|   41|\n",
      "|       7.0|   21|\n",
      "|      11.0|   12|\n",
      "|      27.0|   11|\n",
      "|       6.0|    9|\n",
      "|      21.0|    7|\n",
      "|      14.0|    7|\n",
      "|       0.0|    5|\n",
      "|       4.0|    5|\n",
      "|      25.0|    5|\n",
      "|       3.0|    4|\n",
      "|      19.0|    4|\n",
      "|      10.0|    3|\n",
      "|      16.0|    3|\n",
      "|       8.0|    3|\n",
      "|      15.0|    3|\n",
      "|      13.0|    3|\n",
      "|      18.0|    3|\n",
      "+----------+-----+\n",
      "only showing top 20 rows\n",
      "\n"
     ]
    }
   ],
   "source": []
  },
  {
   "cell_type": "code",
   "execution_count": 175,
   "metadata": {
    "collapsed": false
   },
   "outputs": [
    {
     "name": "stdout",
     "output_type": "stream",
     "text": [
      "+--------------------+-------+----------+--------------------+--------+\n",
      "|             content|subject|     dates|                name|congress|\n",
      "+--------------------+-------+----------+--------------------+--------+\n",
      "|  HR 5961 IH 101s...| Health|12/03/1990|H.R.5961 — 101st ...|   101.0|\n",
      "|  HR 5908 IH 101s...| Health|11/19/1990|H.R.5908 — 101st ...|   101.0|\n",
      "|  HR 5899 IH 101s...| Health|12/03/1990|H.R.5899 — 101st ...|   101.0|\n",
      "|  HR 5898 IH 101s...| Health|12/10/1990|H.R.5898 — 101st ...|   101.0|\n",
      "|  HR 5897 IH 101s...| Health|12/03/1990|H.R.5897 — 101st ...|   101.0|\n",
      "|  HR 5890 IH 101s...| Health|12/03/1990|H.R.5890 — 101st ...|   101.0|\n",
      "|  HR 5888 IH 101s...| Health|11/19/1990|H.R.5888 — 101st ...|   101.0|\n",
      "|  HR 5851 IH 101s...| Health|11/19/1990|H.R.5851 — 101st ...|   101.0|\n",
      "|  HR 5845 IH 101s...| Health|10/30/1990|H.R.5845 — 101st ...|   101.0|\n",
      "|  HR 5830 IH 101s...| Health|10/30/1990|H.R.5830 — 101st ...|   101.0|\n",
      "|  HR 5807 IH 101s...| Health|10/30/1990|H.R.5807 — 101st ...|   101.0|\n",
      "|  HR 5750 IH 101s...| Health|10/15/1990|H.R.5750 — 101st ...|   101.0|\n",
      "|  HR 5736 IH 101s...| Health|10/08/1990|H.R.5736 — 101st ...|   101.0|\n",
      "|  --H.R.5702-- H....| Health|11/06/1990|H.R.5702 — 101st ...|   101.0|\n",
      "|  HR 5700 IH 101s...| Health|10/08/1990|H.R.5700 — 101st ...|   101.0|\n",
      "|  HR 5696 IH 101s...| Health|10/08/1990|H.R.5696 — 101st ...|   101.0|\n",
      "|  Union Calendar ...| Health|10/15/1990|H.R.5693 — 101st ...|   101.0|\n",
      "|  HR 5689 IH 101s...| Health|10/08/1990|H.R.5689 — 101st ...|   101.0|\n",
      "|  HR 5666 IH 101s...| Health|10/08/1990|H.R.5666 — 101st ...|   101.0|\n",
      "|  HR 5662 IH 101s...| Health|10/27/1990|H.R.5662 — 101st ...|   101.0|\n",
      "+--------------------+-------+----------+--------------------+--------+\n",
      "only showing top 20 rows\n",
      "\n"
     ]
    }
   ],
   "source": [
    "df_full.show()"
   ]
  },
  {
   "cell_type": "code",
   "execution_count": 199,
   "metadata": {
    "collapsed": true
   },
   "outputs": [],
   "source": [
    "extract_year_congress = udf(lambda x: int(x.split('/')[-1].encode('utf-8')),IntegerType())"
   ]
  },
  {
   "cell_type": "code",
   "execution_count": 200,
   "metadata": {
    "collapsed": true
   },
   "outputs": [],
   "source": [
    "extract_month_congress = udf(lambda x: int(x.split('/')[0].encode('utf-8')),IntegerType()) "
   ]
  },
  {
   "cell_type": "code",
   "execution_count": 201,
   "metadata": {
    "collapsed": false
   },
   "outputs": [],
   "source": [
    "df_full = df_full.withColumn('year',extract_year_congress(df_full.dates))"
   ]
  },
  {
   "cell_type": "code",
   "execution_count": 202,
   "metadata": {
    "collapsed": false
   },
   "outputs": [],
   "source": [
    "df_full = df_full.withColumn('month',extract_year_congress(df_full.dates))"
   ]
  },
  {
   "cell_type": "code",
   "execution_count": 203,
   "metadata": {
    "collapsed": false
   },
   "outputs": [
    {
     "name": "stdout",
     "output_type": "stream",
     "text": [
      "root\n",
      " |-- content: string (nullable = true)\n",
      " |-- subject: string (nullable = true)\n",
      " |-- dates: string (nullable = true)\n",
      " |-- name: string (nullable = true)\n",
      " |-- congress: double (nullable = true)\n",
      " |-- year: integer (nullable = true)\n",
      " |-- month: integer (nullable = true)\n",
      "\n"
     ]
    }
   ],
   "source": [
    "df_full.printSchema()"
   ]
  },
  {
   "cell_type": "code",
   "execution_count": null,
   "metadata": {
    "collapsed": true
   },
   "outputs": [],
   "source": []
  },
  {
   "cell_type": "code",
   "execution_count": 174,
   "metadata": {
    "collapsed": false
   },
   "outputs": [],
   "source": [
    "df_full.createOrReplaceTempView('congress_full')"
   ]
  },
  {
   "cell_type": "code",
   "execution_count": null,
   "metadata": {
    "collapsed": true
   },
   "outputs": [],
   "source": [
    "result_congress = spark.sql('SELECT ')"
   ]
  },
  {
   "cell_type": "code",
   "execution_count": null,
   "metadata": {
    "collapsed": true
   },
   "outputs": [],
   "source": []
  }
 ],
 "metadata": {
  "anaconda-cloud": {},
  "kernelspec": {
   "display_name": "Python [conda root]",
   "language": "python",
   "name": "conda-root-py"
  },
  "language_info": {
   "codemirror_mode": {
    "name": "ipython",
    "version": 2
   },
   "file_extension": ".py",
   "mimetype": "text/x-python",
   "name": "python",
   "nbconvert_exporter": "python",
   "pygments_lexer": "ipython2",
   "version": "2.7.12"
  }
 },
 "nbformat": 4,
 "nbformat_minor": 1
}
