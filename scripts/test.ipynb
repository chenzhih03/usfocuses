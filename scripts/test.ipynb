{
 "cells": [
  {
   "cell_type": "code",
   "execution_count": 1,
   "metadata": {
    "collapsed": true
   },
   "outputs": [],
   "source": [
    "from selenium import webdriver\n",
    "from urllib import urlencode\n",
    "from bs4 import BeautifulSoup\n",
    "import requests\n",
    "import time\n",
    "import random\n",
    "import urllib\n",
    "import pandas as pd\n",
    "import numpy as np"
   ]
  },
  {
   "cell_type": "code",
   "execution_count": 2,
   "metadata": {
    "collapsed": true
   },
   "outputs": [],
   "source": [
    "from collections import OrderedDict"
   ]
  },
  {
   "cell_type": "code",
   "execution_count": null,
   "metadata": {
    "collapsed": true
   },
   "outputs": [],
   "source": []
  },
  {
   "cell_type": "code",
   "execution_count": null,
   "metadata": {
    "collapsed": true
   },
   "outputs": [],
   "source": [
    "base_url = 'https://www.congress.gov/search'\n",
    "subject = \"Health\"\n",
    "num_congress = str(114)\n",
    "page='2'\n",
    "#search=dict({\"congress\":num_congress,\"source\":\"legislation\",\"subject\":subject})\n",
    "search = OrderedDict([(\"congress\",num_congress),(\"source\",\"legislation\"),(\"subject\",subject)])"
   ]
  },
  {
   "cell_type": "code",
   "execution_count": 42,
   "metadata": {
    "collapsed": false
   },
   "outputs": [
    {
     "name": "stdout",
     "output_type": "stream",
     "text": [
      "OrderedDict([('congress', '114'), ('source', 'legislation'), ('subject', 'Health')])\n"
     ]
    }
   ],
   "source": [
    "print search"
   ]
  },
  {
   "cell_type": "code",
   "execution_count": 49,
   "metadata": {
    "collapsed": false
   },
   "outputs": [
    {
     "data": {
      "text/plain": [
       "200"
      ]
     },
     "execution_count": 49,
     "metadata": {},
     "output_type": "execute_result"
    }
   ],
   "source": [
    "params = search\n",
    "result = requests.get(base_url,params = params)\n",
    "result.status_code"
   ]
  },
  {
   "cell_type": "code",
   "execution_count": 106,
   "metadata": {
    "collapsed": false
   },
   "outputs": [],
   "source": [
    "#params = {\"pageSize\":'250','q.congress': '114', 'q.source': 'legislation','q.subject': 'Health',\\\n",
    "#         \"page\":page}\n",
    "#result = requests.get(base_url,params = params)\n",
    "#result.status_code\n",
    "params=dict()"
   ]
  },
  {
   "cell_type": "code",
   "execution_count": 107,
   "metadata": {
    "collapsed": true
   },
   "outputs": [],
   "source": [
    "params['pageSize']='250'"
   ]
  },
  {
   "cell_type": "code",
   "execution_count": 115,
   "metadata": {
    "collapsed": false
   },
   "outputs": [],
   "source": [
    "#params={'pageSize':'250','q':{\"congress\":'114',\"source\":\"legislation\",\"subject\":'Health'},'page':2}"
   ]
  },
  {
   "cell_type": "code",
   "execution_count": 117,
   "metadata": {
    "collapsed": false
   },
   "outputs": [
    {
     "ename": "SyntaxError",
     "evalue": "invalid syntax (<ipython-input-117-829ffddfc583>, line 1)",
     "output_type": "error",
     "traceback": [
      "\u001b[0;36m  File \u001b[0;32m\"<ipython-input-117-829ffddfc583>\"\u001b[0;36m, line \u001b[0;32m1\u001b[0m\n\u001b[0;31m    params=OrderedDict([('pageSize','250'),('q',       {\"congress\":'114',\"source\":\"legislation\",\"subject\":'Health'}),(page','2')])\u001b[0m\n\u001b[0m                                                                                                                            ^\u001b[0m\n\u001b[0;31mSyntaxError\u001b[0m\u001b[0;31m:\u001b[0m invalid syntax\n"
     ]
    }
   ],
   "source": [
    "params=OrderedDict([('pageSize','250'),('q',\\\n",
    "       {\"congress\":'114',\"source\":\"legislation\",\"subject\":'Health'}),(page','2')])"
   ]
  },
  {
   "cell_type": "code",
   "execution_count": 130,
   "metadata": {
    "collapsed": true
   },
   "outputs": [],
   "source": [
    "import json"
   ]
  },
  {
   "cell_type": "code",
   "execution_count": 109,
   "metadata": {
    "collapsed": false
   },
   "outputs": [],
   "source": [
    "params['page']='2'"
   ]
  },
  {
   "cell_type": "code",
   "execution_count": 123,
   "metadata": {
    "collapsed": false
   },
   "outputs": [
    {
     "data": {
      "text/plain": [
       "{'page': 2,\n",
       " 'pageSize': '250',\n",
       " 'q': {'congress': '114', 'source': 'legislation', 'subject': 'Health'}}"
      ]
     },
     "execution_count": 123,
     "metadata": {},
     "output_type": "execute_result"
    }
   ],
   "source": [
    "params\n",
    "#def param_generation(num_congress,source,subject):\n",
    "#    d={}\n",
    "    "
   ]
  },
  {
   "cell_type": "code",
   "execution_count": 131,
   "metadata": {
    "collapsed": true
   },
   "outputs": [],
   "source": [
    "params={'page': 2,\n",
    " 'pageSize': '250',\n",
    " 'q': {'congress':'114','source':'legislation','subject':'Health'}}"
   ]
  },
  {
   "cell_type": "code",
   "execution_count": 132,
   "metadata": {
    "collapsed": false
   },
   "outputs": [
    {
     "data": {
      "text/plain": [
       "{'page': 2,\n",
       " 'pageSize': '250',\n",
       " 'q': {'congress': '114', 'source': 'legislation', 'subject': 'Health'}}"
      ]
     },
     "execution_count": 132,
     "metadata": {},
     "output_type": "execute_result"
    }
   ],
   "source": [
    "params"
   ]
  },
  {
   "cell_type": "code",
   "execution_count": 134,
   "metadata": {
    "collapsed": false
   },
   "outputs": [],
   "source": [
    "pp =json.dumps(params)"
   ]
  },
  {
   "cell_type": "code",
   "execution_count": 152,
   "metadata": {
    "collapsed": false
   },
   "outputs": [
    {
     "ename": "TypeError",
     "evalue": "not a valid non-string sequence or mapping object",
     "output_type": "error",
     "traceback": [
      "\u001b[0;31m---------------------------------------------------------------------------\u001b[0m",
      "\u001b[0;31mTypeError\u001b[0m                                 Traceback (most recent call last)",
      "\u001b[0;32m<ipython-input-152-0cd9b9f802c7>\u001b[0m in \u001b[0;36m<module>\u001b[0;34m()\u001b[0m\n\u001b[0;32m----> 1\u001b[0;31m \u001b[0murlencode\u001b[0m\u001b[0;34m(\u001b[0m\u001b[0mpp\u001b[0m\u001b[0;34m)\u001b[0m\u001b[0;34m\u001b[0m\u001b[0m\n\u001b[0m",
      "\u001b[0;32m/Users/zhihongchen/anaconda/lib/python2.7/urllib.pyc\u001b[0m in \u001b[0;36murlencode\u001b[0;34m(query, doseq)\u001b[0m\n\u001b[1;32m   1327\u001b[0m             \u001b[0;31m# non-empty strings will fail this\u001b[0m\u001b[0;34m\u001b[0m\u001b[0;34m\u001b[0m\u001b[0m\n\u001b[1;32m   1328\u001b[0m             \u001b[0;32mif\u001b[0m \u001b[0mlen\u001b[0m\u001b[0;34m(\u001b[0m\u001b[0mquery\u001b[0m\u001b[0;34m)\u001b[0m \u001b[0;32mand\u001b[0m \u001b[0;32mnot\u001b[0m \u001b[0misinstance\u001b[0m\u001b[0;34m(\u001b[0m\u001b[0mquery\u001b[0m\u001b[0;34m[\u001b[0m\u001b[0;36m0\u001b[0m\u001b[0;34m]\u001b[0m\u001b[0;34m,\u001b[0m \u001b[0mtuple\u001b[0m\u001b[0;34m)\u001b[0m\u001b[0;34m:\u001b[0m\u001b[0;34m\u001b[0m\u001b[0m\n\u001b[0;32m-> 1329\u001b[0;31m                 \u001b[0;32mraise\u001b[0m \u001b[0mTypeError\u001b[0m\u001b[0;34m\u001b[0m\u001b[0m\n\u001b[0m\u001b[1;32m   1330\u001b[0m             \u001b[0;31m# zero-length sequences of all types will get here and succeed,\u001b[0m\u001b[0;34m\u001b[0m\u001b[0;34m\u001b[0m\u001b[0m\n\u001b[1;32m   1331\u001b[0m             \u001b[0;31m# but that's a minor nit - since the original implementation\u001b[0m\u001b[0;34m\u001b[0m\u001b[0;34m\u001b[0m\u001b[0m\n",
      "\u001b[0;31mTypeError\u001b[0m: not a valid non-string sequence or mapping object"
     ]
    }
   ],
   "source": [
    "urlencode(pp)"
   ]
  },
  {
   "cell_type": "code",
   "execution_count": 173,
   "metadata": {
    "collapsed": false
   },
   "outputs": [
    {
     "ename": "SyntaxError",
     "evalue": "invalid syntax (<ipython-input-173-00a43da1e6cc>, line 3)",
     "output_type": "error",
     "traceback": [
      "\u001b[0;36m  File \u001b[0;32m\"<ipython-input-173-00a43da1e6cc>\"\u001b[0;36m, line \u001b[0;32m3\u001b[0m\n\u001b[0;31m    'q': {str('congress':'114','source':'legislation','subject':'Health'}),''}\u001b[0m\n\u001b[0m                        ^\u001b[0m\n\u001b[0;31mSyntaxError\u001b[0m\u001b[0;31m:\u001b[0m invalid syntax\n"
     ]
    }
   ],
   "source": [
    "params={'page': 2,\n",
    " 'pageSize': '250',\n",
    " 'q': str({'congress':'114','source':'legislation','subject':'Health'})}"
   ]
  },
  {
   "cell_type": "code",
   "execution_count": 168,
   "metadata": {
    "collapsed": false
   },
   "outputs": [],
   "source": [
    "url_params = urlencode(params)"
   ]
  },
  {
   "cell_type": "code",
   "execution_count": 169,
   "metadata": {
    "collapsed": true
   },
   "outputs": [],
   "source": [
    "base_url1 = 'https://www.congress.gov/search?{}'\n",
    "uul = base_url1.format(url_params)"
   ]
  },
  {
   "cell_type": "code",
   "execution_count": 170,
   "metadata": {
    "collapsed": false
   },
   "outputs": [
    {
     "data": {
      "text/plain": [
       "'https://www.congress.gov/search?q=%7B%27source%27%3A+%27legislation%27%2C+%27congress%27%3A+%27114%27%2C+%27subject%27%3A+%27Health%27%7D&page=2&pageSize=250'"
      ]
     },
     "execution_count": 170,
     "metadata": {},
     "output_type": "execute_result"
    }
   ],
   "source": [
    "uul"
   ]
  },
  {
   "cell_type": "code",
   "execution_count": 162,
   "metadata": {
    "collapsed": false
   },
   "outputs": [],
   "source": [
    "uul=uul.replace('+','')"
   ]
  },
  {
   "cell_type": "code",
   "execution_count": 171,
   "metadata": {
    "collapsed": false
   },
   "outputs": [
    {
     "data": {
      "text/plain": [
       "\"https://www.congress.gov/search?q={'source':+'legislation',+'congress':+'114',+'subject':+'Health'}&page=2&pageSize=250\""
      ]
     },
     "execution_count": 171,
     "metadata": {},
     "output_type": "execute_result"
    }
   ],
   "source": [
    "urllib.unquote(uul)"
   ]
  },
  {
   "cell_type": "code",
   "execution_count": 166,
   "metadata": {
    "collapsed": false
   },
   "outputs": [
    {
     "ename": "TypeError",
     "evalue": "not a valid non-string sequence or mapping object",
     "output_type": "error",
     "traceback": [
      "\u001b[0;31m---------------------------------------------------------------------------\u001b[0m",
      "\u001b[0;31mTypeError\u001b[0m                                 Traceback (most recent call last)",
      "\u001b[0;32m<ipython-input-166-e41e09c13677>\u001b[0m in \u001b[0;36m<module>\u001b[0;34m()\u001b[0m\n\u001b[0;32m----> 1\u001b[0;31m \u001b[0murlencode\u001b[0m\u001b[0;34m(\u001b[0m\u001b[0muul\u001b[0m\u001b[0;34m)\u001b[0m\u001b[0;34m\u001b[0m\u001b[0m\n\u001b[0m",
      "\u001b[0;32m/Users/zhihongchen/anaconda/lib/python2.7/urllib.pyc\u001b[0m in \u001b[0;36murlencode\u001b[0;34m(query, doseq)\u001b[0m\n\u001b[1;32m   1327\u001b[0m             \u001b[0;31m# non-empty strings will fail this\u001b[0m\u001b[0;34m\u001b[0m\u001b[0;34m\u001b[0m\u001b[0m\n\u001b[1;32m   1328\u001b[0m             \u001b[0;32mif\u001b[0m \u001b[0mlen\u001b[0m\u001b[0;34m(\u001b[0m\u001b[0mquery\u001b[0m\u001b[0;34m)\u001b[0m \u001b[0;32mand\u001b[0m \u001b[0;32mnot\u001b[0m \u001b[0misinstance\u001b[0m\u001b[0;34m(\u001b[0m\u001b[0mquery\u001b[0m\u001b[0;34m[\u001b[0m\u001b[0;36m0\u001b[0m\u001b[0;34m]\u001b[0m\u001b[0;34m,\u001b[0m \u001b[0mtuple\u001b[0m\u001b[0;34m)\u001b[0m\u001b[0;34m:\u001b[0m\u001b[0;34m\u001b[0m\u001b[0m\n\u001b[0;32m-> 1329\u001b[0;31m                 \u001b[0;32mraise\u001b[0m \u001b[0mTypeError\u001b[0m\u001b[0;34m\u001b[0m\u001b[0m\n\u001b[0m\u001b[1;32m   1330\u001b[0m             \u001b[0;31m# zero-length sequences of all types will get here and succeed,\u001b[0m\u001b[0;34m\u001b[0m\u001b[0;34m\u001b[0m\u001b[0m\n\u001b[1;32m   1331\u001b[0m             \u001b[0;31m# but that's a minor nit - since the original implementation\u001b[0m\u001b[0;34m\u001b[0m\u001b[0;34m\u001b[0m\u001b[0m\n",
      "\u001b[0;31mTypeError\u001b[0m: not a valid non-string sequence or mapping object"
     ]
    }
   ],
   "source": []
  },
  {
   "cell_type": "code",
   "execution_count": 146,
   "metadata": {
    "collapsed": true
   },
   "outputs": [],
   "source": [
    "headers = {'Content-Type': 'application/json'}"
   ]
  },
  {
   "cell_type": "code",
   "execution_count": 150,
   "metadata": {
    "collapsed": false
   },
   "outputs": [
    {
     "data": {
      "text/plain": [
       "200"
      ]
     },
     "execution_count": 150,
     "metadata": {},
     "output_type": "execute_result"
    }
   ],
   "source": [
    "result = requests.get(base_url,params = pp,headers=headers)\n",
    "result.status_code"
   ]
  },
  {
   "cell_type": "code",
   "execution_count": 148,
   "metadata": {
    "collapsed": false
   },
   "outputs": [
    {
     "data": {
      "text/plain": [
       "u'https://www.congress.gov/search'"
      ]
     },
     "execution_count": 148,
     "metadata": {},
     "output_type": "execute_result"
    }
   ],
   "source": [
    "result.url"
   ]
  },
  {
   "cell_type": "code",
   "execution_count": null,
   "metadata": {
    "collapsed": true
   },
   "outputs": [],
   "source": []
  },
  {
   "cell_type": "code",
   "execution_count": 149,
   "metadata": {
    "collapsed": false
   },
   "outputs": [
    {
     "data": {
      "text/plain": [
       "u'https://www.congress.gov/search'"
      ]
     },
     "execution_count": 149,
     "metadata": {},
     "output_type": "execute_result"
    }
   ],
   "source": [
    "urllib.unquote(result.url)"
   ]
  },
  {
   "cell_type": "code",
   "execution_count": null,
   "metadata": {
    "collapsed": true
   },
   "outputs": [],
   "source": []
  },
  {
   "cell_type": "code",
   "execution_count": null,
   "metadata": {
    "collapsed": true
   },
   "outputs": [],
   "source": []
  },
  {
   "cell_type": "code",
   "execution_count": 96,
   "metadata": {
    "collapsed": false
   },
   "outputs": [
    {
     "data": {
      "text/plain": [
       "\"https://www.congress.gov/search{'source': 'legislation', 'congress': '114', 'subject': 'Health'}\""
      ]
     },
     "execution_count": 96,
     "metadata": {},
     "output_type": "execute_result"
    }
   ],
   "source": [
    "base_url+params['q']"
   ]
  },
  {
   "cell_type": "code",
   "execution_count": 99,
   "metadata": {
    "collapsed": false
   },
   "outputs": [
    {
     "name": "stdout",
     "output_type": "stream",
     "text": [
      "https://www.congress.gov/search?q.congress=114&q.subject=Health&q.source=legislation&pageSize=250&page=2\n"
     ]
    }
   ],
   "source": [
    "print result.url"
   ]
  },
  {
   "cell_type": "code",
   "execution_count": null,
   "metadata": {
    "collapsed": true
   },
   "outputs": [],
   "source": []
  },
  {
   "cell_type": "code",
   "execution_count": 48,
   "metadata": {
    "collapsed": false
   },
   "outputs": [
    {
     "name": "stdout",
     "output_type": "stream",
     "text": [
      "https://www.congress.gov/search?q=congress&q=source&q=subject&page=2&pageSize=250\n"
     ]
    }
   ],
   "source": [
    "print result.url"
   ]
  },
  {
   "cell_type": "code",
   "execution_count": 32,
   "metadata": {
    "collapsed": false
   },
   "outputs": [
    {
     "data": {
      "text/plain": [
       "OrderedDict([('congress', '114'),\n",
       "             ('source', 'legislation'),\n",
       "             ('subject', 'Health')])"
      ]
     },
     "execution_count": 32,
     "metadata": {},
     "output_type": "execute_result"
    }
   ],
   "source": [
    "search"
   ]
  },
  {
   "cell_type": "code",
   "execution_count": null,
   "metadata": {
    "collapsed": true
   },
   "outputs": [],
   "source": [
    "soup = BeautifulSoup(result.content,'lxml')\n",
    "\n",
    "soup.find_all('span',{'class':'result-heading'})"
   ]
  },
  {
   "cell_type": "code",
   "execution_count": 431,
   "metadata": {
    "collapsed": false
   },
   "outputs": [
    {
     "data": {
      "text/plain": [
       "500"
      ]
     },
     "execution_count": 431,
     "metadata": {},
     "output_type": "execute_result"
    }
   ],
   "source": [
    "len(soup.find_all('span',{'class':'result-heading'}))"
   ]
  },
  {
   "cell_type": "code",
   "execution_count": null,
   "metadata": {
    "collapsed": true
   },
   "outputs": [],
   "source": []
  },
  {
   "cell_type": "code",
   "execution_count": 209,
   "metadata": {
    "collapsed": false
   },
   "outputs": [
    {
     "name": "stdout",
     "output_type": "stream",
     "text": [
      "code=debtor&InvoiceLines%5B0%5D%5BDescription%5D=Setupfee&InvoiceLines%5B1%5D%5BDescription%5D=Subscription&action=add&controller=invoice&InvoiceLines%5B0%5D%5BPriceExcl%5D=150&key=Yikes%26ampersand&date=2016-08-01&InvoiceLines%5B1%5D%5BPriceExcl%5D=49.99\n",
      "%5B0%5D=item1&%5B1%5D=item2\n"
     ]
    }
   ],
   "source": [
    "import urllib\n",
    "\n",
    "def http_build_query(data):\n",
    "    parents = list()\n",
    "    pairs = dict()\n",
    "\n",
    "    def renderKey(parents):\n",
    "        depth, outStr = 0, ''\n",
    "        for x in parents:\n",
    "            s = \"[%s]\" if depth > 0 or isinstance(x, int) else \"%s\"\n",
    "            outStr += s % str(x)\n",
    "            depth += 1\n",
    "        return outStr\n",
    "\n",
    "    def r_urlencode(data):\n",
    "        if isinstance(data, list) or isinstance(data, tuple):\n",
    "            for i in range(len(data)):\n",
    "                parents.append(i)\n",
    "                r_urlencode(data[i])\n",
    "                parents.pop()\n",
    "        elif isinstance(data, dict):\n",
    "            for key, value in data.items():\n",
    "                parents.append(key)\n",
    "                r_urlencode(value)\n",
    "                parents.pop()\n",
    "        else:\n",
    "            pairs[renderKey(parents)] = str(data)\n",
    "\n",
    "        return pairs\n",
    "    return urllib.urlencode(r_urlencode(data))\n",
    "\n",
    "if __name__ == '__main__':\n",
    "    payload = {\n",
    "        'action': 'add',\n",
    "        'controller': 'invoice',\n",
    "        'code': 'debtor',\n",
    "        'InvoiceLines': [\n",
    "            {'PriceExcl': 150, 'Description': 'Setupfee'},\n",
    "            {'PriceExcl':49.99, 'Description':'Subscription'}\n",
    "        ],\n",
    "        'date': '2016-08-01',\n",
    "        'key': 'Yikes&ampersand'\n",
    "    }\n",
    "    print(http_build_query(payload))\n",
    "\n",
    "    payload2 = [\n",
    "        'item1',\n",
    "        'item2'\n",
    "    ]\n",
    "    print(http_build_query(payload2))\n",
    "\n",
    "    \n",
    "\n",
    "\n",
    "\n"
   ]
  },
  {
   "cell_type": "code",
   "execution_count": 197,
   "metadata": {
    "collapsed": false
   },
   "outputs": [
    {
     "data": {
      "text/plain": [
       "{'page': 2,\n",
       " 'pageSize': '250',\n",
       " 'q': \"{'source': 'legislation', 'congress': '114', 'subject': 'Health'}\"}"
      ]
     },
     "execution_count": 197,
     "metadata": {},
     "output_type": "execute_result"
    }
   ],
   "source": [
    "params"
   ]
  },
  {
   "cell_type": "code",
   "execution_count": 210,
   "metadata": {
    "collapsed": false
   },
   "outputs": [],
   "source": [
    "pp =http_build_query(params)"
   ]
  },
  {
   "cell_type": "code",
   "execution_count": 211,
   "metadata": {
    "collapsed": false
   },
   "outputs": [
    {
     "data": {
      "text/plain": [
       "'q=%7B%27source%27%3A+%27legislation%27%2C+%27congress%27%3A+%27114%27%2C+%27subject%27%3A+%27Health%27%7D&page=2&pageSize=250'"
      ]
     },
     "execution_count": 211,
     "metadata": {},
     "output_type": "execute_result"
    }
   ],
   "source": [
    "pp"
   ]
  },
  {
   "cell_type": "code",
   "execution_count": null,
   "metadata": {
    "collapsed": true
   },
   "outputs": [],
   "source": []
  },
  {
   "cell_type": "code",
   "execution_count": 213,
   "metadata": {
    "collapsed": false
   },
   "outputs": [
    {
     "data": {
      "text/plain": [
       "\"q={'source':+'legislation',+'congress':+'114',+'subject':+'Health'}&page=2&pageSize=250\""
      ]
     },
     "execution_count": 213,
     "metadata": {},
     "output_type": "execute_result"
    }
   ],
   "source": [
    "urllib.unquote(pp)"
   ]
  },
  {
   "cell_type": "code",
   "execution_count": null,
   "metadata": {
    "collapsed": true
   },
   "outputs": [],
   "source": []
  },
  {
   "cell_type": "code",
   "execution_count": null,
   "metadata": {
    "collapsed": true
   },
   "outputs": [],
   "source": []
  },
  {
   "cell_type": "code",
   "execution_count": 214,
   "metadata": {
    "collapsed": false
   },
   "outputs": [
    {
     "data": {
      "text/plain": [
       "200"
      ]
     },
     "execution_count": 214,
     "metadata": {},
     "output_type": "execute_result"
    }
   ],
   "source": [
    "result = requests.get(base_url,params = pp)\n",
    "result.status_code"
   ]
  },
  {
   "cell_type": "code",
   "execution_count": null,
   "metadata": {
    "collapsed": true
   },
   "outputs": [],
   "source": []
  },
  {
   "cell_type": "code",
   "execution_count": 215,
   "metadata": {
    "collapsed": false
   },
   "outputs": [
    {
     "data": {
      "text/plain": [
       "u'https://www.congress.gov/search?q=%7B%27source%27%3A+%27legislation%27%2C+%27congress%27%3A+%27114%27%2C+%27subject%27%3A+%27Health%27%7D&page=2&pageSize=250'"
      ]
     },
     "execution_count": 215,
     "metadata": {},
     "output_type": "execute_result"
    }
   ],
   "source": [
    "result.url"
   ]
  },
  {
   "cell_type": "code",
   "execution_count": 261,
   "metadata": {
    "collapsed": true
   },
   "outputs": [],
   "source": [
    "sub=\"Health\""
   ]
  },
  {
   "cell_type": "code",
   "execution_count": 277,
   "metadata": {
    "collapsed": true
   },
   "outputs": [],
   "source": [
    "num='114'"
   ]
  },
  {
   "cell_type": "code",
   "execution_count": 278,
   "metadata": {
    "collapsed": false
   },
   "outputs": [
    {
     "data": {
      "text/plain": [
       "'114'"
      ]
     },
     "execution_count": 278,
     "metadata": {},
     "output_type": "execute_result"
    }
   ],
   "source": [
    "num"
   ]
  },
  {
   "cell_type": "code",
   "execution_count": 279,
   "metadata": {
    "collapsed": false
   },
   "outputs": [
    {
     "data": {
      "text/plain": [
       "'114'"
      ]
     },
     "execution_count": 279,
     "metadata": {},
     "output_type": "execute_result"
    }
   ],
   "source": [
    "str(114)"
   ]
  },
  {
   "cell_type": "code",
   "execution_count": 309,
   "metadata": {
    "collapsed": true
   },
   "outputs": [],
   "source": [
    "al='Agriculture+and+Food'"
   ]
  },
  {
   "cell_type": "code",
   "execution_count": 217,
   "metadata": {
    "collapsed": false
   },
   "outputs": [
    {
     "data": {
      "text/plain": [
       "u\"https://www.congress.gov/search?q={'source':+'legislation',+'congress':+'114',+'subject':+'Health'}&page=2&pageSize=250\""
      ]
     },
     "execution_count": 217,
     "metadata": {},
     "output_type": "execute_result"
    }
   ],
   "source": [
    "urllib.unquote(result.url)"
   ]
  },
  {
   "cell_type": "code",
   "execution_count": 313,
   "metadata": {
    "collapsed": false
   },
   "outputs": [],
   "source": [
    "search = 'q='+'{\"source\":\"legislation\",\"congress\":'+'\"114\"'+',\"subject\":'+'\"Health\"'+'}'"
   ]
  },
  {
   "cell_type": "code",
   "execution_count": 314,
   "metadata": {
    "collapsed": false
   },
   "outputs": [],
   "source": [
    "search1=search.replace('Health',al)"
   ]
  },
  {
   "cell_type": "code",
   "execution_count": 315,
   "metadata": {
    "collapsed": false
   },
   "outputs": [
    {
     "data": {
      "text/plain": [
       "'q={\"source\":\"legislation\",\"congress\":\"114\",\"subject\":\"Agriculture+and+Food\"}'"
      ]
     },
     "execution_count": 315,
     "metadata": {},
     "output_type": "execute_result"
    }
   ],
   "source": [
    "search1"
   ]
  },
  {
   "cell_type": "code",
   "execution_count": null,
   "metadata": {
    "collapsed": true
   },
   "outputs": [],
   "source": []
  },
  {
   "cell_type": "code",
   "execution_count": 316,
   "metadata": {
    "collapsed": true
   },
   "outputs": [],
   "source": [
    "base_url2 =\"https://www.congress.gov/search?\"+search1"
   ]
  },
  {
   "cell_type": "code",
   "execution_count": 317,
   "metadata": {
    "collapsed": false
   },
   "outputs": [
    {
     "data": {
      "text/plain": [
       "'https://www.congress.gov/search?q={\"source\":\"legislation\",\"congress\":\"114\",\"subject\":\"Agriculture+and+Food\"}'"
      ]
     },
     "execution_count": 317,
     "metadata": {},
     "output_type": "execute_result"
    }
   ],
   "source": [
    "base_url2"
   ]
  },
  {
   "cell_type": "code",
   "execution_count": null,
   "metadata": {
    "collapsed": true
   },
   "outputs": [],
   "source": []
  },
  {
   "cell_type": "code",
   "execution_count": 299,
   "metadata": {
    "collapsed": false
   },
   "outputs": [],
   "source": [
    "#search= OrderedDict([(\"congress\",'114'),(\"source\",\"legislation\"),(\"subject\",'Health')])"
   ]
  },
  {
   "cell_type": "code",
   "execution_count": 318,
   "metadata": {
    "collapsed": false
   },
   "outputs": [],
   "source": [
    "params1=OrderedDict([('pageSize','250'),('page','1')])"
   ]
  },
  {
   "cell_type": "code",
   "execution_count": 230,
   "metadata": {
    "collapsed": true
   },
   "outputs": [],
   "source": [
    "#pp1 = recursive_urlencode(params1)"
   ]
  },
  {
   "cell_type": "code",
   "execution_count": 231,
   "metadata": {
    "collapsed": false
   },
   "outputs": [
    {
     "data": {
      "text/plain": [
       "'page=2&pageSize=250'"
      ]
     },
     "execution_count": 231,
     "metadata": {},
     "output_type": "execute_result"
    }
   ],
   "source": [
    "#pp1\n"
   ]
  },
  {
   "cell_type": "code",
   "execution_count": 319,
   "metadata": {
    "collapsed": false
   },
   "outputs": [],
   "source": [
    "result1 = requests.get(base_url2,params = urlencode(params1))"
   ]
  },
  {
   "cell_type": "code",
   "execution_count": 306,
   "metadata": {
    "collapsed": false
   },
   "outputs": [
    {
     "data": {
      "text/plain": [
       "'(str(1))'"
      ]
     },
     "execution_count": 306,
     "metadata": {},
     "output_type": "execute_result"
    }
   ],
   "source": []
  },
  {
   "cell_type": "code",
   "execution_count": null,
   "metadata": {
    "collapsed": true
   },
   "outputs": [],
   "source": []
  },
  {
   "cell_type": "code",
   "execution_count": 326,
   "metadata": {
    "collapsed": false
   },
   "outputs": [
    {
     "data": {
      "text/plain": [
       "int"
      ]
     },
     "execution_count": 326,
     "metadata": {},
     "output_type": "execute_result"
    }
   ],
   "source": [
    "type(result1.status_code)"
   ]
  },
  {
   "cell_type": "code",
   "execution_count": 321,
   "metadata": {
    "collapsed": false
   },
   "outputs": [
    {
     "data": {
      "text/plain": [
       "u'https://www.congress.gov/search?q=%7B%22source%22:%22legislation%22,%22congress%22:%22114%22,%22subject%22:%22Agriculture+and+Food%22%7D&page=1&pageSize=250'"
      ]
     },
     "execution_count": 321,
     "metadata": {},
     "output_type": "execute_result"
    }
   ],
   "source": [
    "result1.url"
   ]
  },
  {
   "cell_type": "code",
   "execution_count": 322,
   "metadata": {
    "collapsed": false
   },
   "outputs": [
    {
     "data": {
      "text/plain": [
       "u'https://www.congress.gov/search?q={\"source\":\"legislation\",\"congress\":\"114\",\"subject\":\"Agriculture+and+Food\"}&page=1&pageSize=250'"
      ]
     },
     "execution_count": 322,
     "metadata": {},
     "output_type": "execute_result"
    }
   ],
   "source": [
    "urllib.unquote(result1.url)"
   ]
  },
  {
   "cell_type": "code",
   "execution_count": 247,
   "metadata": {
    "collapsed": true
   },
   "outputs": [],
   "source": [
    "uu ='https://www.congress.gov/search?pageSize=250&q={%22source%22:%22legislation%22,%22congress%22:%22114%22,%22subject%22:%22Health%22}&page=2'"
   ]
  },
  {
   "cell_type": "code",
   "execution_count": 249,
   "metadata": {
    "collapsed": false
   },
   "outputs": [
    {
     "data": {
      "text/plain": [
       "'https://www.congress.gov/search?pageSize=250&q={\"source\":\"legislation\",\"congress\":\"114\",\"subject\":\"Health\"}&page=2'"
      ]
     },
     "execution_count": 249,
     "metadata": {},
     "output_type": "execute_result"
    }
   ],
   "source": [
    "urllib.unquote(uu)"
   ]
  },
  {
   "cell_type": "code",
   "execution_count": 323,
   "metadata": {
    "collapsed": true
   },
   "outputs": [],
   "source": [
    "soup = BeautifulSoup(result1.content,'lxml')"
   ]
  },
  {
   "cell_type": "code",
   "execution_count": 432,
   "metadata": {
    "collapsed": false
   },
   "outputs": [
    {
     "data": {
      "text/plain": [
       "'https://www.congress.gov/bill/115th-congress/house-bill/1259/text?r=252'"
      ]
     },
     "execution_count": 432,
     "metadata": {},
     "output_type": "execute_result"
    }
   ],
   "source": [
    "soup.find_all('span',{'class':'result-heading'})[3].find('a').get('href').replace('?r=','/text?r=')"
   ]
  },
  {
   "cell_type": "code",
   "execution_count": 337,
   "metadata": {
    "collapsed": false
   },
   "outputs": [
    {
     "data": {
      "text/plain": [
       "array([[ <a href=\"https://www.congress.gov/bill/114th-congress/house-bill/6483?r=1\">H.R.6483</a>,\n",
       "        u' \\u2014 114th Congress (2015-2016)'],\n",
       "       [ <a href=\"https://www.congress.gov/bill/114th-congress/house-bill/6481?r=2\">H.R.6481</a>,\n",
       "        u' \\u2014 114th Congress (2015-2016)'],\n",
       "       [ <a href=\"https://www.congress.gov/bill/114th-congress/house-bill/6336?r=3\">H.R.6336</a>,\n",
       "        u' \\u2014 114th Congress (2015-2016)']], dtype=object)"
      ]
     },
     "execution_count": 337,
     "metadata": {},
     "output_type": "execute_result"
    }
   ],
   "source": [
    "https://www.congress.gov/bill/114th-congress/house-bill/6483/text?r=1\n",
    "import numpy as np\n",
    "np.array(soup.find_all('span',{'class':'result-heading'}))[np.array([0,2,4])]"
   ]
  },
  {
   "cell_type": "code",
   "execution_count": 362,
   "metadata": {
    "collapsed": false
   },
   "outputs": [
    {
     "data": {
      "text/plain": [
       "167"
      ]
     },
     "execution_count": 362,
     "metadata": {},
     "output_type": "execute_result"
    }
   ],
   "source": [
    "int(soup.find('span',{'class':'results-number'}).text.split()[-1])"
   ]
  },
  {
   "cell_type": "code",
   "execution_count": 401,
   "metadata": {
    "collapsed": false
   },
   "outputs": [],
   "source": [
    "ll = soup.find_all('a',attrs={'title':'include this search constraint'})"
   ]
  },
  {
   "cell_type": "code",
   "execution_count": 385,
   "metadata": {
    "collapsed": false
   },
   "outputs": [],
   "source": [
    "l_list =[]\n",
    "for i in ll:\n",
    "    l_list.append(i.text)"
   ]
  },
  {
   "cell_type": "code",
   "execution_count": 386,
   "metadata": {
    "collapsed": false
   },
   "outputs": [
    {
     "data": {
      "text/plain": [
       "[]"
      ]
     },
     "execution_count": 386,
     "metadata": {},
     "output_type": "execute_result"
    }
   ],
   "source": [
    "l_list"
   ]
  },
  {
   "cell_type": "code",
   "execution_count": 427,
   "metadata": {
    "collapsed": false
   },
   "outputs": [
    {
     "data": {
      "text/plain": [
       "u'\\n            Joint Resolutions (H.J.Res. or S.J.Res.)            [2]\\n'"
      ]
     },
     "execution_count": 427,
     "metadata": {},
     "output_type": "execute_result"
    }
   ],
   "source": [
    "ll[25].text"
   ]
  },
  {
   "cell_type": "code",
   "execution_count": 428,
   "metadata": {
    "collapsed": true
   },
   "outputs": [],
   "source": [
    "sub_list =['Health',\n",
    "'Government Operations and Politics',\n",
    "'Taxation'\n",
    ",'Armed Forces and National Security'\n",
    ",'Public Lands and Natural Resources'\n",
    ",'International Affairs'\n",
    ",'Congress'\n",
    ",'Crime and Law Enforcement'\n",
    ",'Immigration'\n",
    ",'Science, Technology, Communications'\n",
    ",'Education'\n",
    ",'Finance and Financial Sector'\n",
    ",'Environmental Protection'\n",
    ",'Labor and Employment'\n",
    ",'Transportation and Public Works'\n",
    ",'Energy'\n",
    ",'Civil Rights and Liberties, Minority Issues'\n",
    ",'Emergency Management'\n",
    ",'Law'\n",
    ",'Economics and Public Finance'\n",
    ",'Commerce'\n",
    ",'Native Americans'\n",
    ",'Housing and Community Development'\n",
    ",'Social Welfare'\n",
    ",'Water Resources Development'\n",
    ",'Agriculture and Food'\n",
    ",'Animals'\n",
    ",'Foreign Trade and International Finance'\n",
    ",'Families'\n",
    ",'Sports and Recreation'\n",
    ",'Arts, Culture, Religion'\n",
    ",'Social Sciences and History']\n",
    "new_list = []\n",
    "for i in sub_list:\n",
    "    new_list.append(i.replace(' ','+'))\n"
   ]
  },
  {
   "cell_type": "code",
   "execution_count": 430,
   "metadata": {
    "collapsed": false
   },
   "outputs": [
    {
     "data": {
      "text/plain": [
       "32"
      ]
     },
     "execution_count": 430,
     "metadata": {},
     "output_type": "execute_result"
    }
   ],
   "source": [
    "len(new_list)"
   ]
  },
  {
   "cell_type": "code",
   "execution_count": 44,
   "metadata": {
    "collapsed": false
   },
   "outputs": [
    {
     "data": {
      "text/plain": [
       "4"
      ]
     },
     "execution_count": 44,
     "metadata": {},
     "output_type": "execute_result"
    }
   ],
   "source": [
    "int(math.ceil(float(780)/250))"
   ]
  },
  {
   "cell_type": "code",
   "execution_count": null,
   "metadata": {
    "collapsed": true
   },
   "outputs": [],
   "source": []
  },
  {
   "cell_type": "code",
   "execution_count": 40,
   "metadata": {
    "collapsed": false
   },
   "outputs": [],
   "source": [
    "import math"
   ]
  },
  {
   "cell_type": "code",
   "execution_count": null,
   "metadata": {
    "collapsed": true
   },
   "outputs": [],
   "source": []
  },
  {
   "cell_type": "code",
   "execution_count": null,
   "metadata": {
    "collapsed": true
   },
   "outputs": [],
   "source": []
  },
  {
   "cell_type": "code",
   "execution_count": null,
   "metadata": {
    "collapsed": true
   },
   "outputs": [],
   "source": []
  },
  {
   "cell_type": "code",
   "execution_count": 45,
   "metadata": {
    "collapsed": false
   },
   "outputs": [],
   "source": [
    "from urllib import urlencode\n",
    "import requests\n",
    "import time\n",
    "import random\n",
    "import urllib\n",
    "import math\n",
    "\n",
    "base_url = 'https://www.congress.gov/search?'\n",
    "search = 'q='+'{\"source\":\"legislation\",\"congress\":'+'\"114\"'+',\"subject\":'+'\"Health\"'+'}'\n",
    "pagesize = 250\n",
    "\n",
    "def scrape_legislation(sub_name,congress_num):\n",
    "\n",
    "    url_list = []\n",
    "    date_list = []\n",
    "    name_list = []\n",
    "    params1 = OrderedDict([('pageSize','250'),('page','1')])\n",
    "    search1 = search.replace('Health',sub_name)\n",
    "    search2 = search1.replace('114',congress_num)\n",
    "    base_url1 = base_url + search2\n",
    "    result = requests.get(base_url1,params = urlencode(params1))\n",
    "    if result.status_code == 200:\n",
    "\n",
    "        soup = BeautifulSoup(result.content,'lxml')\n",
    "\n",
    "        links = soup.find_all('span',{'class':'result-heading'})\n",
    "\n",
    "        result_item = soup.find_all('span',attrs={'class':'result-item'})\n",
    "        # number of bills in this subject\n",
    "        num_bill = int(soup.find('span',{'class':'results-number'}).text.split()[-1].replace(',',''))\n",
    "        num_pages = int(math.ceil(float(num_bill)/250))\n",
    "\n",
    "        if num_pages == 1:\n",
    "            for link_num in range(0,len(links),2):\n",
    "                name_list.append(links[link_num].text)\n",
    "                url_list.append(links[link_num].find('a').get('href').replace('?r=','/text?r='))\n",
    "            for i in range(len(result_item)):\n",
    "                text_sp = result_item[i].text.split()\n",
    "                if text_sp[0]=='Latest':\n",
    "                    date_list.append(text_sp[2])\n",
    "\n",
    "        else:\n",
    "            for link_num in range(0,len(links),2):\n",
    "                name_list.append(links[link_num].text)\n",
    "                url_list.append(links[link_num].find('a').get('href').replace('?r=','/text?r='))\n",
    "            for i in range(len(result_item)):\n",
    "                text_sp = result_item[i].text.split()\n",
    "                if text_sp[0]=='Latest':\n",
    "                    date_list.append(text_sp[2])\n",
    "            for page_num in range(2,num_pages+1):\n",
    "                params_p = OrderedDict([('pageSize','250'),('page',str(page_num))])\n",
    "                result_p = requests.get(base_url1, params = urlencode(params_p))\n",
    "\n",
    "                if result_p.status_code == 200:\n",
    "\n",
    "                    soup_p = BeautifulSoup(result_p.content,'lxml')\n",
    "                    links_p = soup_p.find_all('span',{'class':'result-heading'})\n",
    "                    result_item_p = soup_p.find_all('span',attrs={'class':'result-item'})\n",
    "\n",
    "                    for link_num in range(0,len(links_p),2):\n",
    "                        name_list.append(links_p[link_num].text)\n",
    "                        url_list.append(links_p[link_num].find('a').get('href').replace('?r=','/text?r='))\n",
    "\n",
    "                    for i in range(len(result_item_p)):\n",
    "                        text_sp_p = result_item_p[i].text.split()\n",
    "                        if text_sp_p[0]=='Latest':\n",
    "                            date_list.append(text_sp_p[2])\n",
    "\n",
    "            \n",
    "        return {'subject':sub_name,'congress':congress_num,'links':url_list,'dates':date_list[0::2],'name':name_list}\n"
   ]
  },
  {
   "cell_type": "code",
   "execution_count": 46,
   "metadata": {
    "collapsed": false
   },
   "outputs": [],
   "source": [
    "l = scrape_legislation('Agriculture+and+Food','114')"
   ]
  },
  {
   "cell_type": "code",
   "execution_count": 500,
   "metadata": {
    "collapsed": false
   },
   "outputs": [],
   "source": [
    "ll=soup.find_all('span',attrs={'class':'result-item'})\n",
    "data_list=[]\n",
    "for i in range(len(ll)):\n",
    "    if ll[i].text.split()[0]=='Latest':\n",
    "        data_list.append(ll[i].text.split()[2])"
   ]
  },
  {
   "cell_type": "code",
   "execution_count": 502,
   "metadata": {
    "collapsed": false
   },
   "outputs": [
    {
     "data": {
      "text/plain": [
       "500"
      ]
     },
     "execution_count": 502,
     "metadata": {},
     "output_type": "execute_result"
    }
   ],
   "source": [
    "len(data_list)"
   ]
  },
  {
   "cell_type": "code",
   "execution_count": 49,
   "metadata": {
    "collapsed": false
   },
   "outputs": [
    {
     "data": {
      "text/plain": [
       "(167, 167, 167)"
      ]
     },
     "execution_count": 49,
     "metadata": {},
     "output_type": "execute_result"
    }
   ],
   "source": [
    "len(l['name']),len(l['dates']),len(l['links'])"
   ]
  },
  {
   "cell_type": "code",
   "execution_count": 522,
   "metadata": {
    "collapsed": false
   },
   "outputs": [
    {
     "data": {
      "text/plain": [
       "167"
      ]
     },
     "execution_count": 522,
     "metadata": {},
     "output_type": "execute_result"
    }
   ],
   "source": [
    "len(l['dates'])"
   ]
  },
  {
   "cell_type": "code",
   "execution_count": 514,
   "metadata": {
    "collapsed": false
   },
   "outputs": [
    {
     "data": {
      "text/plain": [
       "167"
      ]
     },
     "execution_count": 514,
     "metadata": {},
     "output_type": "execute_result"
    }
   ],
   "source": [
    "len(l['links'])"
   ]
  },
  {
   "cell_type": "code",
   "execution_count": 54,
   "metadata": {
    "collapsed": false
   },
   "outputs": [],
   "source": [
    "from pymongo import MongoClient\n",
    "\n",
    "# Define the MongoDB database and table\n",
    "db_cilent = MongoClient()\n",
    "db = db_cilent['congress']\n",
    "table = db['meta']\n",
    "\n",
    "sub_list =['Health',\n",
    " 'Government+Operations+and+Politics',\n",
    " 'Taxation',\n",
    " 'Armed+Forces+and+National+Security',\n",
    " 'Public+Lands+and+Natural+Resources',\n",
    " 'International+Affairs',\n",
    " 'Congress',\n",
    " 'Crime+and+Law+Enforcement',\n",
    " 'Immigration',\n",
    " 'Science,+Technology,+Communications',\n",
    " 'Education',\n",
    " 'Finance+and+Financial+Sector',\n",
    " 'Environmental+Protection',\n",
    " 'Labor+and+Employment',\n",
    " 'Transportation+and+Public+Works',\n",
    " 'Energy',\n",
    " 'Civil+Rights+and+Liberties,+Minority+Issues',\n",
    " 'Emergency+Management',\n",
    " 'Law',\n",
    " 'Economics+and+Public+Finance',\n",
    " 'Commerce',\n",
    " 'Native+Americans',\n",
    " 'Housing+and+Community+Development',\n",
    " 'Social+Welfare',\n",
    " 'Water+Resources+Development',\n",
    " 'Agriculture+and+Food',\n",
    " 'Animals',\n",
    " 'Foreign+Trade+and+International+Finance',\n",
    " 'Families',\n",
    " 'Sports+and+Recreation',\n",
    " 'Arts,+Culture,+Religion',\n",
    " 'Social+Sciences+and+History']\n",
    "\n",
    "congress_list = [str(i) for i in range(115,116)]\n",
    "\n",
    "congress_list\n",
    "\n",
    "table.i\n",
    "\n",
    "\n",
    "for num in congress_list:\n",
    "    for sub in sub_list:\n",
    "        print sub,num\n",
    "        table.insert_one(scrape_legislation(sub,num))\n",
    "\n",
    "\n",
    "\n",
    "scrape_legislation('Taxation','102')"
   ]
  },
  {
   "cell_type": "code",
   "execution_count": 543,
   "metadata": {
    "collapsed": false
   },
   "outputs": [
    {
     "data": {
      "text/plain": [
       "158"
      ]
     },
     "execution_count": 543,
     "metadata": {},
     "output_type": "execute_result"
    }
   ],
   "source": [
    "int('158'.replace(',',''))"
   ]
  },
  {
   "cell_type": "code",
   "execution_count": 4,
   "metadata": {
    "collapsed": false
   },
   "outputs": [],
   "source": [
    "df = pd.read_json?"
   ]
  },
  {
   "cell_type": "code",
   "execution_count": 5,
   "metadata": {
    "collapsed": false
   },
   "outputs": [
    {
     "ename": "ValueError",
     "evalue": "Trailing data",
     "output_type": "error",
     "traceback": [
      "\u001b[0;31m---------------------------------------------------------------------------\u001b[0m",
      "\u001b[0;31mValueError\u001b[0m                                Traceback (most recent call last)",
      "\u001b[0;32m<ipython-input-5-c88d153c76a0>\u001b[0m in \u001b[0;36m<module>\u001b[0;34m()\u001b[0m\n\u001b[0;32m----> 1\u001b[0;31m \u001b[0mdf\u001b[0m \u001b[0;34m=\u001b[0m \u001b[0mpd\u001b[0m\u001b[0;34m.\u001b[0m\u001b[0mread_json\u001b[0m\u001b[0;34m(\u001b[0m\u001b[0;34m(\u001b[0m\u001b[0;34m'../congress-meta.json'\u001b[0m\u001b[0;34m)\u001b[0m\u001b[0;34m)\u001b[0m\u001b[0;34m\u001b[0m\u001b[0m\n\u001b[0m",
      "\u001b[0;32m/Users/zhihongchen/anaconda/lib/python2.7/site-packages/pandas/io/json.pyc\u001b[0m in \u001b[0;36mread_json\u001b[0;34m(path_or_buf, orient, typ, dtype, convert_axes, convert_dates, keep_default_dates, numpy, precise_float, date_unit, encoding, lines)\u001b[0m\n\u001b[1;32m    279\u001b[0m         obj = FrameParser(json, orient, dtype, convert_axes, convert_dates,\n\u001b[1;32m    280\u001b[0m                           \u001b[0mkeep_default_dates\u001b[0m\u001b[0;34m,\u001b[0m \u001b[0mnumpy\u001b[0m\u001b[0;34m,\u001b[0m \u001b[0mprecise_float\u001b[0m\u001b[0;34m,\u001b[0m\u001b[0;34m\u001b[0m\u001b[0m\n\u001b[0;32m--> 281\u001b[0;31m                           date_unit).parse()\n\u001b[0m\u001b[1;32m    282\u001b[0m \u001b[0;34m\u001b[0m\u001b[0m\n\u001b[1;32m    283\u001b[0m     \u001b[0;32mif\u001b[0m \u001b[0mtyp\u001b[0m \u001b[0;34m==\u001b[0m \u001b[0;34m'series'\u001b[0m \u001b[0;32mor\u001b[0m \u001b[0mobj\u001b[0m \u001b[0;32mis\u001b[0m \u001b[0mNone\u001b[0m\u001b[0;34m:\u001b[0m\u001b[0;34m\u001b[0m\u001b[0m\n",
      "\u001b[0;32m/Users/zhihongchen/anaconda/lib/python2.7/site-packages/pandas/io/json.pyc\u001b[0m in \u001b[0;36mparse\u001b[0;34m(self)\u001b[0m\n\u001b[1;32m    347\u001b[0m \u001b[0;34m\u001b[0m\u001b[0m\n\u001b[1;32m    348\u001b[0m         \u001b[0;32melse\u001b[0m\u001b[0;34m:\u001b[0m\u001b[0;34m\u001b[0m\u001b[0m\n\u001b[0;32m--> 349\u001b[0;31m             \u001b[0mself\u001b[0m\u001b[0;34m.\u001b[0m\u001b[0m_parse_no_numpy\u001b[0m\u001b[0;34m(\u001b[0m\u001b[0;34m)\u001b[0m\u001b[0;34m\u001b[0m\u001b[0m\n\u001b[0m\u001b[1;32m    350\u001b[0m \u001b[0;34m\u001b[0m\u001b[0m\n\u001b[1;32m    351\u001b[0m         \u001b[0;32mif\u001b[0m \u001b[0mself\u001b[0m\u001b[0;34m.\u001b[0m\u001b[0mobj\u001b[0m \u001b[0;32mis\u001b[0m \u001b[0mNone\u001b[0m\u001b[0;34m:\u001b[0m\u001b[0;34m\u001b[0m\u001b[0m\n",
      "\u001b[0;32m/Users/zhihongchen/anaconda/lib/python2.7/site-packages/pandas/io/json.pyc\u001b[0m in \u001b[0;36m_parse_no_numpy\u001b[0;34m(self)\u001b[0m\n\u001b[1;32m    564\u001b[0m         \u001b[0;32mif\u001b[0m \u001b[0morient\u001b[0m \u001b[0;34m==\u001b[0m \u001b[0;34m\"columns\"\u001b[0m\u001b[0;34m:\u001b[0m\u001b[0;34m\u001b[0m\u001b[0m\n\u001b[1;32m    565\u001b[0m             self.obj = DataFrame(\n\u001b[0;32m--> 566\u001b[0;31m                 loads(json, precise_float=self.precise_float), dtype=None)\n\u001b[0m\u001b[1;32m    567\u001b[0m         \u001b[0;32melif\u001b[0m \u001b[0morient\u001b[0m \u001b[0;34m==\u001b[0m \u001b[0;34m\"split\"\u001b[0m\u001b[0;34m:\u001b[0m\u001b[0;34m\u001b[0m\u001b[0m\n\u001b[1;32m    568\u001b[0m             decoded = dict((str(k), v)\n",
      "\u001b[0;31mValueError\u001b[0m: Trailing data"
     ]
    }
   ],
   "source": [
    "df = pd.read_json(('../congr'))"
   ]
  },
  {
   "cell_type": "code",
   "execution_count": 16,
   "metadata": {
    "collapsed": false
   },
   "outputs": [],
   "source": [
    "import os\n",
    "basePath = os.path.dirname(os.path.abspath('congress-meta.json'))"
   ]
  },
  {
   "cell_type": "code",
   "execution_count": null,
   "metadata": {
    "collapsed": true
   },
   "outputs": [],
   "source": []
  },
  {
   "cell_type": "code",
   "execution_count": null,
   "metadata": {
    "collapsed": true
   },
   "outputs": [],
   "source": []
  },
  {
   "cell_type": "code",
   "execution_count": 17,
   "metadata": {
    "collapsed": false
   },
   "outputs": [
    {
     "data": {
      "text/plain": [
       "'/Volumes/HDUSB/usfocuses'"
      ]
     },
     "execution_count": 17,
     "metadata": {},
     "output_type": "execute_result"
    }
   ],
   "source": [
    "basePath"
   ]
  },
  {
   "cell_type": "code",
   "execution_count": null,
   "metadata": {
    "collapsed": true
   },
   "outputs": [],
   "source": []
  },
  {
   "cell_type": "code",
   "execution_count": 11,
   "metadata": {
    "collapsed": false
   },
   "outputs": [
    {
     "name": "stdout",
     "output_type": "stream",
     "text": [
      "/Volumes/HDUSB/usfocuses\n"
     ]
    }
   ],
   "source": [
    "%cd ../"
   ]
  },
  {
   "cell_type": "code",
   "execution_count": 12,
   "metadata": {
    "collapsed": false
   },
   "outputs": [
    {
     "name": "stdout",
     "output_type": "stream",
     "text": [
      "\u001b[31mREADME.md\u001b[m\u001b[m*          \u001b[31mcongress-meta.json\u001b[m\u001b[m* \u001b[30m\u001b[43mnotes\u001b[m\u001b[m/              \u001b[30m\u001b[43mscripts\u001b[m\u001b[m/\r\n"
     ]
    }
   ],
   "source": [
    "%ls "
   ]
  },
  {
   "cell_type": "code",
   "execution_count": 2,
   "metadata": {
    "collapsed": false
   },
   "outputs": [
    {
     "name": "stdout",
     "output_type": "stream",
     "text": [
      "\u001b[31mREADME.md\u001b[m\u001b[m*               \u001b[31mcongress-meta1.json\u001b[m\u001b[m*     \u001b[30m\u001b[43mscripts\u001b[m\u001b[m/\r\n",
      "\u001b[31mcong-meta1.json\u001b[m\u001b[m*         \u001b[30m\u001b[43mdata\u001b[m\u001b[m/                    \u001b[31mtest1.ipynb\u001b[m\u001b[m*\r\n",
      "\u001b[31mcongress-meta-test.json\u001b[m\u001b[m* \u001b[30m\u001b[43mnotes\u001b[m\u001b[m/\r\n",
      "\u001b[31mcongress-meta.json\u001b[m\u001b[m*      \u001b[31moutput.json\u001b[m\u001b[m*\r\n"
     ]
    }
   ],
   "source": [
    "%ls ../"
   ]
  },
  {
   "cell_type": "code",
   "execution_count": null,
   "metadata": {
    "collapsed": true
   },
   "outputs": [],
   "source": []
  },
  {
   "cell_type": "code",
   "execution_count": 5,
   "metadata": {
    "collapsed": true
   },
   "outputs": [],
   "source": [
    "import pandas as pd"
   ]
  },
  {
   "cell_type": "code",
   "execution_count": 6,
   "metadata": {
    "collapsed": false
   },
   "outputs": [],
   "source": [
    "#df = pd.read_json(basePath + '/congress-meta.json', orient = 'records')"
   ]
  },
  {
   "cell_type": "code",
   "execution_count": 7,
   "metadata": {
    "collapsed": false
   },
   "outputs": [],
   "source": [
    "df = pd.read_json('../congress-meta-test.json')"
   ]
  },
  {
   "cell_type": "code",
   "execution_count": 8,
   "metadata": {
    "collapsed": false
   },
   "outputs": [
    {
     "data": {
      "text/html": [
       "<div>\n",
       "<table border=\"1\" class=\"dataframe\">\n",
       "  <thead>\n",
       "    <tr style=\"text-align: right;\">\n",
       "      <th></th>\n",
       "      <th>_id</th>\n",
       "      <th>congress</th>\n",
       "      <th>dates</th>\n",
       "      <th>links</th>\n",
       "      <th>subject</th>\n",
       "    </tr>\n",
       "  </thead>\n",
       "  <tbody>\n",
       "    <tr>\n",
       "      <th>0</th>\n",
       "      <td>{u'$oid': u'58c8f38dddc55a0d20c2fd0b'}</td>\n",
       "      <td>101</td>\n",
       "      <td>[12/03/1990, 11/19/1990, 12/03/1990, 12/10/199...</td>\n",
       "      <td>[https://www.congress.gov/bill/101st-congress/...</td>\n",
       "      <td>Health</td>\n",
       "    </tr>\n",
       "    <tr>\n",
       "      <th>1</th>\n",
       "      <td>{u'$oid': u'58c8f39eddc55a0d20c2fd0c'}</td>\n",
       "      <td>101</td>\n",
       "      <td>[10/26/1990, 11/26/1990, 10/18/1990, 10/27/199...</td>\n",
       "      <td>[https://www.congress.gov/bill/101st-congress/...</td>\n",
       "      <td>Government+Operations+and+Politics</td>\n",
       "    </tr>\n",
       "    <tr>\n",
       "      <th>2</th>\n",
       "      <td>{u'$oid': u'58c8f3b3ddc55a0d20c2fd0d'}</td>\n",
       "      <td>101</td>\n",
       "      <td>[10/27/1990, 10/26/1990, 10/26/1990, 10/27/199...</td>\n",
       "      <td>[https://www.congress.gov/bill/101st-congress/...</td>\n",
       "      <td>Taxation</td>\n",
       "    </tr>\n",
       "    <tr>\n",
       "      <th>3</th>\n",
       "      <td>{u'$oid': u'58c8f3c1ddc55a0d20c2fd0e'}</td>\n",
       "      <td>101</td>\n",
       "      <td>[10/27/1990, 10/26/1990, 10/22/1990, 10/19/199...</td>\n",
       "      <td>[https://www.congress.gov/bill/101st-congress/...</td>\n",
       "      <td>Armed+Forces+and+National+Security</td>\n",
       "    </tr>\n",
       "    <tr>\n",
       "      <th>4</th>\n",
       "      <td>{u'$oid': u'58c8f3cfddc55a0d20c2fd0f'}</td>\n",
       "      <td>101</td>\n",
       "      <td>[12/03/1990, 12/03/1990, 12/03/1990, 10/27/199...</td>\n",
       "      <td>[https://www.congress.gov/bill/101st-congress/...</td>\n",
       "      <td>Public+Lands+and+Natural+Resources</td>\n",
       "    </tr>\n",
       "  </tbody>\n",
       "</table>\n",
       "</div>"
      ],
      "text/plain": [
       "                                      _id  congress  \\\n",
       "0  {u'$oid': u'58c8f38dddc55a0d20c2fd0b'}       101   \n",
       "1  {u'$oid': u'58c8f39eddc55a0d20c2fd0c'}       101   \n",
       "2  {u'$oid': u'58c8f3b3ddc55a0d20c2fd0d'}       101   \n",
       "3  {u'$oid': u'58c8f3c1ddc55a0d20c2fd0e'}       101   \n",
       "4  {u'$oid': u'58c8f3cfddc55a0d20c2fd0f'}       101   \n",
       "\n",
       "                                               dates  \\\n",
       "0  [12/03/1990, 11/19/1990, 12/03/1990, 12/10/199...   \n",
       "1  [10/26/1990, 11/26/1990, 10/18/1990, 10/27/199...   \n",
       "2  [10/27/1990, 10/26/1990, 10/26/1990, 10/27/199...   \n",
       "3  [10/27/1990, 10/26/1990, 10/22/1990, 10/19/199...   \n",
       "4  [12/03/1990, 12/03/1990, 12/03/1990, 10/27/199...   \n",
       "\n",
       "                                               links  \\\n",
       "0  [https://www.congress.gov/bill/101st-congress/...   \n",
       "1  [https://www.congress.gov/bill/101st-congress/...   \n",
       "2  [https://www.congress.gov/bill/101st-congress/...   \n",
       "3  [https://www.congress.gov/bill/101st-congress/...   \n",
       "4  [https://www.congress.gov/bill/101st-congress/...   \n",
       "\n",
       "                              subject  \n",
       "0                              Health  \n",
       "1  Government+Operations+and+Politics  \n",
       "2                            Taxation  \n",
       "3  Armed+Forces+and+National+Security  \n",
       "4  Public+Lands+and+Natural+Resources  "
      ]
     },
     "execution_count": 8,
     "metadata": {},
     "output_type": "execute_result"
    }
   ],
   "source": [
    "df.head()"
   ]
  },
  {
   "cell_type": "code",
   "execution_count": 9,
   "metadata": {
    "collapsed": false
   },
   "outputs": [
    {
     "data": {
      "text/plain": [
       "(9, 5)"
      ]
     },
     "execution_count": 9,
     "metadata": {},
     "output_type": "execute_result"
    }
   ],
   "source": [
    "df.shape"
   ]
  },
  {
   "cell_type": "code",
   "execution_count": 10,
   "metadata": {
    "collapsed": false
   },
   "outputs": [
    {
     "name": "stdout",
     "output_type": "stream",
     "text": [
      "1000 1000\n",
      "1000 1000\n",
      "1000 1000\n",
      "750 750\n",
      "750 750\n",
      "750 750\n",
      "1000 1000\n",
      "500 500\n",
      "143 143\n"
     ]
    }
   ],
   "source": [
    "for i in range(df.shape[0]):\n",
    "    print len(df.iloc[i,2]), len(df.iloc[i,3])"
   ]
  },
  {
   "cell_type": "code",
   "execution_count": 11,
   "metadata": {
    "collapsed": false
   },
   "outputs": [],
   "source": [
    "df1= df.iloc[0:5,:]"
   ]
  },
  {
   "cell_type": "code",
   "execution_count": 12,
   "metadata": {
    "collapsed": true
   },
   "outputs": [],
   "source": [
    "df2= df.iloc[5:,:]"
   ]
  },
  {
   "cell_type": "code",
   "execution_count": 13,
   "metadata": {
    "collapsed": false
   },
   "outputs": [
    {
     "data": {
      "text/plain": [
       "(5, 5)"
      ]
     },
     "execution_count": 13,
     "metadata": {},
     "output_type": "execute_result"
    }
   ],
   "source": [
    "df1.shape"
   ]
  },
  {
   "cell_type": "code",
   "execution_count": 14,
   "metadata": {
    "collapsed": false
   },
   "outputs": [
    {
     "data": {
      "text/plain": [
       "(4, 5)"
      ]
     },
     "execution_count": 14,
     "metadata": {},
     "output_type": "execute_result"
    }
   ],
   "source": [
    "df2.shape"
   ]
  },
  {
   "cell_type": "code",
   "execution_count": null,
   "metadata": {
    "collapsed": true
   },
   "outputs": [],
   "source": [
    "import boto3\n",
    "\n",
    "s3 = boto3.client(\"s3\")"
   ]
  },
  {
   "cell_type": "code",
   "execution_count": 16,
   "metadata": {
    "collapsed": true
   },
   "outputs": [],
   "source": [
    "df1.to_csv('df1.csv')"
   ]
  },
  {
   "cell_type": "code",
   "execution_count": 17,
   "metadata": {
    "collapsed": true
   },
   "outputs": [],
   "source": [
    "df2.to_csv('df2.csv')"
   ]
  },
  {
   "cell_type": "code",
   "execution_count": null,
   "metadata": {
    "collapsed": true
   },
   "outputs": [],
   "source": []
  },
  {
   "cell_type": "code",
   "execution_count": 18,
   "metadata": {
    "collapsed": false
   },
   "outputs": [
    {
     "data": {
      "text/plain": [
       "{u'ETag': '\"92d1db826eac79b55b7e8fe323acd754\"',\n",
       " 'ResponseMetadata': {'HTTPHeaders': {'content-length': '0',\n",
       "   'date': 'Thu, 16 Mar 2017 00:03:37 GMT',\n",
       "   'etag': '\"92d1db826eac79b55b7e8fe323acd754\"',\n",
       "   'server': 'AmazonS3',\n",
       "   'x-amz-id-2': 'Wa1KZvwh5ph8bgwgc13yFo9Im9w8XVDvL/MMq87EP6aEWO42sUK5wNUUCZKnInygwpW8Y4qc/F8=',\n",
       "   'x-amz-request-id': '9E9855EEA9BD7C58'},\n",
       "  'HTTPStatusCode': 200,\n",
       "  'HostId': 'Wa1KZvwh5ph8bgwgc13yFo9Im9w8XVDvL/MMq87EP6aEWO42sUK5wNUUCZKnInygwpW8Y4qc/F8=',\n",
       "  'RequestId': '9E9855EEA9BD7C58',\n",
       "  'RetryAttempts': 0}}"
      ]
     },
     "execution_count": 18,
     "metadata": {},
     "output_type": "execute_result"
    }
   ],
   "source": [
    "s3.put_object(Bucket=\"usfocus\", Body='df1.csv', Key='11')"
   ]
  },
  {
   "cell_type": "code",
   "execution_count": null,
   "metadata": {
    "collapsed": true
   },
   "outputs": [],
   "source": [
    "s3.put_object(Bucket=\"usfocus\", Body='df1.csv', Key='11')"
   ]
  },
  {
   "cell_type": "code",
   "execution_count": 19,
   "metadata": {
    "collapsed": true
   },
   "outputs": [],
   "source": [
    "s3.upload_file('df1.csv','usfocus','df1.csv')"
   ]
  },
  {
   "cell_type": "code",
   "execution_count": 21,
   "metadata": {
    "collapsed": false
   },
   "outputs": [
    {
     "data": {
      "text/plain": [
       "u'/Volumes/HDUSB/usfocuses/scripts'"
      ]
     },
     "execution_count": 21,
     "metadata": {},
     "output_type": "execute_result"
    }
   ],
   "source": [
    "pwd"
   ]
  },
  {
   "cell_type": "code",
   "execution_count": 23,
   "metadata": {
    "collapsed": false
   },
   "outputs": [],
   "source": [
    "%rm df1.csv\n"
   ]
  },
  {
   "cell_type": "code",
   "execution_count": 24,
   "metadata": {
    "collapsed": false
   },
   "outputs": [
    {
     "name": "stdout",
     "output_type": "stream",
     "text": [
      "\u001b[31mdf2.csv\u001b[m\u001b[m*              \u001b[31mscrape_list.dat\u001b[m\u001b[m*      \u001b[31msubject.py\u001b[m\u001b[m*\r\n",
      "\u001b[31mscrape-label.py\u001b[m\u001b[m*      \u001b[31mspark-final-links.py\u001b[m\u001b[m* \u001b[31mtest.ipynb\u001b[m\u001b[m*\r\n"
     ]
    }
   ],
   "source": [
    "%ls"
   ]
  },
  {
   "cell_type": "code",
   "execution_count": 25,
   "metadata": {
    "collapsed": true
   },
   "outputs": [],
   "source": [
    "s3.download_file('usfocus','df1.csv','df1.csv')"
   ]
  },
  {
   "cell_type": "code",
   "execution_count": 26,
   "metadata": {
    "collapsed": false
   },
   "outputs": [
    {
     "name": "stdout",
     "output_type": "stream",
     "text": [
      "\u001b[31mdf1.csv\u001b[m\u001b[m*              \u001b[31mscrape_list.dat\u001b[m\u001b[m*      \u001b[31mtest.ipynb\u001b[m\u001b[m*\r\n",
      "\u001b[31mdf2.csv\u001b[m\u001b[m*              \u001b[31mspark-final-links.py\u001b[m\u001b[m*\r\n",
      "\u001b[31mscrape-label.py\u001b[m\u001b[m*      \u001b[31msubject.py\u001b[m\u001b[m*\r\n"
     ]
    }
   ],
   "source": [
    "%ls"
   ]
  },
  {
   "cell_type": "code",
   "execution_count": 27,
   "metadata": {
    "collapsed": false
   },
   "outputs": [
    {
     "data": {
      "text/plain": [
       "u'/Volumes/HDUSB/usfocuses/scripts'"
      ]
     },
     "execution_count": 27,
     "metadata": {},
     "output_type": "execute_result"
    }
   ],
   "source": [
    "pwd"
   ]
  },
  {
   "cell_type": "code",
   "execution_count": 3,
   "metadata": {
    "collapsed": true
   },
   "outputs": [],
   "source": [
    "url = 'https://millercenter.org/the-presidency/presidential-speeches'"
   ]
  },
  {
   "cell_type": "code",
   "execution_count": 4,
   "metadata": {
    "collapsed": true
   },
   "outputs": [],
   "source": [
    "from bs4 import BeautifulSoup\n",
    "import requests"
   ]
  },
  {
   "cell_type": "code",
   "execution_count": 5,
   "metadata": {
    "collapsed": true
   },
   "outputs": [],
   "source": [
    "r = requests.get(url)"
   ]
  },
  {
   "cell_type": "code",
   "execution_count": 8,
   "metadata": {
    "collapsed": true
   },
   "outputs": [],
   "source": [
    "if r.status_code == 200:\n",
    "    soup = BeautifulSoup(r.content,'lxml')\n",
    "\n",
    "    te = soup.find_all('div',{'class':'views-infinite-scroll-content-wrapper clearfix'})"
   ]
  },
  {
   "cell_type": "code",
   "execution_count": 12,
   "metadata": {
    "collapsed": false
   },
   "outputs": [
    {
     "data": {
      "text/plain": [
       "[<a href=\"/the-presidency/presidential-speeches/may-15-2016-commencement-address-rutgers-university\" hreflang=\"en\">May 15, 2016: Commencement Address at Rutgers University</a>,\n",
       " <a href=\"/the-presidency/presidential-speeches/march-22-2016-remarks-people-cuba\" hreflang=\"en\">March 22, 2016: Remarks to the People of Cuba</a>,\n",
       " <a href=\"/the-presidency/presidential-speeches/january-12-2016-2016-state-union-address\" hreflang=\"en\">January 12, 2016: 2016 State of the Union Address</a>,\n",
       " <a href=\"/the-presidency/presidential-speeches/june-26-2015-remarks-eulogy-honorable-reverend-clementa\" hreflang=\"en\">June 26, 2015: Remarks in Eulogy for the Honorable Reverend Clementa Pickney</a>,\n",
       " <a href=\"/the-presidency/presidential-speeches/march-7-2015-remarks-50th-anniversary-selma-marches\" hreflang=\"en\">March 7, 2015: Remarks at the 50th Anniversary of the Selma Marches</a>,\n",
       " <a href=\"/the-presidency/presidential-speeches/january-20-2015-2015-state-union-address\" hreflang=\"en\">January 20, 2015: 2015 State of the Union Address</a>,\n",
       " <a href=\"/the-presidency/presidential-speeches/november-20-2014-address-nation-immigration\" hreflang=\"en\">November 20, 2014: Address to the Nation on Immigration</a>,\n",
       " <a href=\"/the-presidency/presidential-speeches/january-28-2014-2014-state-union-address\" hreflang=\"en\">January 28, 2014: 2014 State of the Union Address</a>,\n",
       " <a href=\"/the-presidency/presidential-speeches/december-4-2013-speech-economic-mobility\" hreflang=\"en\">December 4, 2013: Speech on Economic Mobility</a>,\n",
       " <a href=\"/the-presidency/presidential-speeches/september-10-2013-address-nation-syria\" hreflang=\"en\">September 10, 2013: Address to the Nation on Syria</a>,\n",
       " <a href=\"/the-presidency/presidential-speeches/july-24-2013-remarks-education-and-economy\" hreflang=\"en\">July 24, 2013: Remarks on Education and the Economy</a>,\n",
       " <a href=\"/the-presidency/presidential-speeches/july-13-2013-remarks-trayvon-martin\" hreflang=\"en\">July 13, 2013: Remarks on Trayvon Martin</a>]"
      ]
     },
     "execution_count": 12,
     "metadata": {},
     "output_type": "execute_result"
    }
   ],
   "source": [
    "te[0].find_all('a')"
   ]
  },
  {
   "cell_type": "code",
   "execution_count": null,
   "metadata": {
    "collapsed": true
   },
   "outputs": [],
   "source": []
  },
  {
   "cell_type": "code",
   "execution_count": null,
   "metadata": {
    "collapsed": true
   },
   "outputs": [],
   "source": [
    "from urllib import urlencode\n",
    "import requests\n",
    "import time\n",
    "import random\n",
    "import urllib\n",
    "import math\n",
    "\n",
    "base_url = 'https://www.congress.gov/search?'\n",
    "search = 'q='+'{\"source\":\"congrecord\",\"congress\":'+'\"114\"'+',\"cr-section\":'+'[\"Senate\",\"House\"]'+'}'\n",
    "pagesize = 250\n",
    "\n",
    "def scrape_congress(sub_name,congress_num):\n",
    "\n",
    "    url_list = []\n",
    "    date_list = []\n",
    "    name_list = []\n",
    "    params1 = OrderedDict([('pageSize','250'),('page','1')])\n",
    "    search1 = search.replace('Health',sub_name)\n",
    "    search2 = search1.replace('114',congress_num)\n",
    "    base_url1 = base_url + search2\n",
    "    result = requests.get(base_url1,params = urlencode(params1))\n",
    "    if result.status_code == 200:\n",
    "\n",
    "        soup = BeautifulSoup(result.content,'lxml')\n",
    "\n",
    "        links = soup.find_all('span',{'class':'result-heading'})\n",
    "\n",
    "        result_item = soup.find_all('span',attrs={'class':'result-item'})\n",
    "        # number of bills in this subject\n",
    "        num_bill = int(soup.find('span',{'class':'results-number'}).text.split()[-1].replace(',',''))\n",
    "        num_pages = int(math.ceil(float(num_bill)/250))\n",
    "\n",
    "        if num_pages == 1:\n",
    "            for link_num in range(0,len(links),2):\n",
    "                name_list.append(links[link_num].text)\n",
    "                url_list.append(links[link_num].find('a').get('href').replace('?r=','/text?r='))\n",
    "            for i in range(len(result_item)):\n",
    "                text_sp = result_item[i].text.split()\n",
    "                if text_sp[0]=='Latest':\n",
    "                    date_list.append(text_sp[2])\n",
    "\n",
    "        else:\n",
    "            for link_num in range(0,len(links),2):\n",
    "                name_list.append(links[link_num].text)\n",
    "                url_list.append(links[link_num].find('a').get('href').replace('?r=','/text?r='))\n",
    "            for i in range(len(result_item)):\n",
    "                text_sp = result_item[i].text.split()\n",
    "                if text_sp[0]=='Latest':\n",
    "                    date_list.append(text_sp[2])\n",
    "            for page_num in range(2,num_pages+1):\n",
    "                params_p = OrderedDict([('pageSize','250'),('page',str(page_num))])\n",
    "                result_p = requests.get(base_url1, params = urlencode(params_p))\n",
    "\n",
    "                if result_p.status_code == 200:\n",
    "\n",
    "                    soup_p = BeautifulSoup(result_p.content,'lxml')\n",
    "                    links_p = soup_p.find_all('span',{'class':'result-heading'})\n",
    "                    result_item_p = soup_p.find_all('span',attrs={'class':'result-item'})\n",
    "\n",
    "                    for link_num in range(0,len(links_p),2):\n",
    "                        name_list.append(links_p[link_num].text)\n",
    "                        url_list.append(links_p[link_num].find('a').get('href').replace('?r=','/text?r='))\n",
    "\n",
    "                    for i in range(len(result_item_p)):\n",
    "                        text_sp_p = result_item_p[i].text.split()\n",
    "                        if text_sp_p[0]=='Latest':\n",
    "                            date_list.append(text_sp_p[2])\n",
    "\n",
    "            \n",
    "        return {'subject':sub_name,'congress':congress_num,'links':url_list,'dates':date_list[0::2],'name':name_list}\n"
   ]
  },
  {
   "cell_type": "code",
   "execution_count": null,
   "metadata": {
    "collapsed": true
   },
   "outputs": [],
   "source": []
  },
  {
   "cell_type": "code",
   "execution_count": null,
   "metadata": {
    "collapsed": true
   },
   "outputs": [],
   "source": []
  },
  {
   "cell_type": "code",
   "execution_count": null,
   "metadata": {
    "collapsed": true
   },
   "outputs": [],
   "source": [
    "from pymongo import MongoClient\n",
    "\n",
    "# Define the MongoDB database and table\n",
    "db_cilent = MongoClient()\n",
    "db = db_cilent['congress']\n",
    "table = db['meta']\n",
    "\n",
    "sub_list =['Health',\n",
    " 'Government+Operations+and+Politics',\n",
    " 'Taxation',\n",
    " 'Armed+Forces+and+National+Security',\n",
    " 'Public+Lands+and+Natural+Resources',\n",
    " 'International+Affairs',\n",
    " 'Congress',\n",
    " 'Crime+and+Law+Enforcement',\n",
    " 'Immigration',\n",
    " 'Science,+Technology,+Communications',\n",
    " 'Education',\n",
    " 'Finance+and+Financial+Sector',\n",
    " 'Environmental+Protection',\n",
    " 'Labor+and+Employment',\n",
    " 'Transportation+and+Public+Works',\n",
    " 'Energy',\n",
    " 'Civil+Rights+and+Liberties,+Minority+Issues',\n",
    " 'Emergency+Management',\n",
    " 'Law',\n",
    " 'Economics+and+Public+Finance',\n",
    " 'Commerce',\n",
    " 'Native+Americans',\n",
    " 'Housing+and+Community+Development',\n",
    " 'Social+Welfare',\n",
    " 'Water+Resources+Development',\n",
    " 'Agriculture+and+Food',\n",
    " 'Animals',\n",
    " 'Foreign+Trade+and+International+Finance',\n",
    " 'Families',\n",
    " 'Sports+and+Recreation',\n",
    " 'Arts,+Culture,+Religion',\n",
    " 'Social+Sciences+and+History']\n",
    "\n",
    "congress_list = [str(i) for i in range(115,116)]\n",
    "\n",
    "congress_list\n",
    "\n",
    "table.i\n",
    "\n",
    "\n",
    "for num in congress_list:\n",
    "    for sub in sub_list:\n",
    "        print sub,num\n",
    "        table.insert_one(scrape_legislation(sub,num))\n",
    "\n",
    "\n",
    "\n",
    "scrape_legislation('Taxation','102')"
   ]
  },
  {
   "cell_type": "code",
   "execution_count": null,
   "metadata": {
    "collapsed": true
   },
   "outputs": [],
   "source": []
  },
  {
   "cell_type": "code",
   "execution_count": null,
   "metadata": {
    "collapsed": true
   },
   "outputs": [],
   "source": []
  },
  {
   "cell_type": "code",
   "execution_count": null,
   "metadata": {
    "collapsed": true
   },
   "outputs": [],
   "source": []
  },
  {
   "cell_type": "code",
   "execution_count": 13,
   "metadata": {
    "collapsed": true
   },
   "outputs": [],
   "source": [
    "base_url = 'https://www.congress.gov/search?'\n",
    "search = 'q='+'{\"source\":\"congrecord\",\"congress\":'+'\"114\"'+',\"cr-section\":'+'[\"Senate\",\"House\"]'+'}'\n",
    "pagesize = 250"
   ]
  },
  {
   "cell_type": "code",
   "execution_count": 28,
   "metadata": {
    "collapsed": false
   },
   "outputs": [],
   "source": [
    "params1 = OrderedDict([('pageSize','250'),('page','1')])\n",
    "base_url1 = base_url + search\n",
    "result = requests.get(base_url1,params = urlencode(params1))"
   ]
  },
  {
   "cell_type": "code",
   "execution_count": 29,
   "metadata": {
    "collapsed": true
   },
   "outputs": [],
   "source": [
    "soup = BeautifulSoup(result.content,'lxml')"
   ]
  },
  {
   "cell_type": "code",
   "execution_count": 21,
   "metadata": {
    "collapsed": true
   },
   "outputs": [],
   "source": [
    "import math"
   ]
  },
  {
   "cell_type": "code",
   "execution_count": 30,
   "metadata": {
    "collapsed": false
   },
   "outputs": [],
   "source": [
    "links = soup.find_all('span',{'class':'result-heading'})\n",
    "\n",
    "result_item = soup.find_all('span',attrs={'class':'result-item'})\n",
    "# number of bills in this subject\n",
    "num_bill = int(soup.find('span',{'class':'results-number'}).text.split()[-1].replace(',',''))\n",
    "num_pages = int(math.ceil(float(num_bill)/250))"
   ]
  },
  {
   "cell_type": "code",
   "execution_count": 58,
   "metadata": {
    "collapsed": false
   },
   "outputs": [
    {
     "data": {
      "text/plain": [
       "u'Senate'"
      ]
     },
     "execution_count": 58,
     "metadata": {},
     "output_type": "execute_result"
    }
   ],
   "source": [
    "links[0].find('a').text"
   ]
  },
  {
   "cell_type": "code",
   "execution_count": 59,
   "metadata": {
    "collapsed": false
   },
   "outputs": [
    {
     "data": {
      "text/plain": [
       "'https://www.congress.gov/congressional-record/2016/12/30/senate-section/article/s7179-1?r=1'"
      ]
     },
     "execution_count": 59,
     "metadata": {},
     "output_type": "execute_result"
    }
   ],
   "source": [
    "links[0].find('a').get('href')"
   ]
  },
  {
   "cell_type": "code",
   "execution_count": null,
   "metadata": {
    "collapsed": true
   },
   "outputs": [],
   "source": []
  },
  {
   "cell_type": "code",
   "execution_count": 48,
   "metadata": {
    "collapsed": false
   },
   "outputs": [
    {
     "data": {
      "text/plain": [
       "u' December 30, 2016 '"
      ]
     },
     "execution_count": 48,
     "metadata": {},
     "output_type": "execute_result"
    }
   ],
   "source": [
    "links[1].find('a').text.split('-')[0].replace('(','')"
   ]
  },
  {
   "cell_type": "code",
   "execution_count": 55,
   "metadata": {
    "collapsed": false
   },
   "outputs": [
    {
     "data": {
      "text/plain": [
       "u' Senate Vol. 162, No. 185'"
      ]
     },
     "execution_count": 55,
     "metadata": {},
     "output_type": "execute_result"
    }
   ],
   "source": [
    "links[1].find('a').text.split('-')[1].replace('(','').strip(')')"
   ]
  },
  {
   "cell_type": "code",
   "execution_count": null,
   "metadata": {
    "collapsed": true
   },
   "outputs": [],
   "source": []
  },
  {
   "cell_type": "code",
   "execution_count": 27,
   "metadata": {
    "collapsed": false
   },
   "outputs": [
    {
     "data": {
      "text/plain": [
       "u'\\nSponsor: Rep. Russell, Steve [R-OK-5] (Introduced 03/17/2017) Cosponsors: (0)        '"
      ]
     },
     "execution_count": 27,
     "metadata": {},
     "output_type": "execute_result"
    }
   ],
   "source": [
    "result_item[0].text"
   ]
  },
  {
   "cell_type": "code",
   "execution_count": 60,
   "metadata": {
    "collapsed": false
   },
   "outputs": [
    {
     "data": {
      "text/plain": [
       "34938"
      ]
     },
     "execution_count": 60,
     "metadata": {},
     "output_type": "execute_result"
    }
   ],
   "source": [
    "num_bill"
   ]
  },
  {
   "cell_type": "code",
   "execution_count": 62,
   "metadata": {
    "collapsed": false
   },
   "outputs": [
    {
     "data": {
      "text/plain": [
       "140"
      ]
     },
     "execution_count": 62,
     "metadata": {},
     "output_type": "execute_result"
    }
   ],
   "source": [
    "num_pages"
   ]
  },
  {
   "cell_type": "code",
   "execution_count": null,
   "metadata": {
    "collapsed": true
   },
   "outputs": [],
   "source": []
  },
  {
   "cell_type": "code",
   "execution_count": null,
   "metadata": {
    "collapsed": true
   },
   "outputs": [],
   "source": [
    "result_item = soup.find_all('span',attrs={'class':'result-item'})"
   ]
  }
 ],
 "metadata": {
  "kernelspec": {
   "display_name": "Python [conda root]",
   "language": "python",
   "name": "conda-root-py"
  },
  "language_info": {
   "codemirror_mode": {
    "name": "ipython",
    "version": 2
   },
   "file_extension": ".py",
   "mimetype": "text/x-python",
   "name": "python",
   "nbconvert_exporter": "python",
   "pygments_lexer": "ipython2",
   "version": "2.7.13"
  }
 },
 "nbformat": 4,
 "nbformat_minor": 2
}
