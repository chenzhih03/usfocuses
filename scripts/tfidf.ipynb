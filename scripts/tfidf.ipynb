{
 "cells": [
  {
   "cell_type": "code",
   "execution_count": 3,
   "metadata": {
    "collapsed": true
   },
   "outputs": [],
   "source": [
    "import numpy as np\n",
    "import pickle as pkl\n",
    "import re\n",
    "import pandas as pd\n",
    "from nltk.tokenize import word_tokenize\n",
    "from nltk.corpus import stopwords\n",
    "from nltk.stem.porter import PorterStemmer\n",
    "from pyspark.mllib.clustering import KMeans\n",
    "from collections import Counter\n",
    "from nltk.corpus import stopwords\n",
    "import string\n",
    "import pyspark as ps    # for the pyspark suite\n",
    "from pyspark.sql.functions import udf, col\n",
    "from pyspark.sql.types import ArrayType, StringType\n",
    "import unicodedata\n",
    "import nltk\n",
    "\n",
    "from nltk.tokenize import sent_tokenize\n",
    "from nltk.stem.snowball import SnowballStemmer\n",
    "from nltk.util import ngrams\n",
    "from nltk import pos_tag\n",
    "from nltk import RegexpParser\n",
    "\n",
    "from pyspark.ml.feature import CountVectorizer\n",
    "from pyspark.ml.feature import IDF\n",
    "\n",
    "import sys\n",
    "from pyspark.ml import Pipeline\n",
    "from pyspark.ml.feature import Tokenizer, RegexTokenizer, StopWordsRemover, NGram, \\\n",
    "        CountVectorizer, IDF, Word2Vec\n",
    "from pyspark.sql.functions import udf, col, explode, collect_list, to_date, concat\n",
    "from pyspark.sql.types import StructType, StructField, IntegerType, StringType, \\\n",
    "        FloatType, ArrayType, BooleanType\n",
    "from nltk.stem import SnowballStemmer\n",
    "\n",
    "\n",
    "\n"
   ]
  },
  {
   "cell_type": "code",
   "execution_count": null,
   "metadata": {
    "collapsed": true
   },
   "outputs": [],
   "source": []
  },
  {
   "cell_type": "code",
   "execution_count": 4,
   "metadata": {
    "collapsed": false
   },
   "outputs": [],
   "source": [
    "df_full = spark.read.csv('s3a://usfocus/congress_full.csv',header = True,inferSchema=True,sep=\",\")\n"
   ]
  },
  {
   "cell_type": "code",
   "execution_count": null,
   "metadata": {
    "collapsed": true
   },
   "outputs": [],
   "source": []
  },
  {
   "cell_type": "code",
   "execution_count": 5,
   "metadata": {
    "collapsed": false
   },
   "outputs": [
    {
     "name": "stdout",
     "output_type": "stream",
     "text": [
      "root\n",
      " |-- content: string (nullable = true)\n",
      " |-- subject: string (nullable = true)\n",
      " |-- dates: string (nullable = true)\n",
      " |-- name: string (nullable = true)\n",
      " |-- congress: double (nullable = true)\n",
      "\n"
     ]
    }
   ],
   "source": [
    "df_full.printSchema()"
   ]
  },
  {
   "cell_type": "code",
   "execution_count": null,
   "metadata": {
    "collapsed": true
   },
   "outputs": [],
   "source": []
  },
  {
   "cell_type": "code",
   "execution_count": 6,
   "metadata": {
    "collapsed": false
   },
   "outputs": [
    {
     "data": {
      "text/plain": [
       "81124"
      ]
     },
     "execution_count": 6,
     "metadata": {},
     "output_type": "execute_result"
    }
   ],
   "source": [
    "df_full.count()"
   ]
  },
  {
   "cell_type": "code",
   "execution_count": null,
   "metadata": {
    "collapsed": true
   },
   "outputs": [],
   "source": []
  },
  {
   "cell_type": "code",
   "execution_count": 7,
   "metadata": {
    "collapsed": true
   },
   "outputs": [],
   "source": [
    "tokenizer = RegexTokenizer(inputCol=\"content\", outputCol=\"tokens\", pattern=\"\\\\W\", minTokenLength=3)\n",
    "\n",
    "remover = StopWordsRemover(inputCol=\"tokens\", outputCol='tokens_nostopwords')\n",
    "\n",
    "from pyspark import keyword_only\n",
    "from pyspark.ml.util import Identifiable\n",
    "from pyspark.ml.pipeline import Transformer\n",
    "from pyspark.ml.param.shared import HasInputCol, HasOutputCol, Param\n",
    "from nltk.stem import SnowballStemmer\n",
    "from pyspark.sql.functions import udf\n",
    "from pyspark.sql.types import ArrayType, StringType\n",
    "\n",
    "# Custom stemming transformer class for pyspark\n",
    "class Stemming_Transformer(Transformer, HasInputCol, HasOutputCol):\n",
    "    @keyword_only\n",
    "    def __init__(self, inputCol=None, outputCol=None):\n",
    "        super(Stemming_Transformer, self).__init__()\n",
    "        kwargs = self.__init__._input_kwargs\n",
    "        self.setParams(**kwargs)\n",
    "\n",
    "    @keyword_only\n",
    "    def setParams(self, inputCol=None, outputCol=None, language='english', ):\n",
    "        kwargs = self.setParams._input_kwargs\n",
    "        return self._set(**kwargs)\n",
    "\n",
    "    def _transform(self, dataset):\n",
    "        opinion_stemm = SnowballStemmer('english')\n",
    "        udfStemmer = udf(lambda tokens: [opinion_stemm.stem(word) for word in tokens], ArrayType(StringType()))\n",
    "\n",
    "        inCol = self.getInputCol()\n",
    "        outCol = self.getOutputCol()\n",
    "\n",
    "        return dataset.withColumn(outCol, udfStemmer(inCol))\n",
    "\n",
    "stemmer = Stemming_Transformer(inputCol='tokens_nostopwords', outputCol='tokens_stemmed')\n",
    "\n",
    "cv = CountVectorizer(inputCol='tokens_stemmed', outputCol='tokens_countvectorized', minDF=2.0,vocabSize=5000)\n",
    "\n",
    "idf = IDF(inputCol='tokens_countvectorized', outputCol='token_idf')"
   ]
  },
  {
   "cell_type": "code",
   "execution_count": null,
   "metadata": {
    "collapsed": true
   },
   "outputs": [],
   "source": []
  },
  {
   "cell_type": "code",
   "execution_count": 8,
   "metadata": {
    "collapsed": true
   },
   "outputs": [],
   "source": [
    "#w2v_2d = Word2Vec(vectorSize=2, minCount=2, inputCol=stemmer.getOutputCol(), outputCol='word2vec_2d')\n",
    "\n",
    "\n",
    "\n",
    "#w2v_large = Word2Vec(vectorSize=250, minCount=2, inputCol=stemmer.getOutputCol(), outputCol='word2vec_large')\n",
    "\n",
    "\n",
    "pipe_stem = Pipeline(stages=[tokenizer, remover, stemmer])\n",
    "\n",
    "model_stem = pipe_stem.fit(df_full)\n",
    "\n",
    "df_stemmed = model_stem.transform(df_full)\n"
   ]
  },
  {
   "cell_type": "code",
   "execution_count": 9,
   "metadata": {
    "collapsed": true
   },
   "outputs": [],
   "source": [
    "cv_model = cv.fit(df_stemmed)\n",
    "\n",
    "df_countvector = cv_model.transform(df_stemmed)\n",
    "\n",
    "Vocab = cv_model.vocabulary"
   ]
  },
  {
   "cell_type": "code",
   "execution_count": 10,
   "metadata": {
    "collapsed": false,
    "scrolled": true
   },
   "outputs": [
    {
     "data": {
      "text/plain": [
       "5000"
      ]
     },
     "execution_count": 10,
     "metadata": {},
     "output_type": "execute_result"
    }
   ],
   "source": [
    "len(Vocab)"
   ]
  },
  {
   "cell_type": "code",
   "execution_count": null,
   "metadata": {
    "collapsed": true
   },
   "outputs": [],
   "source": []
  },
  {
   "cell_type": "code",
   "execution_count": null,
   "metadata": {
    "collapsed": true
   },
   "outputs": [],
   "source": []
  },
  {
   "cell_type": "code",
   "execution_count": 11,
   "metadata": {
    "collapsed": false
   },
   "outputs": [],
   "source": [
    "model_idf = idf.fit(df_countvector)\n",
    "\n",
    "df_tfidf = model_idf.transform(df_countvector)"
   ]
  },
  {
   "cell_type": "code",
   "execution_count": null,
   "metadata": {
    "collapsed": true
   },
   "outputs": [],
   "source": []
  },
  {
   "cell_type": "code",
   "execution_count": 12,
   "metadata": {
    "collapsed": false
   },
   "outputs": [
    {
     "data": {
      "text/plain": [
       "{'Agriculture+and+Food': 25,\n",
       " 'Animals': 26,\n",
       " 'Armed+Forces+and+National+Security': 3,\n",
       " 'Arts,+Culture,+Religion': 30,\n",
       " 'Civil+Rights+and+Liberties,+Minority+Issues': 16,\n",
       " 'Commerce': 20,\n",
       " 'Congress': 6,\n",
       " 'Crime+and+Law+Enforcement': 7,\n",
       " 'Economics+and+Public+Finance': 19,\n",
       " 'Education': 10,\n",
       " 'Emergency+Management': 17,\n",
       " 'Energy': 15,\n",
       " 'Environmental+Protection': 12,\n",
       " 'Families': 28,\n",
       " 'Finance+and+Financial+Sector': 11,\n",
       " 'Foreign+Trade+and+International+Finance': 27,\n",
       " 'Government+Operations+and+Politics': 1,\n",
       " 'Health': 0,\n",
       " 'Housing+and+Community+Development': 22,\n",
       " 'Immigration': 8,\n",
       " 'International+Affairs': 5,\n",
       " 'Labor+and+Employment': 13,\n",
       " 'Law': 18,\n",
       " 'Native+Americans': 21,\n",
       " 'Public+Lands+and+Natural+Resources': 4,\n",
       " 'Science,+Technology,+Communications': 9,\n",
       " 'Social+Sciences+and+History': 31,\n",
       " 'Social+Welfare': 23,\n",
       " 'Sports+and+Recreation': 29,\n",
       " 'Taxation': 2,\n",
       " 'Transportation+and+Public+Works': 14,\n",
       " 'Water+Resources+Development': 24}"
      ]
     },
     "execution_count": 12,
     "metadata": {},
     "output_type": "execute_result"
    }
   ],
   "source": [
    "\n",
    "sub_list =['Health',\n",
    " 'Government+Operations+and+Politics',\n",
    " 'Taxation',\n",
    " 'Armed+Forces+and+National+Security',\n",
    " 'Public+Lands+and+Natural+Resources',\n",
    " 'International+Affairs',\n",
    " 'Congress',\n",
    " 'Crime+and+Law+Enforcement',\n",
    " 'Immigration',\n",
    " 'Science,+Technology,+Communications',\n",
    " 'Education',\n",
    " 'Finance+and+Financial+Sector',\n",
    " 'Environmental+Protection',\n",
    " 'Labor+and+Employment',\n",
    " 'Transportation+and+Public+Works',\n",
    " 'Energy',\n",
    " 'Civil+Rights+and+Liberties,+Minority+Issues',\n",
    " 'Emergency+Management',\n",
    " 'Law',\n",
    " 'Economics+and+Public+Finance',\n",
    " 'Commerce',\n",
    " 'Native+Americans',\n",
    " 'Housing+and+Community+Development',\n",
    " 'Social+Welfare',\n",
    " 'Water+Resources+Development',\n",
    " 'Agriculture+and+Food',\n",
    " 'Animals',\n",
    " 'Foreign+Trade+and+International+Finance',\n",
    " 'Families',\n",
    " 'Sports+and+Recreation',\n",
    " 'Arts,+Culture,+Religion',\n",
    " 'Social+Sciences+and+History']\n",
    "\n",
    "sub_dict = {}\n",
    "for i in range(len(sub_list)):\n",
    "    sub_dict[sub_list[i]] = i\n",
    "\n",
    "sub_dict\n",
    "\n"
   ]
  },
  {
   "cell_type": "code",
   "execution_count": null,
   "metadata": {
    "collapsed": true
   },
   "outputs": [],
   "source": []
  },
  {
   "cell_type": "code",
   "execution_count": 13,
   "metadata": {
    "collapsed": false
   },
   "outputs": [],
   "source": [
    "df_presidential = spark.read.json('s3a://usfocus/presidential-full-final.json')"
   ]
  },
  {
   "cell_type": "code",
   "execution_count": null,
   "metadata": {
    "collapsed": true
   },
   "outputs": [],
   "source": []
  },
  {
   "cell_type": "code",
   "execution_count": 14,
   "metadata": {
    "collapsed": false
   },
   "outputs": [
    {
     "data": {
      "text/plain": [
       "975"
      ]
     },
     "execution_count": 14,
     "metadata": {},
     "output_type": "execute_result"
    }
   ],
   "source": [
    "df_presidential.count()"
   ]
  },
  {
   "cell_type": "code",
   "execution_count": null,
   "metadata": {
    "collapsed": true
   },
   "outputs": [],
   "source": []
  },
  {
   "cell_type": "code",
   "execution_count": null,
   "metadata": {
    "collapsed": true
   },
   "outputs": [],
   "source": []
  },
  {
   "cell_type": "code",
   "execution_count": 15,
   "metadata": {
    "collapsed": false
   },
   "outputs": [],
   "source": [
    "df_presidential = df_presidential.filter(df_presidential['content'] != 'null')"
   ]
  },
  {
   "cell_type": "code",
   "execution_count": null,
   "metadata": {
    "collapsed": true
   },
   "outputs": [],
   "source": []
  },
  {
   "cell_type": "code",
   "execution_count": null,
   "metadata": {
    "collapsed": true
   },
   "outputs": [],
   "source": []
  },
  {
   "cell_type": "code",
   "execution_count": 16,
   "metadata": {
    "collapsed": false
   },
   "outputs": [
    {
     "data": {
      "text/plain": [
       "974"
      ]
     },
     "execution_count": 16,
     "metadata": {},
     "output_type": "execute_result"
    }
   ],
   "source": [
    "df_presidential.count()"
   ]
  },
  {
   "cell_type": "code",
   "execution_count": null,
   "metadata": {
    "collapsed": true
   },
   "outputs": [],
   "source": []
  },
  {
   "cell_type": "code",
   "execution_count": 17,
   "metadata": {
    "collapsed": false
   },
   "outputs": [
    {
     "name": "stdout",
     "output_type": "stream",
     "text": [
      "+---------------+--------------------+--------------------+------------------+--------------------+--------------------+\n",
      "|_corrupt_record|                 _id|             content|              date|                link|        speech_title|\n",
      "+---------------+--------------------+--------------------+------------------+--------------------+--------------------+\n",
      "|           null|[58d03d7addc55a11...|Thank you.  (Appl...|    March 22, 2016|https://millercen...| Remarks to the P...|\n",
      "|           null|[58d03d7fddc55a11...|Mr. Speaker, Mr. ...|  January 12, 2016|https://millercen...| 2016 State of th...|\n",
      "|           null|[58d03d84ddc55a11...|THE PRESIDENT:  G...|     June 26, 2015|https://millercen...| Remarks in Eulog...|\n",
      "|           null|[58d03d89ddc55a11...|UDIENCE MEMBER:  ...|     March 7, 2015|https://millercen...| Remarks at the 5...|\n",
      "|           null|[58d03d8eddc55a11...|Mr. Speaker, Mr. ...|  January 20, 2015|https://millercen...| 2015 State of th...|\n",
      "|           null|[58d03d93ddc55a11...|My fellow America...| November 20, 2014|https://millercen...| Address to the N...|\n",
      "|           null|[58d03d99ddc55a11...|Mr. Speaker, Mr. ...|  January 28, 2014|https://millercen...| 2014 State of th...|\n",
      "|           null|[58d03d9eddc55a11...|Thank you.  (Appl...|  December 4, 2013|https://millercen...| Speech on Econom...|\n",
      "|           null|[58d03da3ddc55a11...|My fellow America...|September 10, 2013|https://millercen...| Address to the N...|\n",
      "|           null|[58d03daeddc55a11...|Hello, Warrensbur...|     July 24, 2013|https://millercen...| Remarks on Educa...|\n",
      "|           null|[58d03db1ddc55a11...|I wanted to come ...|     July 13, 2013|https://millercen...| Remarks on Trayv...|\n",
      "|           null|[58d03db5ddc55a11...|Hello, Connecticu...|     April 8, 2013|https://millercen...| Speech on Gun Vi...|\n",
      "|           null|[58d03dbaddc55a11...|Thank you.  (Appl...|    March 21, 2013|https://millercen...| Address to the P...|\n",
      "|           null|[58d03dbfddc55a11...|Good morning, eve...|     March 1, 2013|https://millercen...| Statement on the...|\n",
      "|           null|[58d03dc3ddc55a11...|Mr. Speaker, Mr. ...| February 13, 2013|https://millercen...| 2013 State of th...|\n",
      "|           null|[58d03dcbddc55a11...|Thank you!  (Appl...|  January 29, 2013|https://millercen...| Remarks on Immig...|\n",
      "|           null|[58d03dcfddc55a11...|Vice President Bi...|  January 21, 2013|https://millercen...| Second Inaugural...|\n",
      "|           null|[58d03dd3ddc55a11...|Thank you.  (Appl...| December 16, 2012|https://millercen...| Remarks on Sandy...|\n",
      "|           null|[58d03ddbddc55a11...|Tonight, more tha...|  November 6, 2012|https://millercen...| 2012 Election Ni...|\n",
      "|           null|[58d03ddfddc55a11...|THE PRESIDENT:  T...| September 6, 2012|https://millercen...| Nominee Acceptan...|\n",
      "+---------------+--------------------+--------------------+------------------+--------------------+--------------------+\n",
      "only showing top 20 rows\n",
      "\n"
     ]
    }
   ],
   "source": [
    "df_presidential.show()"
   ]
  },
  {
   "cell_type": "code",
   "execution_count": 18,
   "metadata": {
    "collapsed": true
   },
   "outputs": [],
   "source": [
    "model_stem_pre = pipe_stem.fit(df_presidential)"
   ]
  },
  {
   "cell_type": "code",
   "execution_count": 19,
   "metadata": {
    "collapsed": false
   },
   "outputs": [],
   "source": [
    "df_pres_stem = model_stem_pre.transform(df_presidential)"
   ]
  },
  {
   "cell_type": "code",
   "execution_count": 20,
   "metadata": {
    "collapsed": false
   },
   "outputs": [
    {
     "name": "stdout",
     "output_type": "stream",
     "text": [
      "+---------------+--------------------+--------------------+------------------+--------------------+--------------------+--------------------+--------------------+--------------------+\n",
      "|_corrupt_record|                 _id|             content|              date|                link|        speech_title|              tokens|  tokens_nostopwords|      tokens_stemmed|\n",
      "+---------------+--------------------+--------------------+------------------+--------------------+--------------------+--------------------+--------------------+--------------------+\n",
      "|           null|[58d03d7addc55a11...|Thank you.  (Appl...|    March 22, 2016|https://millercen...| Remarks to the P...|[thank, you, appl...|[thank, applause,...|[thank, applaus, ...|\n",
      "|           null|[58d03d7fddc55a11...|Mr. Speaker, Mr. ...|  January 12, 2016|https://millercen...| 2016 State of th...|[speaker, vice, p...|[speaker, vice, p...|[speaker, vice, p...|\n",
      "|           null|[58d03d84ddc55a11...|THE PRESIDENT:  G...|     June 26, 2015|https://millercen...| Remarks in Eulog...|[the, president, ...|[president, givin...|[presid, give, pr...|\n",
      "|           null|[58d03d89ddc55a11...|UDIENCE MEMBER:  ...|     March 7, 2015|https://millercen...| Remarks at the 5...|[udience, member,...|[udience, member,...|[udienc, member, ...|\n",
      "|           null|[58d03d8eddc55a11...|Mr. Speaker, Mr. ...|  January 20, 2015|https://millercen...| 2015 State of th...|[speaker, vice, p...|[speaker, vice, p...|[speaker, vice, p...|\n",
      "|           null|[58d03d93ddc55a11...|My fellow America...| November 20, 2014|https://millercen...| Address to the N...|[fellow, american...|[fellow, american...|[fellow, american...|\n",
      "|           null|[58d03d99ddc55a11...|Mr. Speaker, Mr. ...|  January 28, 2014|https://millercen...| 2014 State of th...|[speaker, vice, p...|[speaker, vice, p...|[speaker, vice, p...|\n",
      "|           null|[58d03d9eddc55a11...|Thank you.  (Appl...|  December 4, 2013|https://millercen...| Speech on Econom...|[thank, you, appl...|[thank, applause,...|[thank, applaus, ...|\n",
      "|           null|[58d03da3ddc55a11...|My fellow America...|September 10, 2013|https://millercen...| Address to the N...|[fellow, american...|[fellow, american...|[fellow, american...|\n",
      "|           null|[58d03daeddc55a11...|Hello, Warrensbur...|     July 24, 2013|https://millercen...| Remarks on Educa...|[hello, warrensbu...|[hello, warrensbu...|[hello, warrensbu...|\n",
      "|           null|[58d03db1ddc55a11...|I wanted to come ...|     July 13, 2013|https://millercen...| Remarks on Trayv...|[wanted, come, ou...|[wanted, come, fi...|[want, come, firs...|\n",
      "|           null|[58d03db5ddc55a11...|Hello, Connecticu...|     April 8, 2013|https://millercen...| Speech on Gun Vi...|[hello, connectic...|[hello, connectic...|[hello, connectic...|\n",
      "|           null|[58d03dbaddc55a11...|Thank you.  (Appl...|    March 21, 2013|https://millercen...| Address to the P...|[thank, you, appl...|[thank, applause,...|[thank, applaus, ...|\n",
      "|           null|[58d03dbfddc55a11...|Good morning, eve...|     March 1, 2013|https://millercen...| Statement on the...|[good, morning, e...|[good, morning, e...|[good, morn, ever...|\n",
      "|           null|[58d03dc3ddc55a11...|Mr. Speaker, Mr. ...| February 13, 2013|https://millercen...| 2013 State of th...|[speaker, vice, p...|[speaker, vice, p...|[speaker, vice, p...|\n",
      "|           null|[58d03dcbddc55a11...|Thank you!  (Appl...|  January 29, 2013|https://millercen...| Remarks on Immig...|[thank, you, appl...|[thank, applause,...|[thank, applaus, ...|\n",
      "|           null|[58d03dcfddc55a11...|Vice President Bi...|  January 21, 2013|https://millercen...| Second Inaugural...|[vice, president,...|[vice, president,...|[vice, presid, bi...|\n",
      "|           null|[58d03dd3ddc55a11...|Thank you.  (Appl...| December 16, 2012|https://millercen...| Remarks on Sandy...|[thank, you, appl...|[thank, applause,...|[thank, applaus, ...|\n",
      "|           null|[58d03ddbddc55a11...|Tonight, more tha...|  November 6, 2012|https://millercen...| 2012 Election Ni...|[tonight, more, t...|[tonight, 200, ye...|[tonight, 200, ye...|\n",
      "|           null|[58d03ddfddc55a11...|THE PRESIDENT:  T...| September 6, 2012|https://millercen...| Nominee Acceptan...|[the, president, ...|[president, thank...|[presid, thank, a...|\n",
      "+---------------+--------------------+--------------------+------------------+--------------------+--------------------+--------------------+--------------------+--------------------+\n",
      "only showing top 20 rows\n",
      "\n"
     ]
    }
   ],
   "source": [
    "df_pres_stem.show()"
   ]
  },
  {
   "cell_type": "code",
   "execution_count": null,
   "metadata": {
    "collapsed": true
   },
   "outputs": [],
   "source": []
  },
  {
   "cell_type": "code",
   "execution_count": null,
   "metadata": {
    "collapsed": true
   },
   "outputs": [],
   "source": []
  },
  {
   "cell_type": "code",
   "execution_count": 21,
   "metadata": {
    "collapsed": true
   },
   "outputs": [],
   "source": [
    "Vector_presidential = cv_model.transform(df_pres_stem)"
   ]
  },
  {
   "cell_type": "code",
   "execution_count": null,
   "metadata": {
    "collapsed": true
   },
   "outputs": [],
   "source": []
  },
  {
   "cell_type": "code",
   "execution_count": 22,
   "metadata": {
    "collapsed": false
   },
   "outputs": [
    {
     "name": "stdout",
     "output_type": "stream",
     "text": [
      "root\n",
      " |-- _corrupt_record: string (nullable = true)\n",
      " |-- _id: struct (nullable = true)\n",
      " |    |-- $oid: string (nullable = true)\n",
      " |-- content: string (nullable = true)\n",
      " |-- date: string (nullable = true)\n",
      " |-- link: string (nullable = true)\n",
      " |-- speech_title: string (nullable = true)\n",
      " |-- tokens: array (nullable = true)\n",
      " |    |-- element: string (containsNull = true)\n",
      " |-- tokens_nostopwords: array (nullable = true)\n",
      " |    |-- element: string (containsNull = true)\n",
      " |-- tokens_stemmed: array (nullable = true)\n",
      " |    |-- element: string (containsNull = true)\n",
      " |-- tokens_countvectorized: vector (nullable = true)\n",
      "\n"
     ]
    }
   ],
   "source": [
    "Vector_presidential.printSchema()"
   ]
  },
  {
   "cell_type": "code",
   "execution_count": 23,
   "metadata": {
    "collapsed": false
   },
   "outputs": [
    {
     "name": "stdout",
     "output_type": "stream",
     "text": [
      "+---------------+--------------------+--------------------+------------------+--------------------+--------------------+--------------------+--------------------+--------------------+----------------------+\n",
      "|_corrupt_record|                 _id|             content|              date|                link|        speech_title|              tokens|  tokens_nostopwords|      tokens_stemmed|tokens_countvectorized|\n",
      "+---------------+--------------------+--------------------+------------------+--------------------+--------------------+--------------------+--------------------+--------------------+----------------------+\n",
      "|           null|[58d03d7addc55a11...|Thank you.  (Appl...|    March 22, 2016|https://millercen...| Remarks to the P...|[thank, you, appl...|[thank, applause,...|[thank, applaus, ...|  (5000,[2,8,10,11,...|\n",
      "|           null|[58d03d7fddc55a11...|Mr. Speaker, Mr. ...|  January 12, 2016|https://millercen...| 2016 State of th...|[speaker, vice, p...|[speaker, vice, p...|[speaker, vice, p...|  (5000,[2,3,8,9,10...|\n",
      "|           null|[58d03d84ddc55a11...|THE PRESIDENT:  G...|     June 26, 2015|https://millercen...| Remarks in Eulog...|[the, president, ...|[president, givin...|[presid, give, pr...|  (5000,[2,3,8,10,1...|\n",
      "|           null|[58d03d89ddc55a11...|UDIENCE MEMBER:  ...|     March 7, 2015|https://millercen...| Remarks at the 5...|[udience, member,...|[udience, member,...|[udienc, member, ...|  (5000,[1,2,3,4,8,...|\n",
      "|           null|[58d03d8eddc55a11...|Mr. Speaker, Mr. ...|  January 20, 2015|https://millercen...| 2015 State of th...|[speaker, vice, p...|[speaker, vice, p...|[speaker, vice, p...|  (5000,[2,3,8,9,10...|\n",
      "|           null|[58d03d93ddc55a11...|My fellow America...| November 20, 2014|https://millercen...| Address to the N...|[fellow, american...|[fellow, american...|[fellow, american...|  (5000,[1,2,3,7,9,...|\n",
      "|           null|[58d03d99ddc55a11...|Mr. Speaker, Mr. ...|  January 28, 2014|https://millercen...| 2014 State of th...|[speaker, vice, p...|[speaker, vice, p...|[speaker, vice, p...|  (5000,[2,3,8,10,1...|\n",
      "|           null|[58d03d9eddc55a11...|Thank you.  (Appl...|  December 4, 2013|https://millercen...| Speech on Econom...|[thank, you, appl...|[thank, applause,...|[thank, applaus, ...|  (5000,[2,3,4,9,10...|\n",
      "|           null|[58d03da3ddc55a11...|My fellow America...|September 10, 2013|https://millercen...| Address to the N...|[fellow, american...|[fellow, american...|[fellow, american...|  (5000,[2,3,4,8,9,...|\n",
      "|           null|[58d03daeddc55a11...|Hello, Warrensbur...|     July 24, 2013|https://millercen...| Remarks on Educa...|[hello, warrensbu...|[hello, warrensbu...|[hello, warrensbu...|  (5000,[2,3,8,9,10...|\n",
      "|           null|[58d03db1ddc55a11...|I wanted to come ...|     July 13, 2013|https://millercen...| Remarks on Trayv...|[wanted, come, ou...|[wanted, come, fi...|[want, come, firs...|  (5000,[2,10,11,15...|\n",
      "|           null|[58d03db5ddc55a11...|Hello, Connecticu...|     April 8, 2013|https://millercen...| Speech on Gun Vi...|[hello, connectic...|[hello, connectic...|[hello, connectic...|  (5000,[2,3,7,8,10...|\n",
      "|           null|[58d03dbaddc55a11...|Thank you.  (Appl...|    March 21, 2013|https://millercen...| Address to the P...|[thank, you, appl...|[thank, applause,...|[thank, applaus, ...|  (5000,[2,3,8,9,10...|\n",
      "|           null|[58d03dbfddc55a11...|Good morning, eve...|     March 1, 2013|https://millercen...| Statement on the...|[good, morning, e...|[good, morning, e...|[good, morn, ever...|  (5000,[2,3,9,10,1...|\n",
      "|           null|[58d03dc3ddc55a11...|Mr. Speaker, Mr. ...| February 13, 2013|https://millercen...| 2013 State of th...|[speaker, vice, p...|[speaker, vice, p...|[speaker, vice, p...|  (5000,[2,3,4,7,8,...|\n",
      "|           null|[58d03dcbddc55a11...|Thank you!  (Appl...|  January 29, 2013|https://millercen...| Remarks on Immig...|[thank, you, appl...|[thank, applause,...|[thank, applaus, ...|  (5000,[2,3,4,8,9,...|\n",
      "|           null|[58d03dcfddc55a11...|Vice President Bi...|  January 21, 2013|https://millercen...| Second Inaugural...|[vice, president,...|[vice, president,...|[vice, presid, bi...|  (5000,[2,3,8,10,1...|\n",
      "|           null|[58d03dd3ddc55a11...|Thank you.  (Appl...| December 16, 2012|https://millercen...| Remarks on Sandy...|[thank, you, appl...|[thank, applause,...|[thank, applaus, ...|  (5000,[2,3,8,9,10...|\n",
      "|           null|[58d03ddbddc55a11...|Tonight, more tha...|  November 6, 2012|https://millercen...| 2012 Election Ni...|[tonight, more, t...|[tonight, 200, ye...|[tonight, 200, ye...|  (5000,[2,8,9,10,1...|\n",
      "|           null|[58d03ddfddc55a11...|THE PRESIDENT:  T...| September 6, 2012|https://millercen...| Nominee Acceptan...|[the, president, ...|[president, thank...|[presid, thank, a...|  (5000,[2,8,9,10,1...|\n",
      "+---------------+--------------------+--------------------+------------------+--------------------+--------------------+--------------------+--------------------+--------------------+----------------------+\n",
      "only showing top 20 rows\n",
      "\n"
     ]
    }
   ],
   "source": [
    "Vector_presidential.show()"
   ]
  },
  {
   "cell_type": "code",
   "execution_count": 24,
   "metadata": {
    "collapsed": true
   },
   "outputs": [],
   "source": [
    "df_tfidf_pre = model_idf.transform(Vector_presidential)"
   ]
  },
  {
   "cell_type": "code",
   "execution_count": 25,
   "metadata": {
    "collapsed": false
   },
   "outputs": [
    {
     "name": "stdout",
     "output_type": "stream",
     "text": [
      "+---------------+--------------------+--------------------+------------------+--------------------+--------------------+--------------------+--------------------+--------------------+----------------------+--------------------+\n",
      "|_corrupt_record|                 _id|             content|              date|                link|        speech_title|              tokens|  tokens_nostopwords|      tokens_stemmed|tokens_countvectorized|           token_idf|\n",
      "+---------------+--------------------+--------------------+------------------+--------------------+--------------------+--------------------+--------------------+--------------------+----------------------+--------------------+\n",
      "|           null|[58d03d7addc55a11...|Thank you.  (Appl...|    March 22, 2016|https://millercen...| Remarks to the P...|[thank, you, appl...|[thank, applause,...|[thank, applaus, ...|  (5000,[2,8,10,11,...|(5000,[2,8,10,11,...|\n",
      "|           null|[58d03d7fddc55a11...|Mr. Speaker, Mr. ...|  January 12, 2016|https://millercen...| 2016 State of th...|[speaker, vice, p...|[speaker, vice, p...|[speaker, vice, p...|  (5000,[2,3,8,9,10...|(5000,[2,3,8,9,10...|\n",
      "|           null|[58d03d84ddc55a11...|THE PRESIDENT:  G...|     June 26, 2015|https://millercen...| Remarks in Eulog...|[the, president, ...|[president, givin...|[presid, give, pr...|  (5000,[2,3,8,10,1...|(5000,[2,3,8,10,1...|\n",
      "|           null|[58d03d89ddc55a11...|UDIENCE MEMBER:  ...|     March 7, 2015|https://millercen...| Remarks at the 5...|[udience, member,...|[udience, member,...|[udienc, member, ...|  (5000,[1,2,3,4,8,...|(5000,[1,2,3,4,8,...|\n",
      "|           null|[58d03d8eddc55a11...|Mr. Speaker, Mr. ...|  January 20, 2015|https://millercen...| 2015 State of th...|[speaker, vice, p...|[speaker, vice, p...|[speaker, vice, p...|  (5000,[2,3,8,9,10...|(5000,[2,3,8,9,10...|\n",
      "|           null|[58d03d93ddc55a11...|My fellow America...| November 20, 2014|https://millercen...| Address to the N...|[fellow, american...|[fellow, american...|[fellow, american...|  (5000,[1,2,3,7,9,...|(5000,[1,2,3,7,9,...|\n",
      "|           null|[58d03d99ddc55a11...|Mr. Speaker, Mr. ...|  January 28, 2014|https://millercen...| 2014 State of th...|[speaker, vice, p...|[speaker, vice, p...|[speaker, vice, p...|  (5000,[2,3,8,10,1...|(5000,[2,3,8,10,1...|\n",
      "|           null|[58d03d9eddc55a11...|Thank you.  (Appl...|  December 4, 2013|https://millercen...| Speech on Econom...|[thank, you, appl...|[thank, applause,...|[thank, applaus, ...|  (5000,[2,3,4,9,10...|(5000,[2,3,4,9,10...|\n",
      "|           null|[58d03da3ddc55a11...|My fellow America...|September 10, 2013|https://millercen...| Address to the N...|[fellow, american...|[fellow, american...|[fellow, american...|  (5000,[2,3,4,8,9,...|(5000,[2,3,4,8,9,...|\n",
      "|           null|[58d03daeddc55a11...|Hello, Warrensbur...|     July 24, 2013|https://millercen...| Remarks on Educa...|[hello, warrensbu...|[hello, warrensbu...|[hello, warrensbu...|  (5000,[2,3,8,9,10...|(5000,[2,3,8,9,10...|\n",
      "|           null|[58d03db1ddc55a11...|I wanted to come ...|     July 13, 2013|https://millercen...| Remarks on Trayv...|[wanted, come, ou...|[wanted, come, fi...|[want, come, firs...|  (5000,[2,10,11,15...|(5000,[2,10,11,15...|\n",
      "|           null|[58d03db5ddc55a11...|Hello, Connecticu...|     April 8, 2013|https://millercen...| Speech on Gun Vi...|[hello, connectic...|[hello, connectic...|[hello, connectic...|  (5000,[2,3,7,8,10...|(5000,[2,3,7,8,10...|\n",
      "|           null|[58d03dbaddc55a11...|Thank you.  (Appl...|    March 21, 2013|https://millercen...| Address to the P...|[thank, you, appl...|[thank, applause,...|[thank, applaus, ...|  (5000,[2,3,8,9,10...|(5000,[2,3,8,9,10...|\n",
      "|           null|[58d03dbfddc55a11...|Good morning, eve...|     March 1, 2013|https://millercen...| Statement on the...|[good, morning, e...|[good, morning, e...|[good, morn, ever...|  (5000,[2,3,9,10,1...|(5000,[2,3,9,10,1...|\n",
      "|           null|[58d03dc3ddc55a11...|Mr. Speaker, Mr. ...| February 13, 2013|https://millercen...| 2013 State of th...|[speaker, vice, p...|[speaker, vice, p...|[speaker, vice, p...|  (5000,[2,3,4,7,8,...|(5000,[2,3,4,7,8,...|\n",
      "|           null|[58d03dcbddc55a11...|Thank you!  (Appl...|  January 29, 2013|https://millercen...| Remarks on Immig...|[thank, you, appl...|[thank, applause,...|[thank, applaus, ...|  (5000,[2,3,4,8,9,...|(5000,[2,3,4,8,9,...|\n",
      "|           null|[58d03dcfddc55a11...|Vice President Bi...|  January 21, 2013|https://millercen...| Second Inaugural...|[vice, president,...|[vice, president,...|[vice, presid, bi...|  (5000,[2,3,8,10,1...|(5000,[2,3,8,10,1...|\n",
      "|           null|[58d03dd3ddc55a11...|Thank you.  (Appl...| December 16, 2012|https://millercen...| Remarks on Sandy...|[thank, you, appl...|[thank, applause,...|[thank, applaus, ...|  (5000,[2,3,8,9,10...|(5000,[2,3,8,9,10...|\n",
      "|           null|[58d03ddbddc55a11...|Tonight, more tha...|  November 6, 2012|https://millercen...| 2012 Election Ni...|[tonight, more, t...|[tonight, 200, ye...|[tonight, 200, ye...|  (5000,[2,8,9,10,1...|(5000,[2,8,9,10,1...|\n",
      "|           null|[58d03ddfddc55a11...|THE PRESIDENT:  T...| September 6, 2012|https://millercen...| Nominee Acceptan...|[the, president, ...|[president, thank...|[presid, thank, a...|  (5000,[2,8,9,10,1...|(5000,[2,8,9,10,1...|\n",
      "+---------------+--------------------+--------------------+------------------+--------------------+--------------------+--------------------+--------------------+--------------------+----------------------+--------------------+\n",
      "only showing top 20 rows\n",
      "\n"
     ]
    }
   ],
   "source": [
    "df_tfidf_pre.show()"
   ]
  },
  {
   "cell_type": "code",
   "execution_count": null,
   "metadata": {
    "collapsed": true
   },
   "outputs": [],
   "source": []
  },
  {
   "cell_type": "code",
   "execution_count": 26,
   "metadata": {
    "collapsed": true
   },
   "outputs": [],
   "source": [
    "topicWord=udf(lambda tkn: sub_dict[tkn],IntegerType())"
   ]
  },
  {
   "cell_type": "code",
   "execution_count": null,
   "metadata": {
    "collapsed": true
   },
   "outputs": [],
   "source": []
  },
  {
   "cell_type": "code",
   "execution_count": 27,
   "metadata": {
    "collapsed": true
   },
   "outputs": [],
   "source": [
    "df_tfidf=df_tfidf.withColumn(\"label\",topicWord(df_tfidf.subject))"
   ]
  },
  {
   "cell_type": "code",
   "execution_count": 28,
   "metadata": {
    "collapsed": false
   },
   "outputs": [
    {
     "name": "stdout",
     "output_type": "stream",
     "text": [
      "root\n",
      " |-- content: string (nullable = true)\n",
      " |-- subject: string (nullable = true)\n",
      " |-- dates: string (nullable = true)\n",
      " |-- name: string (nullable = true)\n",
      " |-- congress: double (nullable = true)\n",
      " |-- tokens: array (nullable = true)\n",
      " |    |-- element: string (containsNull = true)\n",
      " |-- tokens_nostopwords: array (nullable = true)\n",
      " |    |-- element: string (containsNull = true)\n",
      " |-- tokens_stemmed: array (nullable = true)\n",
      " |    |-- element: string (containsNull = true)\n",
      " |-- tokens_countvectorized: vector (nullable = true)\n",
      " |-- token_idf: vector (nullable = true)\n",
      " |-- label: integer (nullable = true)\n",
      "\n"
     ]
    }
   ],
   "source": [
    "df_tfidf.printSchema()"
   ]
  },
  {
   "cell_type": "code",
   "execution_count": null,
   "metadata": {
    "collapsed": true
   },
   "outputs": [],
   "source": []
  },
  {
   "cell_type": "code",
   "execution_count": 90,
   "metadata": {
    "collapsed": true
   },
   "outputs": [],
   "source": [
    "df_tfidf.write.json('s3a://usfocus/congress_tfidf_2nd.json')"
   ]
  },
  {
   "cell_type": "code",
   "execution_count": null,
   "metadata": {
    "collapsed": true
   },
   "outputs": [],
   "source": []
  },
  {
   "cell_type": "code",
   "execution_count": 29,
   "metadata": {
    "collapsed": true
   },
   "outputs": [],
   "source": [
    "from pyspark.ml.classification import NaiveBayes"
   ]
  },
  {
   "cell_type": "code",
   "execution_count": 30,
   "metadata": {
    "collapsed": true
   },
   "outputs": [],
   "source": [
    "nb = NaiveBayes(smoothing=1.0, modelType=\"multinomial\",featuresCol=\"token_idf\", labelCol=\"label\")"
   ]
  },
  {
   "cell_type": "code",
   "execution_count": 31,
   "metadata": {
    "collapsed": true
   },
   "outputs": [],
   "source": [
    "splits = df_tfidf.randomSplit([0.7, 0.3])"
   ]
  },
  {
   "cell_type": "code",
   "execution_count": 32,
   "metadata": {
    "collapsed": true
   },
   "outputs": [],
   "source": [
    "df_train = splits[0]\n",
    "df_test = splits[1]"
   ]
  },
  {
   "cell_type": "code",
   "execution_count": null,
   "metadata": {
    "collapsed": false
   },
   "outputs": [],
   "source": [
    "#df_train.count(), df_test.count(), df_transformed.count()"
   ]
  },
  {
   "cell_type": "code",
   "execution_count": null,
   "metadata": {
    "collapsed": false
   },
   "outputs": [],
   "source": []
  },
  {
   "cell_type": "code",
   "execution_count": 46,
   "metadata": {
    "collapsed": false
   },
   "outputs": [
    {
     "data": {
      "text/plain": [
       "DataFrame[content: string, subject: string, dates: string, name: string, congress: double, tokens: array<string>, tokens_nostopwords: array<string>, tokens_stemmed: array<string>, tokens_countvectorized: vector, token_idf: vector, label: int]"
      ]
     },
     "execution_count": 46,
     "metadata": {},
     "output_type": "execute_result"
    }
   ],
   "source": [
    "df_train.persist()"
   ]
  },
  {
   "cell_type": "code",
   "execution_count": 47,
   "metadata": {
    "collapsed": true
   },
   "outputs": [],
   "source": [
    "from pyspark.ml.evaluation import MulticlassClassificationEvaluator"
   ]
  },
  {
   "cell_type": "code",
   "execution_count": 48,
   "metadata": {
    "collapsed": false
   },
   "outputs": [
    {
     "name": "stdout",
     "output_type": "stream",
     "text": [
      "Accuracy: 0.755299991815\n"
     ]
    }
   ],
   "source": [
    "model = nb.fit(df_train)\n",
    "\n",
    "# apply the model on the test setM\n",
    "result = model.transform(df_test)\n",
    "\n",
    "# keep only label and prediction to compute accuracy\n",
    "predictionAndLabels = result.select(\"prediction\", \"label\")\n",
    "\n",
    "# compute accuracy on the test set\n",
    "evaluator = MulticlassClassificationEvaluator(labelCol=\"label\", predictionCol=\"prediction\",\n",
    "                                                  metricName=\"accuracy\")\n",
    "\n",
    "print(\"Accuracy: {}\".format(evaluator.evaluate(predictionAndLabels)))"
   ]
  },
  {
   "cell_type": "code",
   "execution_count": 49,
   "metadata": {
    "collapsed": true
   },
   "outputs": [],
   "source": [
    "thetaarray = model.theta.toArray().T"
   ]
  },
  {
   "cell_type": "code",
   "execution_count": 50,
   "metadata": {
    "collapsed": true
   },
   "outputs": [],
   "source": [
    "import numpy as np"
   ]
  },
  {
   "cell_type": "code",
   "execution_count": 51,
   "metadata": {
    "collapsed": false
   },
   "outputs": [
    {
     "data": {
      "text/plain": [
       "(5000, 32)"
      ]
     },
     "execution_count": 51,
     "metadata": {},
     "output_type": "execute_result"
    }
   ],
   "source": [
    "thetaarray.shape"
   ]
  },
  {
   "cell_type": "code",
   "execution_count": 52,
   "metadata": {
    "collapsed": false
   },
   "outputs": [
    {
     "data": {
      "text/plain": [
       "array([-6.44590418, -6.43343054, -5.85717183, -6.52351288, -7.02232651,\n",
       "       -7.08194578, -6.85005214, -6.53172559, -6.29349743, -6.92021564,\n",
       "       -6.64341211, -6.49222054, -6.73765527, -6.28748885, -6.48646872,\n",
       "       -6.71948854, -6.67430144, -6.7454701 , -6.58944382, -6.53970928,\n",
       "       -6.59213549, -6.85835928, -6.28178018, -6.25293172, -7.0096497 ,\n",
       "       -6.66029902, -6.72710336, -6.72332243, -6.44808934, -7.16209552,\n",
       "       -7.06001318, -8.58070375])"
      ]
     },
     "execution_count": 52,
     "metadata": {},
     "output_type": "execute_result"
    }
   ],
   "source": [
    "thetaarray[0]"
   ]
  },
  {
   "cell_type": "code",
   "execution_count": null,
   "metadata": {
    "collapsed": true
   },
   "outputs": [],
   "source": []
  },
  {
   "cell_type": "code",
   "execution_count": 53,
   "metadata": {
    "collapsed": false
   },
   "outputs": [],
   "source": [
    "from sklearn.metrics import confusion_matrix"
   ]
  },
  {
   "cell_type": "code",
   "execution_count": 54,
   "metadata": {
    "collapsed": false
   },
   "outputs": [
    {
     "name": "stdout",
     "output_type": "stream",
     "text": [
      "root\n",
      " |-- content: string (nullable = true)\n",
      " |-- subject: string (nullable = true)\n",
      " |-- dates: string (nullable = true)\n",
      " |-- name: string (nullable = true)\n",
      " |-- congress: double (nullable = true)\n",
      " |-- tokens: array (nullable = true)\n",
      " |    |-- element: string (containsNull = true)\n",
      " |-- tokens_nostopwords: array (nullable = true)\n",
      " |    |-- element: string (containsNull = true)\n",
      " |-- tokens_stemmed: array (nullable = true)\n",
      " |    |-- element: string (containsNull = true)\n",
      " |-- tokens_countvectorized: vector (nullable = true)\n",
      " |-- token_idf: vector (nullable = true)\n",
      " |-- label: integer (nullable = true)\n",
      " |-- rawPrediction: vector (nullable = true)\n",
      " |-- probability: vector (nullable = true)\n",
      " |-- prediction: double (nullable = true)\n",
      "\n"
     ]
    }
   ],
   "source": [
    "result.printSchema()"
   ]
  },
  {
   "cell_type": "code",
   "execution_count": 55,
   "metadata": {
    "collapsed": false
   },
   "outputs": [],
   "source": [
    "import itertools\n",
    "import matplotlib.pyplot as plt\n",
    "%matplotlib inline\n",
    "def plot_confusion_matrix(cm, classes,\n",
    "                          normalize=False,\n",
    "                          title='Confusion matrix',\n",
    "                          cmap=plt.cm.Blues):\n",
    "    \"\"\"\n",
    "    This function prints and plots the confusion matrix.\n",
    "    Normalization can be applied by setting `normalize=True`.\n",
    "    \"\"\"\n",
    "    plt.imshow(cm, interpolation='nearest', cmap=cmap)\n",
    "    plt.title(title)\n",
    "    plt.colorbar()\n",
    "    tick_marks = np.arange(len(classes))\n",
    "    plt.xticks(tick_marks, classes, fontsize=6)\n",
    "    plt.yticks(tick_marks, classes,fontsize=6)\n",
    "\n",
    "    if normalize:\n",
    "        cm = cm.astype('float') / cm.sum(axis=1)[:, np.newaxis]\n",
    "        print(\"Normalized confusion matrix\")\n",
    "    else:\n",
    "        print('Confusion matrix, without normalization')\n",
    "\n",
    "    print(cm)\n",
    "\n",
    "    thresh = cm.max() / 2.\n",
    "    #for i, j in itertools.product(range(cm.shape[0]), range(cm.shape[1])):\n",
    "    #    plt.text(j, i, cm[i, j],\n",
    "    #             horizontalalignment=\"center\",\n",
    "    #             color=\"white\" if cm[i, j] > thresh else \"black\")\n",
    "\n",
    "    plt.tight_layout()\n",
    "    plt.ylabel('True label')\n",
    "    plt.xlabel('Predicted label')\n",
    "    plt.figure(figsize=(20,20))\n"
   ]
  },
  {
   "cell_type": "code",
   "execution_count": 56,
   "metadata": {
    "collapsed": false
   },
   "outputs": [],
   "source": [
    "true_label = result.select('label').collect()\n",
    "\n",
    "predict_label = result.select('prediction').collect()"
   ]
  },
  {
   "cell_type": "code",
   "execution_count": 57,
   "metadata": {
    "collapsed": false
   },
   "outputs": [
    {
     "data": {
      "text/plain": [
       "(24434, 24434)"
      ]
     },
     "execution_count": 57,
     "metadata": {},
     "output_type": "execute_result"
    }
   ],
   "source": [
    "len(true_label),len(predict_label)"
   ]
  },
  {
   "cell_type": "code",
   "execution_count": 58,
   "metadata": {
    "collapsed": false
   },
   "outputs": [],
   "source": [
    "confusion_matrix_nb = confusion_matrix(np.array(true_label), np.array(predict_label))"
   ]
  },
  {
   "cell_type": "code",
   "execution_count": 59,
   "metadata": {
    "collapsed": false
   },
   "outputs": [
    {
     "data": {
      "text/plain": [
       "array([[1594,   15,   12, ...,    3,    2,   35],\n",
       "       [  24,  889,    9, ...,    5,   46,   86],\n",
       "       [  45,   23, 1910, ...,    5,    1,    5],\n",
       "       ..., \n",
       "       [   0,    0,    0, ...,   49,    2,    6],\n",
       "       [   0,    0,    0, ...,    0,   60,   30],\n",
       "       [   1,    0,    0, ...,    0,    1,   24]])"
      ]
     },
     "execution_count": 59,
     "metadata": {},
     "output_type": "execute_result"
    }
   ],
   "source": [
    "confusion_matrix_nb"
   ]
  },
  {
   "cell_type": "code",
   "execution_count": 60,
   "metadata": {
    "collapsed": false
   },
   "outputs": [],
   "source": [
    "subject_ordered = sorted(sub_dict,key=sub_dict.get)"
   ]
  },
  {
   "cell_type": "code",
   "execution_count": 61,
   "metadata": {
    "collapsed": true
   },
   "outputs": [],
   "source": [
    "label_list=range(0,32)"
   ]
  },
  {
   "cell_type": "code",
   "execution_count": 62,
   "metadata": {
    "collapsed": false
   },
   "outputs": [
    {
     "name": "stdout",
     "output_type": "stream",
     "text": [
      "Confusion matrix, without normalization\n",
      "[[1594   15   12 ...,    3    2   35]\n",
      " [  24  889    9 ...,    5   46   86]\n",
      " [  45   23 1910 ...,    5    1    5]\n",
      " ..., \n",
      " [   0    0    0 ...,   49    2    6]\n",
      " [   0    0    0 ...,    0   60   30]\n",
      " [   1    0    0 ...,    0    1   24]]\n"
     ]
    },
    {
     "data": {
      "image/png": "[encoded data removed]",
      "text/plain": [
       "<matplotlib.figure.Figure at 0x7f51f419ff50>"
      ]
     },
     "metadata": {},
     "output_type": "display_data"
    },
    {
     "data": {
      "text/plain": [
       "<matplotlib.figure.Figure at 0x7f51f0acd890>"
      ]
     },
     "metadata": {},
     "output_type": "display_data"
    }
   ],
   "source": [
    "plot_confusion_matrix(confusion_matrix_nb, classes = label_list,normalize = False, title = 'Confusion matrix of MultinomialNB Model')"
   ]
  },
  {
   "cell_type": "code",
   "execution_count": null,
   "metadata": {
    "collapsed": false
   },
   "outputs": [],
   "source": [
    "#df_tfidf.write.json('s3a://usfocus/congress_tfidf.json')"
   ]
  },
  {
   "cell_type": "code",
   "execution_count": null,
   "metadata": {
    "collapsed": false
   },
   "outputs": [],
   "source": [
    "#result.write.json('s3a://usfocus/result_tfidf.csv')"
   ]
  },
  {
   "cell_type": "code",
   "execution_count": 63,
   "metadata": {
    "collapsed": true
   },
   "outputs": [],
   "source": [
    "result_presidential = model.transform(df_tfidf_pre)"
   ]
  },
  {
   "cell_type": "code",
   "execution_count": 64,
   "metadata": {
    "collapsed": false
   },
   "outputs": [],
   "source": [
    "result_presidential = result_presidential.select('content','date','link','speech_title','tokens_countvectorized','tokens_stemmed','token_idf','rawPrediction','probability','prediction')"
   ]
  },
  {
   "cell_type": "code",
   "execution_count": 65,
   "metadata": {
    "collapsed": false
   },
   "outputs": [
    {
     "name": "stdout",
     "output_type": "stream",
     "text": [
      "root\n",
      " |-- content: string (nullable = true)\n",
      " |-- date: string (nullable = true)\n",
      " |-- link: string (nullable = true)\n",
      " |-- speech_title: string (nullable = true)\n",
      " |-- tokens_countvectorized: vector (nullable = true)\n",
      " |-- tokens_stemmed: array (nullable = true)\n",
      " |    |-- element: string (containsNull = true)\n",
      " |-- token_idf: vector (nullable = true)\n",
      " |-- rawPrediction: vector (nullable = true)\n",
      " |-- probability: vector (nullable = true)\n",
      " |-- prediction: double (nullable = true)\n",
      "\n"
     ]
    }
   ],
   "source": [
    "result_presidential.printSchema()"
   ]
  },
  {
   "cell_type": "code",
   "execution_count": null,
   "metadata": {
    "collapsed": true
   },
   "outputs": [],
   "source": []
  },
  {
   "cell_type": "code",
   "execution_count": 66,
   "metadata": {
    "collapsed": true
   },
   "outputs": [],
   "source": [
    "result_presidential.write.json('s3a://usfocus/result_presidential_tfidf.json')"
   ]
  },
  {
   "cell_type": "code",
   "execution_count": null,
   "metadata": {
    "collapsed": true
   },
   "outputs": [],
   "source": []
  },
  {
   "cell_type": "code",
   "execution_count": null,
   "metadata": {
    "collapsed": true
   },
   "outputs": [],
   "source": []
  },
  {
   "cell_type": "code",
   "execution_count": null,
   "metadata": {
    "collapsed": false
   },
   "outputs": [],
   "source": []
  },
  {
   "cell_type": "code",
   "execution_count": 67,
   "metadata": {
    "collapsed": true
   },
   "outputs": [],
   "source": [
    "from pyspark.ml.classification import LogisticRegression"
   ]
  },
  {
   "cell_type": "code",
   "execution_count": 68,
   "metadata": {
    "collapsed": false
   },
   "outputs": [],
   "source": [
    "LG = LogisticRegression(featuresCol=\"token_idf\", labelCol=\"label\")"
   ]
  },
  {
   "cell_type": "code",
   "execution_count": 69,
   "metadata": {
    "collapsed": false
   },
   "outputs": [],
   "source": [
    "model_lg = LG.fit(df_train)\n",
    "\n",
    "# apply the model on the test setM\n",
    "result_lg = model_lg.transform(df_test)"
   ]
  },
  {
   "cell_type": "code",
   "execution_count": 70,
   "metadata": {
    "collapsed": false
   },
   "outputs": [
    {
     "name": "stdout",
     "output_type": "stream",
     "text": [
      "root\n",
      " |-- content: string (nullable = true)\n",
      " |-- subject: string (nullable = true)\n",
      " |-- dates: string (nullable = true)\n",
      " |-- name: string (nullable = true)\n",
      " |-- congress: double (nullable = true)\n",
      " |-- tokens: array (nullable = true)\n",
      " |    |-- element: string (containsNull = true)\n",
      " |-- tokens_nostopwords: array (nullable = true)\n",
      " |    |-- element: string (containsNull = true)\n",
      " |-- tokens_stemmed: array (nullable = true)\n",
      " |    |-- element: string (containsNull = true)\n",
      " |-- tokens_countvectorized: vector (nullable = true)\n",
      " |-- token_idf: vector (nullable = true)\n",
      " |-- label: integer (nullable = true)\n",
      " |-- rawPrediction: vector (nullable = true)\n",
      " |-- probability: vector (nullable = true)\n",
      " |-- prediction: double (nullable = true)\n",
      "\n"
     ]
    }
   ],
   "source": [
    "result_lg.printSchema()"
   ]
  },
  {
   "cell_type": "code",
   "execution_count": null,
   "metadata": {
    "collapsed": true
   },
   "outputs": [],
   "source": []
  },
  {
   "cell_type": "code",
   "execution_count": 71,
   "metadata": {
    "collapsed": false
   },
   "outputs": [
    {
     "name": "stdout",
     "output_type": "stream",
     "text": [
      "Accuracy: 0.851190963412\n"
     ]
    }
   ],
   "source": [
    "# keep only label and prediction to compute accuracy\n",
    "predictionAndLabels_lg = result_lg.select(\"prediction\", \"label\")\n",
    "\n",
    "# compute accuracy on the test set\n",
    "evaluator_lg = MulticlassClassificationEvaluator(labelCol=\"label\", predictionCol=\"prediction\",\n",
    "                                                  metricName=\"accuracy\")\n",
    "\n",
    "print(\"Accuracy: {}\".format(evaluator_lg.evaluate(predictionAndLabels_lg)))"
   ]
  },
  {
   "cell_type": "code",
   "execution_count": null,
   "metadata": {
    "collapsed": true
   },
   "outputs": [],
   "source": []
  },
  {
   "cell_type": "code",
   "execution_count": 72,
   "metadata": {
    "collapsed": true
   },
   "outputs": [],
   "source": [
    "predict_label_lg = result_lg.select('prediction').collect()"
   ]
  },
  {
   "cell_type": "code",
   "execution_count": 73,
   "metadata": {
    "collapsed": false
   },
   "outputs": [
    {
     "data": {
      "text/plain": [
       "(24434, 24434)"
      ]
     },
     "execution_count": 73,
     "metadata": {},
     "output_type": "execute_result"
    }
   ],
   "source": [
    "len(true_label),len(predict_label_lg)"
   ]
  },
  {
   "cell_type": "code",
   "execution_count": null,
   "metadata": {
    "collapsed": true
   },
   "outputs": [],
   "source": []
  },
  {
   "cell_type": "code",
   "execution_count": 74,
   "metadata": {
    "collapsed": true
   },
   "outputs": [],
   "source": [
    "confusion_matrix_lg = confusion_matrix(np.array(true_label), np.array(predict_label_lg))"
   ]
  },
  {
   "cell_type": "code",
   "execution_count": 75,
   "metadata": {
    "collapsed": false
   },
   "outputs": [
    {
     "data": {
      "text/plain": [
       "array([[1794,   17,   18, ...,    2,    0,    0],\n",
       "       [  12, 1422,    8, ...,    0,   10,    1],\n",
       "       [  16,   12, 2214, ...,    0,    2,    0],\n",
       "       ..., \n",
       "       [   0,    2,    1, ...,   48,    0,    1],\n",
       "       [   0,   10,    0, ...,    1,   65,    5],\n",
       "       [   0,    2,    0, ...,    0,    2,    9]])"
      ]
     },
     "execution_count": 75,
     "metadata": {},
     "output_type": "execute_result"
    }
   ],
   "source": [
    "confusion_matrix_lg"
   ]
  },
  {
   "cell_type": "code",
   "execution_count": null,
   "metadata": {
    "collapsed": true
   },
   "outputs": [],
   "source": []
  },
  {
   "cell_type": "code",
   "execution_count": 76,
   "metadata": {
    "collapsed": false
   },
   "outputs": [
    {
     "name": "stdout",
     "output_type": "stream",
     "text": [
      "Confusion matrix, without normalization\n",
      "[[1794   17   18 ...,    2    0    0]\n",
      " [  12 1422    8 ...,    0   10    1]\n",
      " [  16   12 2214 ...,    0    2    0]\n",
      " ..., \n",
      " [   0    2    1 ...,   48    0    1]\n",
      " [   0   10    0 ...,    1   65    5]\n",
      " [   0    2    0 ...,    0    2    9]]\n"
     ]
    },
    {
     "data": {
      "image/png": "[encoded data removed]",
      "text/plain": [
       "<matplotlib.figure.Figure at 0x7f51f0aad550>"
      ]
     },
     "metadata": {},
     "output_type": "display_data"
    },
    {
     "data": {
      "text/plain": [
       "<matplotlib.figure.Figure at 0x7f51f07f6310>"
      ]
     },
     "metadata": {},
     "output_type": "display_data"
    }
   ],
   "source": [
    "plot_confusion_matrix(confusion_matrix_lg, classes = label_list,normalize = False, title = 'Confusion matrix of Log_Reg Model')"
   ]
  },
  {
   "cell_type": "code",
   "execution_count": null,
   "metadata": {
    "collapsed": true
   },
   "outputs": [],
   "source": []
  },
  {
   "cell_type": "code",
   "execution_count": null,
   "metadata": {
    "collapsed": true
   },
   "outputs": [],
   "source": []
  },
  {
   "cell_type": "code",
   "execution_count": 77,
   "metadata": {
    "collapsed": true
   },
   "outputs": [],
   "source": [
    "from pyspark.ml.classification import RandomForestClassifier"
   ]
  },
  {
   "cell_type": "code",
   "execution_count": 78,
   "metadata": {
    "collapsed": true
   },
   "outputs": [],
   "source": [
    "rf = RandomForestClassifier(featuresCol=\"token_idf\", labelCol=\"label\")"
   ]
  },
  {
   "cell_type": "code",
   "execution_count": null,
   "metadata": {
    "collapsed": true
   },
   "outputs": [],
   "source": []
  },
  {
   "cell_type": "code",
   "execution_count": 79,
   "metadata": {
    "collapsed": true
   },
   "outputs": [],
   "source": [
    "model_rf = rf.fit(df_train)\n",
    "\n",
    "# apply the model on the test setM\n",
    "result_rf = model_rf.transform(df_test)"
   ]
  },
  {
   "cell_type": "code",
   "execution_count": 82,
   "metadata": {
    "collapsed": false
   },
   "outputs": [
    {
     "name": "stdout",
     "output_type": "stream",
     "text": [
      "root\n",
      " |-- content: string (nullable = true)\n",
      " |-- subject: string (nullable = true)\n",
      " |-- dates: string (nullable = true)\n",
      " |-- name: string (nullable = true)\n",
      " |-- congress: double (nullable = true)\n",
      " |-- tokens: array (nullable = true)\n",
      " |    |-- element: string (containsNull = true)\n",
      " |-- tokens_nostopwords: array (nullable = true)\n",
      " |    |-- element: string (containsNull = true)\n",
      " |-- tokens_stemmed: array (nullable = true)\n",
      " |    |-- element: string (containsNull = true)\n",
      " |-- tokens_countvectorized: vector (nullable = true)\n",
      " |-- token_idf: vector (nullable = true)\n",
      " |-- label: integer (nullable = true)\n",
      " |-- rawPrediction: vector (nullable = true)\n",
      " |-- probability: vector (nullable = true)\n",
      " |-- prediction: double (nullable = true)\n",
      "\n"
     ]
    }
   ],
   "source": [
    "result_rf.printSchema()"
   ]
  },
  {
   "cell_type": "code",
   "execution_count": null,
   "metadata": {
    "collapsed": true
   },
   "outputs": [],
   "source": []
  },
  {
   "cell_type": "code",
   "execution_count": 80,
   "metadata": {
    "collapsed": false
   },
   "outputs": [
    {
     "name": "stdout",
     "output_type": "stream",
     "text": [
      "Accuracy: 0.457600065483\n"
     ]
    }
   ],
   "source": [
    "# keep only label and prediction to compute accuracy\n",
    "predictionAndLabels_rf = result_rf.select(\"prediction\", \"label\")\n",
    "\n",
    "# compute accuracy on the test set\n",
    "evaluator_rf = MulticlassClassificationEvaluator(labelCol=\"label\", predictionCol=\"prediction\",\n",
    "                                                  metricName=\"accuracy\")\n",
    "\n",
    "print(\"Accuracy: {}\".format(evaluator_rf.evaluate(predictionAndLabels_rf)))"
   ]
  },
  {
   "cell_type": "code",
   "execution_count": null,
   "metadata": {
    "collapsed": true
   },
   "outputs": [],
   "source": []
  },
  {
   "cell_type": "code",
   "execution_count": 81,
   "metadata": {
    "collapsed": true
   },
   "outputs": [],
   "source": [
    "predict_label_rf = result_rf.select('prediction').collect()"
   ]
  },
  {
   "cell_type": "code",
   "execution_count": null,
   "metadata": {
    "collapsed": true
   },
   "outputs": [],
   "source": []
  },
  {
   "cell_type": "code",
   "execution_count": 83,
   "metadata": {
    "collapsed": false
   },
   "outputs": [
    {
     "data": {
      "text/plain": [
       "(24434, 24434)"
      ]
     },
     "execution_count": 83,
     "metadata": {},
     "output_type": "execute_result"
    }
   ],
   "source": [
    "\n",
    "\n",
    "len(true_label),len(predict_label_rf)"
   ]
  },
  {
   "cell_type": "code",
   "execution_count": null,
   "metadata": {
    "collapsed": true
   },
   "outputs": [],
   "source": []
  },
  {
   "cell_type": "code",
   "execution_count": null,
   "metadata": {
    "collapsed": true
   },
   "outputs": [],
   "source": []
  },
  {
   "cell_type": "code",
   "execution_count": 84,
   "metadata": {
    "collapsed": true
   },
   "outputs": [],
   "source": [
    "confusion_matrix_rf = confusion_matrix(np.array(true_label), np.array(predict_label_rf))"
   ]
  },
  {
   "cell_type": "code",
   "execution_count": 85,
   "metadata": {
    "collapsed": false
   },
   "outputs": [
    {
     "data": {
      "text/plain": [
       "array([[1758,   40,   68, ...,    0,    0,    0],\n",
       "       [ 145,  757,  474, ...,    0,    0,    0],\n",
       "       [  20,   25, 2266, ...,    0,    0,    0],\n",
       "       ..., \n",
       "       [  12,   12,   12, ...,    0,    0,    0],\n",
       "       [   5,   17,   12, ...,    0,    0,    0],\n",
       "       [   0,    3,    1, ...,    0,    0,    0]])"
      ]
     },
     "execution_count": 85,
     "metadata": {},
     "output_type": "execute_result"
    }
   ],
   "source": [
    "confusion_matrix_rf"
   ]
  },
  {
   "cell_type": "code",
   "execution_count": null,
   "metadata": {
    "collapsed": true
   },
   "outputs": [],
   "source": []
  },
  {
   "cell_type": "code",
   "execution_count": null,
   "metadata": {
    "collapsed": true
   },
   "outputs": [],
   "source": []
  },
  {
   "cell_type": "code",
   "execution_count": 86,
   "metadata": {
    "collapsed": false
   },
   "outputs": [
    {
     "name": "stdout",
     "output_type": "stream",
     "text": [
      "Confusion matrix, without normalization\n",
      "[[1758   40   68 ...,    0    0    0]\n",
      " [ 145  757  474 ...,    0    0    0]\n",
      " [  20   25 2266 ...,    0    0    0]\n",
      " ..., \n",
      " [  12   12   12 ...,    0    0    0]\n",
      " [   5   17   12 ...,    0    0    0]\n",
      " [   0    3    1 ...,    0    0    0]]\n"
     ]
    },
    {
     "data": {
      "image/png": "[encoded data removed]",
      "text/plain": [
       "<matplotlib.figure.Figure at 0x7f51f00645d0>"
      ]
     },
     "metadata": {},
     "output_type": "display_data"
    },
    {
     "data": {
      "text/plain": [
       "<matplotlib.figure.Figure at 0x7f51eff43c50>"
      ]
     },
     "metadata": {},
     "output_type": "display_data"
    }
   ],
   "source": [
    "plot_confusion_matrix(confusion_matrix_rf, classes = label_list,normalize = False, title = 'Confusion matrix of RandomForest Model')"
   ]
  },
  {
   "cell_type": "code",
   "execution_count": 89,
   "metadata": {
    "collapsed": false
   },
   "outputs": [
    {
     "data": {
      "text/plain": [
       "[u'section',\n",
       " u'shall',\n",
       " u'state',\n",
       " u'act',\n",
       " u'secretari',\n",
       " u'subsect',\n",
       " u'sec',\n",
       " u'amend',\n",
       " u'unit',\n",
       " u'provid',\n",
       " u'year',\n",
       " u'may',\n",
       " u'paragraph',\n",
       " u'servic',\n",
       " u'titl',\n",
       " u'program',\n",
       " u'000',\n",
       " u'follow',\n",
       " u'requir',\n",
       " u'author',\n",
       " u'includ',\n",
       " u'fund',\n",
       " u'feder',\n",
       " u'amount',\n",
       " u'general',\n",
       " u'insert',\n",
       " u'appropri',\n",
       " u'use',\n",
       " u'term',\n",
       " u'date',\n",
       " u'purpos',\n",
       " u'plan',\n",
       " u'strike',\n",
       " u'health',\n",
       " u'agenc',\n",
       " u'nation',\n",
       " u'determin',\n",
       " u'individu',\n",
       " u'hous',\n",
       " u'report',\n",
       " u'applic',\n",
       " u'congress',\n",
       " u'assist',\n",
       " u'law',\n",
       " u'made',\n",
       " u'public',\n",
       " u'fiscal',\n",
       " u'administr',\n",
       " u'relat',\n",
       " u'avail',\n",
       " u'establish',\n",
       " u'offic',\n",
       " u'subparagraph',\n",
       " u'person',\n",
       " u'effect',\n",
       " u'inform',\n",
       " u'respect',\n",
       " u'mean',\n",
       " u'develop',\n",
       " u'code',\n",
       " u'govern',\n",
       " u'committe',\n",
       " u'activ',\n",
       " u'end',\n",
       " u'period',\n",
       " u'provis',\n",
       " u'educ',\n",
       " u'describ',\n",
       " u'grant',\n",
       " u'secur',\n",
       " u'new',\n",
       " u'enact',\n",
       " u'repres',\n",
       " u'cost',\n",
       " u'appli',\n",
       " u'part',\n",
       " u'payment',\n",
       " u'delet',\n",
       " u'project',\n",
       " u'regul',\n",
       " u'member',\n",
       " u'oper',\n",
       " u'depart',\n",
       " u'carri',\n",
       " u'day',\n",
       " u'care',\n",
       " u'commiss',\n",
       " u'elig',\n",
       " u'senat',\n",
       " u'employe',\n",
       " u'case',\n",
       " u'bill',\n",
       " u'receiv',\n",
       " u'refer',\n",
       " u'employ',\n",
       " u'insur',\n",
       " u'facil',\n",
       " u'pursuant',\n",
       " u'organ',\n",
       " u'system',\n",
       " u'ad',\n",
       " u'benefit',\n",
       " u'area',\n",
       " u'time',\n",
       " u'limit',\n",
       " u'local',\n",
       " u'contract',\n",
       " u'make',\n",
       " u'within',\n",
       " u'except',\n",
       " u'manag',\n",
       " u'design',\n",
       " u'account',\n",
       " u'percent',\n",
       " u'order',\n",
       " u'action',\n",
       " u'iii',\n",
       " u'agreement',\n",
       " u'submit',\n",
       " u'necessari',\n",
       " u'entiti',\n",
       " u'defens',\n",
       " u'properti',\n",
       " u'subject',\n",
       " u'chapter',\n",
       " u'rule',\n",
       " u'institut',\n",
       " u'particip',\n",
       " u'qualifi',\n",
       " u'product',\n",
       " u'intern',\n",
       " u'board',\n",
       " u'land',\n",
       " u'support',\n",
       " u'transfer',\n",
       " u'credit',\n",
       " u'interest',\n",
       " u'addit',\n",
       " u'tax',\n",
       " u'control',\n",
       " u'review',\n",
       " u'base',\n",
       " u'standard',\n",
       " u'director',\n",
       " u'research',\n",
       " u'rate',\n",
       " u'accord',\n",
       " u'conduct',\n",
       " u'busi',\n",
       " u'expens',\n",
       " u'approv',\n",
       " u'issu',\n",
       " u'later',\n",
       " u'incom',\n",
       " u'school',\n",
       " u'communiti',\n",
       " u'corpor',\n",
       " u'loan',\n",
       " u'protect',\n",
       " u'claus',\n",
       " u'defin',\n",
       " u'court',\n",
       " u'foreign',\n",
       " u'improv',\n",
       " u'exceed',\n",
       " u'note',\n",
       " u'implement',\n",
       " u'reason',\n",
       " u'transport',\n",
       " u'polici',\n",
       " u'child',\n",
       " u'meet',\n",
       " u'famili',\n",
       " u'perform',\n",
       " u'right',\n",
       " u'increas',\n",
       " u'train',\n",
       " u'begin',\n",
       " u'respons',\n",
       " u'presid',\n",
       " u'month',\n",
       " u'certain',\n",
       " u'direct',\n",
       " u'otherwis',\n",
       " u'number',\n",
       " u'financi',\n",
       " u'procedur',\n",
       " u'construct',\n",
       " u'consid',\n",
       " u'condit',\n",
       " u'resourc',\n",
       " u'forc',\n",
       " u'social',\n",
       " u'energi',\n",
       " u'technolog',\n",
       " u'medic',\n",
       " u'one',\n",
       " u'extent',\n",
       " u'first',\n",
       " u'regard',\n",
       " u'introduc',\n",
       " u'request',\n",
       " u'enforc',\n",
       " u'drug',\n",
       " u'water',\n",
       " u'_______________________________________________________________________',\n",
       " u'pay',\n",
       " u'thereof',\n",
       " u'stat',\n",
       " u'result',\n",
       " u'take',\n",
       " u'oblig',\n",
       " u'subtitl',\n",
       " u'find',\n",
       " u'budget',\n",
       " u'taxabl',\n",
       " u'contribut',\n",
       " u'assess',\n",
       " u'upon',\n",
       " u'duti',\n",
       " u'need',\n",
       " u'special',\n",
       " u'studi',\n",
       " u'sentenc',\n",
       " u'district',\n",
       " u'appoint',\n",
       " u'congression',\n",
       " u'privat',\n",
       " u'notic',\n",
       " u'allow',\n",
       " u'elect',\n",
       " u'basi',\n",
       " u'countri',\n",
       " u'indian',\n",
       " u'annual',\n",
       " u'would',\n",
       " u'less',\n",
       " u'reserv',\n",
       " u'head',\n",
       " u'violat',\n",
       " u'center',\n",
       " u'item',\n",
       " u'without',\n",
       " u'read',\n",
       " u'specifi',\n",
       " u'definit',\n",
       " u'children',\n",
       " u'militari',\n",
       " u'coverag',\n",
       " u'propos',\n",
       " u'file',\n",
       " u'adjust',\n",
       " u'work',\n",
       " u'revenu',\n",
       " u'ensur',\n",
       " u'session',\n",
       " u'contain',\n",
       " u'claim',\n",
       " u'trust',\n",
       " u'treatment',\n",
       " u'serv',\n",
       " u'practic',\n",
       " u'enter',\n",
       " u'consult',\n",
       " u'place',\n",
       " u'associ',\n",
       " u'group',\n",
       " u'level',\n",
       " u'america',\n",
       " u'bank',\n",
       " u'continu',\n",
       " u'fee',\n",
       " u'concern',\n",
       " u'total',\n",
       " u'distribut',\n",
       " u'collect',\n",
       " u'process',\n",
       " u'award',\n",
       " u'manner',\n",
       " u'prevent',\n",
       " u'resolut',\n",
       " u'agricultur',\n",
       " u'cover',\n",
       " u'trade',\n",
       " u'recommend',\n",
       " u'record',\n",
       " u'market',\n",
       " u'compens',\n",
       " u'evalu',\n",
       " u'locat',\n",
       " u'data',\n",
       " u'access',\n",
       " u'remain',\n",
       " u'equal',\n",
       " u'air',\n",
       " u'attorney',\n",
       " u'parti',\n",
       " u'involv',\n",
       " u'student',\n",
       " u'notwithstand',\n",
       " u'demonstr',\n",
       " u'safeti',\n",
       " u'redesign',\n",
       " u'prescrib',\n",
       " u'identifi',\n",
       " u'certif',\n",
       " u'paid',\n",
       " u'invest',\n",
       " u'whether',\n",
       " u'exist',\n",
       " u'chang',\n",
       " u'termin',\n",
       " u'consist',\n",
       " u'resid',\n",
       " u'purchas',\n",
       " u'reduc',\n",
       " u'sale',\n",
       " u'coordin',\n",
       " u'emerg',\n",
       " u'print',\n",
       " u'alloc',\n",
       " u'econom',\n",
       " u'environment',\n",
       " u'human',\n",
       " u'unless',\n",
       " u'assembl',\n",
       " u'cooper',\n",
       " u'materi',\n",
       " u'calendar',\n",
       " u'personnel',\n",
       " u'execut',\n",
       " u'permit',\n",
       " u'penalti',\n",
       " u'proceed',\n",
       " u'prohibit',\n",
       " u'impos',\n",
       " u'civil',\n",
       " u'set',\n",
       " u'short',\n",
       " u'1986',\n",
       " u'technic',\n",
       " u'page',\n",
       " u'share',\n",
       " u'small',\n",
       " u'function',\n",
       " u'initi',\n",
       " u'affect',\n",
       " u'natur',\n",
       " u'reduct',\n",
       " u'offici',\n",
       " u'preced',\n",
       " u'maintain',\n",
       " u'seq',\n",
       " u'joint',\n",
       " u'alien',\n",
       " u'retir',\n",
       " u'least',\n",
       " u'compani',\n",
       " u'region',\n",
       " u'specif',\n",
       " u'jurisdict',\n",
       " u'american',\n",
       " u'expend',\n",
       " u'vehicl',\n",
       " u'treat',\n",
       " u'septemb',\n",
       " u'tabl',\n",
       " u'valu',\n",
       " u'januari',\n",
       " u'produc',\n",
       " u'prior',\n",
       " u'acquisit',\n",
       " u'select',\n",
       " u'complet',\n",
       " u'conserv',\n",
       " u'expenditur',\n",
       " u'disabl',\n",
       " u'promot',\n",
       " u'equip',\n",
       " u'opportun',\n",
       " u'capit',\n",
       " u'tribe',\n",
       " u'veteran',\n",
       " u'home',\n",
       " u'age',\n",
       " u'food',\n",
       " u'qualiti',\n",
       " u'labor',\n",
       " u'form',\n",
       " u'consum',\n",
       " u'arm',\n",
       " u'subchapt',\n",
       " u'complianc',\n",
       " u'council',\n",
       " u'commerc',\n",
       " u'final',\n",
       " u'wherea',\n",
       " u'taxpay',\n",
       " u'test',\n",
       " u'risk',\n",
       " u'matter',\n",
       " u'offer',\n",
       " u'current',\n",
       " u'consider',\n",
       " u'percentag',\n",
       " u'statement',\n",
       " u'investig',\n",
       " u'sum',\n",
       " u'list',\n",
       " u'enrol',\n",
       " u'medicar',\n",
       " u'connect',\n",
       " u'licens',\n",
       " u'manufactur',\n",
       " u'legisl',\n",
       " u'import',\n",
       " u'parent',\n",
       " u'lieu',\n",
       " u'entitl',\n",
       " u'decemb',\n",
       " u'power',\n",
       " u'prepar',\n",
       " u'high',\n",
       " u'octob',\n",
       " u'measur',\n",
       " u'mainten',\n",
       " u'commerci',\n",
       " u'rural',\n",
       " u'deposit',\n",
       " u'non',\n",
       " u'exempt',\n",
       " u'obtain',\n",
       " u'content',\n",
       " u'excess',\n",
       " u'liabil',\n",
       " u'financ',\n",
       " u'1st',\n",
       " u'administ',\n",
       " u'per',\n",
       " u'conform',\n",
       " u'hospit',\n",
       " u'status',\n",
       " u'caus',\n",
       " u'export',\n",
       " u'sourc',\n",
       " u'leas',\n",
       " u'deduct',\n",
       " u'schedul',\n",
       " u'repeal',\n",
       " u'cite',\n",
       " u'101',\n",
       " u'extens',\n",
       " u'industri',\n",
       " u'descript',\n",
       " u'2001',\n",
       " u'2000',\n",
       " u'treasuri',\n",
       " u'profession',\n",
       " u'guarante',\n",
       " u'util',\n",
       " u'1990',\n",
       " u'beneficiari',\n",
       " u'carrier',\n",
       " u'exchang',\n",
       " u'commit',\n",
       " u'reimburs',\n",
       " u'advanc',\n",
       " u'site',\n",
       " u'long',\n",
       " u'transact',\n",
       " u'2002',\n",
       " u'posit',\n",
       " u'price',\n",
       " u'affair',\n",
       " u'full',\n",
       " u'document',\n",
       " u'1996',\n",
       " u'1995',\n",
       " u'advisori',\n",
       " u'portion',\n",
       " u'charg',\n",
       " u'certifi',\n",
       " u'deem',\n",
       " u'compli',\n",
       " u'500',\n",
       " u'enhanc',\n",
       " u'100',\n",
       " u'adopt',\n",
       " u'loss',\n",
       " u'major',\n",
       " u'2003',\n",
       " u'1993',\n",
       " u'1991',\n",
       " u'polit',\n",
       " u'estim',\n",
       " u'partnership',\n",
       " u'taken',\n",
       " u'effort',\n",
       " u'competit',\n",
       " u'build',\n",
       " u'among',\n",
       " u'minimum',\n",
       " u'engag',\n",
       " u'intellig',\n",
       " u'procur',\n",
       " u'1994',\n",
       " u'accept',\n",
       " u'furnish',\n",
       " u'1992',\n",
       " u'scienc',\n",
       " u'asset',\n",
       " u'forest',\n",
       " u'substanc',\n",
       " u'appear',\n",
       " u'decis',\n",
       " u'vessel',\n",
       " u'hold',\n",
       " u'hear',\n",
       " u'altern',\n",
       " u'columbia',\n",
       " u'abus',\n",
       " u'written',\n",
       " u'acquir',\n",
       " u'higher',\n",
       " u'achiev',\n",
       " u'substanti',\n",
       " u'separ',\n",
       " u'given',\n",
       " u'good',\n",
       " u'1997',\n",
       " u'criteria',\n",
       " u'signific',\n",
       " u'address',\n",
       " u'1999',\n",
       " u'failur',\n",
       " u'restrict',\n",
       " u'recipi',\n",
       " u'1998',\n",
       " u'fuel',\n",
       " u'wast',\n",
       " u'constitut',\n",
       " u'occur',\n",
       " u'method',\n",
       " u'communic',\n",
       " u'return',\n",
       " u'forth',\n",
       " u'counti',\n",
       " u'immigr',\n",
       " u'legal',\n",
       " u'independ',\n",
       " u'minor',\n",
       " u'domest',\n",
       " u'receipt',\n",
       " u'owner',\n",
       " u'similar',\n",
       " u'regist',\n",
       " u'prioriti',\n",
       " u'waiver',\n",
       " u'incur',\n",
       " u'save',\n",
       " u'river',\n",
       " u'crime',\n",
       " u'bureau',\n",
       " u'maximum',\n",
       " u'revis',\n",
       " u'offens',\n",
       " u'popul',\n",
       " u'own',\n",
       " u'tobacco',\n",
       " u'appeal',\n",
       " u'second',\n",
       " u'disclosur',\n",
       " u'noth',\n",
       " u'averag',\n",
       " u'urban',\n",
       " u'crimin',\n",
       " u'transit',\n",
       " u'tribal',\n",
       " u'assur',\n",
       " u'2004',\n",
       " u'usc',\n",
       " u'object',\n",
       " u'goal',\n",
       " u'convey',\n",
       " u'premium',\n",
       " u'previous',\n",
       " u'immedi',\n",
       " u'factor',\n",
       " u'articl',\n",
       " u'type',\n",
       " u'comput',\n",
       " u'damag',\n",
       " u'exclus',\n",
       " u'motor',\n",
       " u'reform',\n",
       " u'arrang',\n",
       " u'evid',\n",
       " u'interior',\n",
       " u'low',\n",
       " u'armi',\n",
       " u'102',\n",
       " u'remov',\n",
       " u'subsequ',\n",
       " u'impact',\n",
       " u'teacher',\n",
       " u'worker',\n",
       " u'nuclear',\n",
       " u'held',\n",
       " u'stock',\n",
       " u'subpart',\n",
       " u'restor',\n",
       " u'publish',\n",
       " u'way',\n",
       " u'women',\n",
       " u'death',\n",
       " u'diseas',\n",
       " u'effici',\n",
       " u'chief',\n",
       " u'relief',\n",
       " u'becom',\n",
       " u'agent',\n",
       " u'contractor',\n",
       " u'modif',\n",
       " u'comprehens',\n",
       " u'aggreg',\n",
       " u'secondari',\n",
       " u'anoth',\n",
       " u'due',\n",
       " u'fair',\n",
       " u'assign',\n",
       " u'2005',\n",
       " u'depend',\n",
       " u'petit',\n",
       " u'aid',\n",
       " u'present',\n",
       " u'notif',\n",
       " u'real',\n",
       " u'princip',\n",
       " u'free',\n",
       " u'regulatori',\n",
       " u'monitor',\n",
       " u'fail',\n",
       " u'promulg',\n",
       " u'juli',\n",
       " u'park',\n",
       " u'origin',\n",
       " u'balanc',\n",
       " u'spous',\n",
       " u'gross',\n",
       " u'compon',\n",
       " u'analysi',\n",
       " u'commod',\n",
       " u'extend',\n",
       " u'basic',\n",
       " u'inspect',\n",
       " u'judici',\n",
       " u'peopl',\n",
       " u'june',\n",
       " u'agre',\n",
       " u'life',\n",
       " u'physician',\n",
       " u'class',\n",
       " u'suppli',\n",
       " u'primari',\n",
       " u'option',\n",
       " u'dispos',\n",
       " u'correct',\n",
       " u'modifi',\n",
       " u'self',\n",
       " u'notifi',\n",
       " u'whose',\n",
       " u'constru',\n",
       " u'integr',\n",
       " u'highway',\n",
       " u'1974',\n",
       " u'encourag',\n",
       " u'exercis',\n",
       " u'audit',\n",
       " u'commission',\n",
       " u'perman',\n",
       " u'counsel',\n",
       " u'nativ',\n",
       " u'candid',\n",
       " u'known',\n",
       " u'also',\n",
       " u'two',\n",
       " u'supplement',\n",
       " u'march',\n",
       " u'violenc',\n",
       " u'guidelin',\n",
       " u'104',\n",
       " u'electr',\n",
       " u'aircraft',\n",
       " u'futur',\n",
       " u'histor',\n",
       " u'fish',\n",
       " u'custom',\n",
       " u'preserv',\n",
       " u'judg',\n",
       " u'last',\n",
       " u'either',\n",
       " u'justic',\n",
       " u'instal',\n",
       " u'potenti',\n",
       " u'farm',\n",
       " u'staff',\n",
       " u'must',\n",
       " u'event',\n",
       " u'name',\n",
       " u'nurs',\n",
       " u'103',\n",
       " u'particular',\n",
       " u'bond',\n",
       " u'corp',\n",
       " u'sens',\n",
       " u'vote',\n",
       " u'job',\n",
       " u'electron',\n",
       " u'releas',\n",
       " u'hazard',\n",
       " u'capac',\n",
       " u'travel',\n",
       " u'nonprofit',\n",
       " u'engin',\n",
       " u'examin',\n",
       " u'greater',\n",
       " u'injuri',\n",
       " u'remedi',\n",
       " u'live',\n",
       " u'enterpris',\n",
       " u'guard',\n",
       " u'gain',\n",
       " u'oil',\n",
       " u'island',\n",
       " u'suffici',\n",
       " u'renew',\n",
       " u'zone',\n",
       " u'victim',\n",
       " u'expir',\n",
       " u'1989',\n",
       " u'seek',\n",
       " u'marin',\n",
       " u'deliveri',\n",
       " u'citizen',\n",
       " u'recogn',\n",
       " u'strategi',\n",
       " u'devic',\n",
       " u'patient',\n",
       " u'relev',\n",
       " u'201',\n",
       " u'uniform',\n",
       " u'third',\n",
       " u'space',\n",
       " u'capabl',\n",
       " u'allot',\n",
       " u'weapon',\n",
       " u'passeng',\n",
       " u'crop',\n",
       " u'debt',\n",
       " u'plant',\n",
       " u'incent',\n",
       " u'twice',\n",
       " u'adequ',\n",
       " u'202',\n",
       " u'transmit',\n",
       " u'hour',\n",
       " u'gas',\n",
       " u'citi',\n",
       " u'2006',\n",
       " u'net',\n",
       " u'sponsor',\n",
       " u'behalf',\n",
       " u'youth',\n",
       " u'submiss',\n",
       " u'rehabilit',\n",
       " u'network',\n",
       " u'elimin',\n",
       " u'quarter',\n",
       " u'mental',\n",
       " u'physic',\n",
       " u'regular',\n",
       " u'infrastructur',\n",
       " u'common',\n",
       " u'issuer',\n",
       " u'waiv',\n",
       " u'california',\n",
       " u'affili',\n",
       " u'equival',\n",
       " u'sole',\n",
       " u'union',\n",
       " u'salari',\n",
       " u'north',\n",
       " u'exclud',\n",
       " u'instrument',\n",
       " u'identif',\n",
       " u'close',\n",
       " u'temporari',\n",
       " u'res',\n",
       " u'point',\n",
       " u'consent',\n",
       " u'former',\n",
       " u'station',\n",
       " u'generat',\n",
       " u'money',\n",
       " u'circumst',\n",
       " u'well',\n",
       " u'mrs',\n",
       " u'thereaft',\n",
       " u'herebi',\n",
       " u'defend',\n",
       " u'possess',\n",
       " u'wage',\n",
       " u'chemic',\n",
       " u'facilit',\n",
       " u'disast',\n",
       " u'106',\n",
       " u'interst',\n",
       " u'registr',\n",
       " u'give',\n",
       " u'commenc',\n",
       " u'301',\n",
       " u'mortgag',\n",
       " u'inspector',\n",
       " u'skill',\n",
       " u'105',\n",
       " u'outsid',\n",
       " u'line',\n",
       " u'creat',\n",
       " u'replac',\n",
       " u'recreat',\n",
       " u'resolv',\n",
       " u'settlement',\n",
       " u'singl',\n",
       " u'subclaus',\n",
       " u'discharg',\n",
       " u'panel',\n",
       " u'model',\n",
       " u'central',\n",
       " u'subdivis',\n",
       " u'univers',\n",
       " u'sector',\n",
       " u'differ',\n",
       " u'april',\n",
       " u'compar',\n",
       " u'deadlin',\n",
       " u'recoveri',\n",
       " u'expand',\n",
       " u'structur',\n",
       " u'divis',\n",
       " u'comment',\n",
       " u'chairman',\n",
       " u'pilot',\n",
       " u'comptrol',\n",
       " u'environ',\n",
       " u'401',\n",
       " u'payabl',\n",
       " u'detail',\n",
       " u'deriv',\n",
       " u'governor',\n",
       " u'map',\n",
       " u'1965',\n",
       " u'negoti',\n",
       " u'progress',\n",
       " u'confer',\n",
       " u'elementari',\n",
       " u'sever',\n",
       " u'repay',\n",
       " u'government',\n",
       " u'wildlif',\n",
       " u'203',\n",
       " u'territori',\n",
       " u'copi',\n",
       " u'actual',\n",
       " u'speci',\n",
       " u'laboratori',\n",
       " u'enabl',\n",
       " u'navi',\n",
       " u'advers',\n",
       " u'abil',\n",
       " u'200',\n",
       " u'depositori',\n",
       " u'scientif',\n",
       " u'clinic',\n",
       " u'issuanc',\n",
       " u'grade',\n",
       " u'substitut',\n",
       " u'instruct',\n",
       " u'entri',\n",
       " u'180',\n",
       " u'402',\n",
       " u'experi',\n",
       " u'academ',\n",
       " u'war',\n",
       " u'none',\n",
       " u'everi',\n",
       " u'earn',\n",
       " u'februari',\n",
       " u'intend',\n",
       " u'post',\n",
       " u'combin',\n",
       " u'write',\n",
       " u'motion',\n",
       " u'lead',\n",
       " u'supervis',\n",
       " u'attribut',\n",
       " u'vii',\n",
       " u'mail',\n",
       " u'categori',\n",
       " u'airport',\n",
       " u'intent',\n",
       " u'whole',\n",
       " u'bear',\n",
       " u'wilder',\n",
       " u'voluntari',\n",
       " u'feasibl',\n",
       " u'element',\n",
       " u'dissemin',\n",
       " u'safe',\n",
       " u'occup',\n",
       " u'repair',\n",
       " u'110',\n",
       " u'possibl',\n",
       " u'declar',\n",
       " u'convict',\n",
       " u'prison',\n",
       " u'truste',\n",
       " u'2007',\n",
       " u'dollar',\n",
       " u'pollut',\n",
       " u'pass',\n",
       " u'2008',\n",
       " u'acr',\n",
       " u'cultur',\n",
       " u'imprison',\n",
       " u'survey',\n",
       " u'annuiti',\n",
       " u'juvenil',\n",
       " u'alaska',\n",
       " u'ground',\n",
       " u'106th',\n",
       " u'degre',\n",
       " u'statut',\n",
       " u'prescript',\n",
       " u'three',\n",
       " u'boundari',\n",
       " u'world',\n",
       " u'express',\n",
       " u'firearm',\n",
       " u'ownership',\n",
       " u'republ',\n",
       " u'foundat',\n",
       " u'earli',\n",
       " u'adult',\n",
       " u'threat',\n",
       " u'know',\n",
       " u'critic',\n",
       " u'problem',\n",
       " u'retain',\n",
       " u'indic',\n",
       " u'afford',\n",
       " u'107th',\n",
       " u'concurr',\n",
       " u'sexual',\n",
       " u'cours',\n",
       " u'consolid',\n",
       " u'success',\n",
       " u'disposit',\n",
       " u'403',\n",
       " u'complaint',\n",
       " u'approxim',\n",
       " u'south',\n",
       " u'indirect',\n",
       " u'homeland',\n",
       " u'like',\n",
       " u'relationship',\n",
       " u'sanction',\n",
       " u'branch',\n",
       " u'estat',\n",
       " u'501',\n",
       " u'recent',\n",
       " u'field',\n",
       " u'aviat',\n",
       " u'target',\n",
       " u'emiss',\n",
       " u'attend',\n",
       " u'leav',\n",
       " u'disclos',\n",
       " u'unemploy',\n",
       " u'deni',\n",
       " u'satisfi',\n",
       " u'languag',\n",
       " u'geograph',\n",
       " u'membership',\n",
       " u'august',\n",
       " u'cash',\n",
       " u'workforc',\n",
       " u'match',\n",
       " u'civilian',\n",
       " u'user',\n",
       " u'statist',\n",
       " ...]"
      ]
     },
     "execution_count": 89,
     "metadata": {},
     "output_type": "execute_result"
    }
   ],
   "source": [
    "Vocab"
   ]
  },
  {
   "cell_type": "code",
   "execution_count": 92,
   "metadata": {
    "collapsed": false
   },
   "outputs": [],
   "source": [
    "with open('Vocab.dat','w') as f:\n",
    "    f.write('The ordered subjects are: {} \\n\\n'.format(subject_ordered))\n",
    "    f.write('The vocabulary(5000) are: {}'.format(Vocab))"
   ]
  },
  {
   "cell_type": "code",
   "execution_count": null,
   "metadata": {
    "collapsed": true
   },
   "outputs": [],
   "source": []
  }
 ],
 "metadata": {
  "anaconda-cloud": {},
  "kernelspec": {
   "display_name": "Python [conda root]",
   "language": "python",
   "name": "conda-root-py"
  }
 },
 "nbformat": 4,
 "nbformat_minor": 1
}
