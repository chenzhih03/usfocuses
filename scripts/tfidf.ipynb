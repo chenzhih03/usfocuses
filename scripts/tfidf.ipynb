{
 "cells": [
  {
   "cell_type": "code",
   "execution_count": 1,
   "metadata": {
    "collapsed": false
   },
   "outputs": [],
   "source": [
    "import numpy as np\n",
    "import pickle as pkl\n",
    "import re\n",
    "import pandas as pd\n",
    "from nltk.tokenize import word_tokenize\n",
    "from nltk.corpus import stopwords\n",
    "from nltk.stem.porter import PorterStemmer\n",
    "from pyspark.mllib.clustering import KMeans\n",
    "from collections import Counter\n",
    "from nltk.corpus import stopwords\n",
    "import string\n",
    "import pyspark as ps    # for the pyspark suite\n",
    "from pyspark.sql.functions import udf, col\n",
    "from pyspark.sql.types import ArrayType, StringType\n",
    "import unicodedata\n",
    "import nltk\n",
    "\n",
    "from nltk.tokenize import sent_tokenize\n",
    "from nltk.stem.snowball import SnowballStemmer\n",
    "from nltk.util import ngrams\n",
    "from nltk import pos_tag\n",
    "from nltk import RegexpParser\n",
    "\n",
    "from pyspark.ml.feature import CountVectorizer\n",
    "from pyspark.ml.feature import IDF\n",
    "\n",
    "import sys\n",
    "from pyspark.ml import Pipeline\n",
    "from pyspark.ml.feature import Tokenizer, RegexTokenizer, StopWordsRemover, NGram, \\\n",
    "        CountVectorizer, IDF, Word2Vec\n",
    "from pyspark.sql.functions import udf, col, explode, collect_list, to_date, concat\n",
    "from pyspark.sql.types import StructType, StructField, IntegerType, StringType, \\\n",
    "        FloatType, ArrayType, BooleanType\n",
    "from nltk.stem import SnowballStemmer\n",
    "\n",
    "import pyspark as ps    # for the pyspark suite\n",
    "\n",
    "\n",
    "\n",
    "\n",
    "\n"
   ]
  },
  {
   "cell_type": "code",
   "execution_count": 2,
   "metadata": {
    "collapsed": true
   },
   "outputs": [],
   "source": [
    "df_full = spark.read.csv('s3a://usfocus/congress_full.csv', header = True, sep = ',', inferSchema=True)"
   ]
  },
  {
   "cell_type": "code",
   "execution_count": 17,
   "metadata": {
    "collapsed": false
   },
   "outputs": [
    {
     "name": "stdout",
     "output_type": "stream",
     "text": [
      "+--------------------+-------+----------+--------------------+--------+\n",
      "|             content|subject|     dates|                name|congress|\n",
      "+--------------------+-------+----------+--------------------+--------+\n",
      "|  HR 5961 IH 101s...| Health|12/03/1990|H.R.5961 — 101st ...|   101.0|\n",
      "|  HR 5908 IH 101s...| Health|11/19/1990|H.R.5908 — 101st ...|   101.0|\n",
      "|  HR 5899 IH 101s...| Health|12/03/1990|H.R.5899 — 101st ...|   101.0|\n",
      "|  HR 5898 IH 101s...| Health|12/10/1990|H.R.5898 — 101st ...|   101.0|\n",
      "|  HR 5897 IH 101s...| Health|12/03/1990|H.R.5897 — 101st ...|   101.0|\n",
      "|  HR 5890 IH 101s...| Health|12/03/1990|H.R.5890 — 101st ...|   101.0|\n",
      "|  HR 5888 IH 101s...| Health|11/19/1990|H.R.5888 — 101st ...|   101.0|\n",
      "|  HR 5851 IH 101s...| Health|11/19/1990|H.R.5851 — 101st ...|   101.0|\n",
      "|  HR 5845 IH 101s...| Health|10/30/1990|H.R.5845 — 101st ...|   101.0|\n",
      "|  HR 5830 IH 101s...| Health|10/30/1990|H.R.5830 — 101st ...|   101.0|\n",
      "|  HR 5807 IH 101s...| Health|10/30/1990|H.R.5807 — 101st ...|   101.0|\n",
      "|  HR 5750 IH 101s...| Health|10/15/1990|H.R.5750 — 101st ...|   101.0|\n",
      "|  HR 5736 IH 101s...| Health|10/08/1990|H.R.5736 — 101st ...|   101.0|\n",
      "|  --H.R.5702-- H....| Health|11/06/1990|H.R.5702 — 101st ...|   101.0|\n",
      "|  HR 5700 IH 101s...| Health|10/08/1990|H.R.5700 — 101st ...|   101.0|\n",
      "|  HR 5696 IH 101s...| Health|10/08/1990|H.R.5696 — 101st ...|   101.0|\n",
      "|  Union Calendar ...| Health|10/15/1990|H.R.5693 — 101st ...|   101.0|\n",
      "|  HR 5689 IH 101s...| Health|10/08/1990|H.R.5689 — 101st ...|   101.0|\n",
      "|  HR 5666 IH 101s...| Health|10/08/1990|H.R.5666 — 101st ...|   101.0|\n",
      "|  HR 5662 IH 101s...| Health|10/27/1990|H.R.5662 — 101st ...|   101.0|\n",
      "+--------------------+-------+----------+--------------------+--------+\n",
      "only showing top 20 rows\n",
      "\n"
     ]
    }
   ],
   "source": [
    "df_full.show()"
   ]
  },
  {
   "cell_type": "code",
   "execution_count": 3,
   "metadata": {
    "collapsed": false
   },
   "outputs": [
    {
     "data": {
      "text/plain": [
       "{'Agriculture+and+Food': 25,\n",
       " 'Animals': 26,\n",
       " 'Armed+Forces+and+National+Security': 3,\n",
       " 'Arts,+Culture,+Religion': 30,\n",
       " 'Civil+Rights+and+Liberties,+Minority+Issues': 16,\n",
       " 'Commerce': 20,\n",
       " 'Congress': 6,\n",
       " 'Crime+and+Law+Enforcement': 7,\n",
       " 'Economics+and+Public+Finance': 19,\n",
       " 'Education': 10,\n",
       " 'Emergency+Management': 17,\n",
       " 'Energy': 15,\n",
       " 'Environmental+Protection': 12,\n",
       " 'Families': 28,\n",
       " 'Finance+and+Financial+Sector': 11,\n",
       " 'Foreign+Trade+and+International+Finance': 27,\n",
       " 'Government+Operations+and+Politics': 1,\n",
       " 'Health': 0,\n",
       " 'Housing+and+Community+Development': 22,\n",
       " 'Immigration': 8,\n",
       " 'International+Affairs': 5,\n",
       " 'Labor+and+Employment': 13,\n",
       " 'Law': 18,\n",
       " 'Native+Americans': 21,\n",
       " 'Public+Lands+and+Natural+Resources': 4,\n",
       " 'Science,+Technology,+Communications': 9,\n",
       " 'Social+Sciences+and+History': 31,\n",
       " 'Social+Welfare': 23,\n",
       " 'Sports+and+Recreation': 29,\n",
       " 'Taxation': 2,\n",
       " 'Transportation+and+Public+Works': 14,\n",
       " 'Water+Resources+Development': 24}"
      ]
     },
     "execution_count": 3,
     "metadata": {},
     "output_type": "execute_result"
    }
   ],
   "source": [
    "#df_clean.printSchema()\n",
    "\n",
    "sub_list =['Health',\n",
    " 'Government+Operations+and+Politics',\n",
    " 'Taxation',\n",
    " 'Armed+Forces+and+National+Security',\n",
    " 'Public+Lands+and+Natural+Resources',\n",
    " 'International+Affairs',\n",
    " 'Congress',\n",
    " 'Crime+and+Law+Enforcement',\n",
    " 'Immigration',\n",
    " 'Science,+Technology,+Communications',\n",
    " 'Education',\n",
    " 'Finance+and+Financial+Sector',\n",
    " 'Environmental+Protection',\n",
    " 'Labor+and+Employment',\n",
    " 'Transportation+and+Public+Works',\n",
    " 'Energy',\n",
    " 'Civil+Rights+and+Liberties,+Minority+Issues',\n",
    " 'Emergency+Management',\n",
    " 'Law',\n",
    " 'Economics+and+Public+Finance',\n",
    " 'Commerce',\n",
    " 'Native+Americans',\n",
    " 'Housing+and+Community+Development',\n",
    " 'Social+Welfare',\n",
    " 'Water+Resources+Development',\n",
    " 'Agriculture+and+Food',\n",
    " 'Animals',\n",
    " 'Foreign+Trade+and+International+Finance',\n",
    " 'Families',\n",
    " 'Sports+and+Recreation',\n",
    " 'Arts,+Culture,+Religion',\n",
    " 'Social+Sciences+and+History']\n",
    "\n",
    "sub_dict = {}\n",
    "for i in range(len(sub_list)):\n",
    "    sub_dict[sub_list[i]] = i\n",
    "\n",
    "sub_dict\n",
    "\n",
    "#df_clean.count()\n",
    "\n",
    "#df_clean.write.format('com.databricks.spark.csv').options(header='true').save('s3a://usfocus/congress_full.csv')\n",
    "\n",
    "\n",
    "\n",
    "\n",
    "\n",
    "#df_clean_pd = df_full.sample(False, 0.6, 42)\n",
    "\n",
    "#df_full_pd = df_full.toPandas()\n",
    "\n",
    "#df_full_pd.shape\n",
    "\n",
    "#df_full_pd['label'] = df_full_pd['subject'].map(sub_dict)\n",
    "\n",
    "#df_full_pd.head()\n",
    "\n",
    "#df_clean_spark = spark.createDataFrame(df_full_pd)\n",
    "#df_clean_spark.write.format('com.databricks.spark.csv').options(header='true').save('s3a://usfocus/congress_full_final.csv')"
   ]
  },
  {
   "cell_type": "code",
   "execution_count": 4,
   "metadata": {
    "collapsed": false
   },
   "outputs": [
    {
     "data": {
      "text/plain": [
       "81124"
      ]
     },
     "execution_count": 4,
     "metadata": {},
     "output_type": "execute_result"
    }
   ],
   "source": [
    "df_full.count()"
   ]
  },
  {
   "cell_type": "code",
   "execution_count": 5,
   "metadata": {
    "collapsed": false
   },
   "outputs": [
    {
     "name": "stdout",
     "output_type": "stream",
     "text": [
      "root\n",
      " |-- content: string (nullable = true)\n",
      " |-- subject: string (nullable = true)\n",
      " |-- dates: string (nullable = true)\n",
      " |-- name: string (nullable = true)\n",
      " |-- congress: double (nullable = true)\n",
      "\n"
     ]
    }
   ],
   "source": [
    "df_full.printSchema()"
   ]
  },
  {
   "cell_type": "code",
   "execution_count": 6,
   "metadata": {
    "collapsed": false
   },
   "outputs": [],
   "source": [
    "tokenizer = RegexTokenizer(inputCol=\"content\", outputCol=\"tokens\", pattern=\"\\\\W\", minTokenLength=3)"
   ]
  },
  {
   "cell_type": "code",
   "execution_count": 7,
   "metadata": {
    "collapsed": true
   },
   "outputs": [],
   "source": [
    "remover = StopWordsRemover(inputCol=\"tokens\", outputCol='tokens_nostopwords')"
   ]
  },
  {
   "cell_type": "code",
   "execution_count": 8,
   "metadata": {
    "collapsed": true
   },
   "outputs": [],
   "source": [
    "from pyspark import keyword_only\n",
    "from pyspark.ml.util import Identifiable\n",
    "from pyspark.ml.pipeline import Transformer\n",
    "from pyspark.ml.param.shared import HasInputCol, HasOutputCol, Param\n",
    "from nltk.stem import SnowballStemmer\n",
    "from pyspark.sql.functions import udf\n",
    "from pyspark.sql.types import ArrayType, StringType\n",
    "\n",
    "# Custom stemming transformer class for pyspark\n",
    "class Stemming_Transformer(Transformer, HasInputCol, HasOutputCol):\n",
    "    @keyword_only\n",
    "    def __init__(self, inputCol=None, outputCol=None):\n",
    "        super(Stemming_Transformer, self).__init__()\n",
    "        kwargs = self.__init__._input_kwargs\n",
    "        self.setParams(**kwargs)\n",
    "\n",
    "    @keyword_only\n",
    "    def setParams(self, inputCol=None, outputCol=None, language='english', ):\n",
    "        kwargs = self.setParams._input_kwargs\n",
    "        return self._set(**kwargs)\n",
    "\n",
    "    def _transform(self, dataset):\n",
    "        opinion_stemm = SnowballStemmer('english')\n",
    "        udfStemmer = udf(lambda tokens: [opinion_stemm.stem(word) for word in tokens], ArrayType(StringType()))\n",
    "\n",
    "        inCol = self.getInputCol()\n",
    "        outCol = self.getOutputCol()\n",
    "\n",
    "        return dataset.withColumn(outCol, udfStemmer(inCol))"
   ]
  },
  {
   "cell_type": "code",
   "execution_count": 9,
   "metadata": {
    "collapsed": true
   },
   "outputs": [],
   "source": [
    "stemmer = Stemming_Transformer(inputCol='tokens_nostopwords', outputCol='tokens_stemmed')"
   ]
  },
  {
   "cell_type": "code",
   "execution_count": 10,
   "metadata": {
    "collapsed": true
   },
   "outputs": [],
   "source": [
    "cv = CountVectorizer(inputCol='tokens_stemmed', outputCol='tokens_countvectorized', minDF=2.0,vocabSize=5000)"
   ]
  },
  {
   "cell_type": "code",
   "execution_count": 11,
   "metadata": {
    "collapsed": true
   },
   "outputs": [],
   "source": [
    "idf = IDF(inputCol='tokens_countvectorized', outputCol='token_idf')"
   ]
  },
  {
   "cell_type": "code",
   "execution_count": null,
   "metadata": {
    "collapsed": true
   },
   "outputs": [],
   "source": []
  },
  {
   "cell_type": "code",
   "execution_count": null,
   "metadata": {
    "collapsed": true
   },
   "outputs": [],
   "source": []
  },
  {
   "cell_type": "code",
   "execution_count": 12,
   "metadata": {
    "collapsed": true
   },
   "outputs": [],
   "source": [
    "\n",
    "pipe_stem = Pipeline(stages=[tokenizer, remover, stemmer])"
   ]
  },
  {
   "cell_type": "code",
   "execution_count": 13,
   "metadata": {
    "collapsed": true
   },
   "outputs": [],
   "source": [
    "model_stem = pipe_stem.fit(df_full)"
   ]
  },
  {
   "cell_type": "code",
   "execution_count": null,
   "metadata": {
    "collapsed": true
   },
   "outputs": [],
   "source": []
  },
  {
   "cell_type": "code",
   "execution_count": null,
   "metadata": {
    "collapsed": true
   },
   "outputs": [],
   "source": []
  },
  {
   "cell_type": "code",
   "execution_count": 14,
   "metadata": {
    "collapsed": true
   },
   "outputs": [],
   "source": [
    "df_stemmed = model_stem.transform(df_full)"
   ]
  },
  {
   "cell_type": "code",
   "execution_count": null,
   "metadata": {
    "collapsed": true
   },
   "outputs": [],
   "source": []
  },
  {
   "cell_type": "code",
   "execution_count": 15,
   "metadata": {
    "collapsed": false
   },
   "outputs": [],
   "source": [
    "cv_model = cv.fit(df_stemmed)"
   ]
  },
  {
   "cell_type": "code",
   "execution_count": 16,
   "metadata": {
    "collapsed": true
   },
   "outputs": [],
   "source": [
    "df_countvector = cv_model.transform(df_stemmed)"
   ]
  },
  {
   "cell_type": "code",
   "execution_count": 15,
   "metadata": {
    "collapsed": false
   },
   "outputs": [
    {
     "name": "stdout",
     "output_type": "stream",
     "text": [
      "+--------------------+--------------------+----------+--------------------+--------+--------------------+--------------------+--------------------+----------------------+\n",
      "|             content|             subject|     dates|                name|congress|              tokens|  tokens_nostopwords|      tokens_stemmed|tokens_countvectorized|\n",
      "+--------------------+--------------------+----------+--------------------+--------+--------------------+--------------------+--------------------+----------------------+\n",
      "|[Congressional Bi...|Civil+Rights+and+...|01/25/1995|H.J.Res.16 — 104t...|   104.0|[congressional, b...|[congressional, b...|[congression, bil...|  (5000,[1,2,7,8,10...|\n",
      "|[Congressional Bi...|Civil+Rights+and+...|01/25/1995|H.J.Res.13 — 104t...|   104.0|[congressional, b...|[congressional, b...|[congression, bil...|  (5000,[0,1,2,7,8,...|\n",
      "|[Congressional Bi...|Civil+Rights+and+...|03/15/1995|H.J.Res.10 — 104t...|   104.0|[congressional, b...|[congressional, b...|[congression, bil...|  (5000,[1,2,7,8,10...|\n",
      "|[Congressional Bi...|Civil+Rights+and+...|10/15/1996|H.Con.Res.223 — 1...|   104.0|[congressional, b...|[congressional, b...|[congression, bil...|  (5000,[0,3,14,17,...|\n",
      "|[Congressional Bi...|Civil+Rights+and+...|05/17/1996|H.Res.420 — 104th...|   104.0|[congressional, b...|[congressional, b...|[congression, bil...|  (5000,[2,3,8,11,1...|\n",
      "|[Congressional Bi...|Civil+Rights+and+...|04/16/1996|H.Res.316 — 104th...|   104.0|[congressional, b...|[congressional, b...|[congression, bil...|  (5000,[2,3,8,16,3...|\n",
      "|[Congressional Bi...|Civil+Rights+and+...|11/29/1995|H.Res.285 — 104th...|   104.0|[congressional, b...|[congressional, b...|[congression, bil...|  (5000,[2,3,8,10,1...|\n",
      "|[Congressional Bi...|Civil+Rights+and+...|01/25/1995|H.Res.39 — 104th ...|   104.0|[congressional, b...|[congressional, b...|[congression, bil...|  (5000,[1,2,7,17,1...|\n",
      "|[Congressional Bi...|Civil+Rights+and+...|10/02/1996|S.2187 — 104th Co...|   104.0|[congressional, b...|[congressional, b...|[congression, bil...|  (5000,[0,1,2,3,5,...|\n",
      "|[Congressional Bi...|Civil+Rights+and+...|09/10/1996|S.2056 — 104th Co...|   104.0|[congressional, b...|[congressional, b...|[congression, bil...|  (5000,[0,1,2,3,5,...|\n",
      "|[Congressional Bi...|Civil+Rights+and+...|07/30/1996|S.1990 — 104th Co...|   104.0|[congressional, b...|[congressional, b...|[congression, bil...|  (5000,[0,1,2,3,5,...|\n",
      "|[Congressional Bi...|Civil+Rights+and+...|07/17/1996|S.1954 — 104th Co...|   104.0|[congressional, b...|[congressional, b...|[congression, bil...|  (5000,[0,1,2,3,4,...|\n",
      "|[104th Congress P...|Civil+Rights+and+...|08/06/1996|S.1757 — 104th Co...|   104.0|[104th, congress,...|[104th, congress,...|[104th, congress,...|  (5000,[0,2,3,6,7,...|\n",
      "|[Congressional Bi...|Civil+Rights+and+...|08/03/1995|S.1093 — 104th Co...|   104.0|[congressional, b...|[congressional, b...|[congression, bil...|  (5000,[0,1,2,3,6,...|\n",
      "|[Congressional Bi...|Civil+Rights+and+...|04/30/1996|S.1085 — 104th Co...|   104.0|[congressional, b...|[congressional, b...|[congression, bil...|  (5000,[0,1,2,3,4,...|\n",
      "|[Congressional Bi...|Civil+Rights+and+...|06/15/1995|S.932 — 104th Con...|   104.0|[congressional, b...|[congressional, b...|[congression, bil...|  (5000,[0,1,2,3,5,...|\n",
      "|[Congressional Bi...|Civil+Rights+and+...|05/24/1995|S.849 — 104th Con...|   104.0|[congressional, b...|[congressional, b...|[congression, bil...|  (5000,[0,1,2,3,6,...|\n",
      "|[Congressional Bi...|Civil+Rights+and+...|03/11/1996|S.605 — 104th Con...|   104.0|[congressional, b...|[congressional, b...|[congression, bil...|  (5000,[0,1,2,3,4,...|\n",
      "|[Congressional Bi...|Civil+Rights+and+...|03/03/1995|S.497 — 104th Con...|   104.0|[congressional, b...|[congressional, b...|[congression, bil...|  (5000,[0,1,2,3,6,...|\n",
      "|[Congressional Bi...|Civil+Rights+and+...|02/07/1995|S.366 — 104th Con...|   104.0|[congressional, b...|[congressional, b...|[congression, bil...|  (5000,[0,1,2,3,5,...|\n",
      "+--------------------+--------------------+----------+--------------------+--------+--------------------+--------------------+--------------------+----------------------+\n",
      "only showing top 20 rows\n",
      "\n"
     ]
    }
   ],
   "source": [
    "df_countvector.show()"
   ]
  },
  {
   "cell_type": "code",
   "execution_count": 17,
   "metadata": {
    "collapsed": false
   },
   "outputs": [],
   "source": [
    "Vocab = cv_model.vocabulary"
   ]
  },
  {
   "cell_type": "code",
   "execution_count": null,
   "metadata": {
    "collapsed": true
   },
   "outputs": [],
   "source": []
  },
  {
   "cell_type": "code",
   "execution_count": 18,
   "metadata": {
    "collapsed": false
   },
   "outputs": [
    {
     "data": {
      "text/plain": [
       "5000"
      ]
     },
     "execution_count": 18,
     "metadata": {},
     "output_type": "execute_result"
    }
   ],
   "source": [
    "len(Vocab)"
   ]
  },
  {
   "cell_type": "code",
   "execution_count": null,
   "metadata": {
    "collapsed": true
   },
   "outputs": [],
   "source": []
  },
  {
   "cell_type": "code",
   "execution_count": 35,
   "metadata": {
    "collapsed": false
   },
   "outputs": [],
   "source": [
    "#df_tfidf.select('token_idf').show()"
   ]
  },
  {
   "cell_type": "code",
   "execution_count": null,
   "metadata": {
    "collapsed": false
   },
   "outputs": [],
   "source": []
  },
  {
   "cell_type": "code",
   "execution_count": 19,
   "metadata": {
    "collapsed": false
   },
   "outputs": [],
   "source": [
    "model_idf = idf.fit(df_countvector)\n",
    "\n",
    "\n",
    "\n",
    "df_tfidf = model_idf.transform(df_countvector)"
   ]
  },
  {
   "cell_type": "code",
   "execution_count": 20,
   "metadata": {
    "collapsed": false
   },
   "outputs": [
    {
     "name": "stdout",
     "output_type": "stream",
     "text": [
      "+--------------------+--------------------+----------+--------------------+--------+--------------------+--------------------+--------------------+----------------------+--------------------+\n",
      "|             content|             subject|     dates|                name|congress|              tokens|  tokens_nostopwords|      tokens_stemmed|tokens_countvectorized|           token_idf|\n",
      "+--------------------+--------------------+----------+--------------------+--------+--------------------+--------------------+--------------------+----------------------+--------------------+\n",
      "|[Congressional Bi...|Civil+Rights+and+...|01/25/1995|H.J.Res.16 — 104t...|   104.0|[congressional, b...|[congressional, b...|[congression, bil...|  (5000,[1,2,7,8,10...|(5000,[1,2,7,8,10...|\n",
      "|[Congressional Bi...|Civil+Rights+and+...|01/25/1995|H.J.Res.13 — 104t...|   104.0|[congressional, b...|[congressional, b...|[congression, bil...|  (5000,[0,1,2,7,8,...|(5000,[0,1,2,7,8,...|\n",
      "|[Congressional Bi...|Civil+Rights+and+...|03/15/1995|H.J.Res.10 — 104t...|   104.0|[congressional, b...|[congressional, b...|[congression, bil...|  (5000,[1,2,7,8,10...|(5000,[1,2,7,8,10...|\n",
      "|[Congressional Bi...|Civil+Rights+and+...|10/15/1996|H.Con.Res.223 — 1...|   104.0|[congressional, b...|[congressional, b...|[congression, bil...|  (5000,[0,3,14,17,...|(5000,[0,3,14,17,...|\n",
      "|[Congressional Bi...|Civil+Rights+and+...|05/17/1996|H.Res.420 — 104th...|   104.0|[congressional, b...|[congressional, b...|[congression, bil...|  (5000,[2,3,8,11,1...|(5000,[2,3,8,11,1...|\n",
      "|[Congressional Bi...|Civil+Rights+and+...|04/16/1996|H.Res.316 — 104th...|   104.0|[congressional, b...|[congressional, b...|[congression, bil...|  (5000,[2,3,8,16,3...|(5000,[2,3,8,16,3...|\n",
      "|[Congressional Bi...|Civil+Rights+and+...|11/29/1995|H.Res.285 — 104th...|   104.0|[congressional, b...|[congressional, b...|[congression, bil...|  (5000,[2,3,8,10,1...|(5000,[2,3,8,10,1...|\n",
      "|[Congressional Bi...|Civil+Rights+and+...|01/25/1995|H.Res.39 — 104th ...|   104.0|[congressional, b...|[congressional, b...|[congression, bil...|  (5000,[1,2,7,17,1...|(5000,[1,2,7,17,1...|\n",
      "|[Congressional Bi...|Civil+Rights+and+...|10/02/1996|S.2187 — 104th Co...|   104.0|[congressional, b...|[congressional, b...|[congression, bil...|  (5000,[0,1,2,3,5,...|(5000,[0,1,2,3,5,...|\n",
      "|[Congressional Bi...|Civil+Rights+and+...|09/10/1996|S.2056 — 104th Co...|   104.0|[congressional, b...|[congressional, b...|[congression, bil...|  (5000,[0,1,2,3,5,...|(5000,[0,1,2,3,5,...|\n",
      "|[Congressional Bi...|Civil+Rights+and+...|07/30/1996|S.1990 — 104th Co...|   104.0|[congressional, b...|[congressional, b...|[congression, bil...|  (5000,[0,1,2,3,5,...|(5000,[0,1,2,3,5,...|\n",
      "|[Congressional Bi...|Civil+Rights+and+...|07/17/1996|S.1954 — 104th Co...|   104.0|[congressional, b...|[congressional, b...|[congression, bil...|  (5000,[0,1,2,3,4,...|(5000,[0,1,2,3,4,...|\n",
      "|[104th Congress P...|Civil+Rights+and+...|08/06/1996|S.1757 — 104th Co...|   104.0|[104th, congress,...|[104th, congress,...|[104th, congress,...|  (5000,[0,2,3,6,7,...|(5000,[0,2,3,6,7,...|\n",
      "|[Congressional Bi...|Civil+Rights+and+...|08/03/1995|S.1093 — 104th Co...|   104.0|[congressional, b...|[congressional, b...|[congression, bil...|  (5000,[0,1,2,3,6,...|(5000,[0,1,2,3,6,...|\n",
      "|[Congressional Bi...|Civil+Rights+and+...|04/30/1996|S.1085 — 104th Co...|   104.0|[congressional, b...|[congressional, b...|[congression, bil...|  (5000,[0,1,2,3,4,...|(5000,[0,1,2,3,4,...|\n",
      "|[Congressional Bi...|Civil+Rights+and+...|06/15/1995|S.932 — 104th Con...|   104.0|[congressional, b...|[congressional, b...|[congression, bil...|  (5000,[0,1,2,3,5,...|(5000,[0,1,2,3,5,...|\n",
      "|[Congressional Bi...|Civil+Rights+and+...|05/24/1995|S.849 — 104th Con...|   104.0|[congressional, b...|[congressional, b...|[congression, bil...|  (5000,[0,1,2,3,6,...|(5000,[0,1,2,3,6,...|\n",
      "|[Congressional Bi...|Civil+Rights+and+...|03/11/1996|S.605 — 104th Con...|   104.0|[congressional, b...|[congressional, b...|[congression, bil...|  (5000,[0,1,2,3,4,...|(5000,[0,1,2,3,4,...|\n",
      "|[Congressional Bi...|Civil+Rights+and+...|03/03/1995|S.497 — 104th Con...|   104.0|[congressional, b...|[congressional, b...|[congression, bil...|  (5000,[0,1,2,3,6,...|(5000,[0,1,2,3,6,...|\n",
      "|[Congressional Bi...|Civil+Rights+and+...|02/07/1995|S.366 — 104th Con...|   104.0|[congressional, b...|[congressional, b...|[congression, bil...|  (5000,[0,1,2,3,5,...|(5000,[0,1,2,3,5,...|\n",
      "+--------------------+--------------------+----------+--------------------+--------+--------------------+--------------------+--------------------+----------------------+--------------------+\n",
      "only showing top 20 rows\n",
      "\n"
     ]
    }
   ],
   "source": [
    "df_tfidf.show()"
   ]
  },
  {
   "cell_type": "code",
   "execution_count": null,
   "metadata": {
    "collapsed": true
   },
   "outputs": [],
   "source": []
  },
  {
   "cell_type": "code",
   "execution_count": 37,
   "metadata": {
    "collapsed": true
   },
   "outputs": [],
   "source": [
    "df_presidential = spark.read.json('s3a://usfocus/presidential-full-final.json')"
   ]
  },
  {
   "cell_type": "code",
   "execution_count": null,
   "metadata": {
    "collapsed": true
   },
   "outputs": [],
   "source": []
  },
  {
   "cell_type": "code",
   "execution_count": 38,
   "metadata": {
    "collapsed": false
   },
   "outputs": [
    {
     "data": {
      "text/plain": [
       "975"
      ]
     },
     "execution_count": 38,
     "metadata": {},
     "output_type": "execute_result"
    }
   ],
   "source": [
    "df_presidential.count()"
   ]
  },
  {
   "cell_type": "code",
   "execution_count": null,
   "metadata": {
    "collapsed": true
   },
   "outputs": [],
   "source": []
  },
  {
   "cell_type": "code",
   "execution_count": null,
   "metadata": {
    "collapsed": true
   },
   "outputs": [],
   "source": []
  },
  {
   "cell_type": "code",
   "execution_count": 39,
   "metadata": {
    "collapsed": false
   },
   "outputs": [],
   "source": [
    "df_presidential = df_presidential.filter(df_presidential['content'] != 'null')"
   ]
  },
  {
   "cell_type": "code",
   "execution_count": null,
   "metadata": {
    "collapsed": true
   },
   "outputs": [],
   "source": []
  },
  {
   "cell_type": "code",
   "execution_count": null,
   "metadata": {
    "collapsed": true
   },
   "outputs": [],
   "source": []
  },
  {
   "cell_type": "code",
   "execution_count": 40,
   "metadata": {
    "collapsed": false
   },
   "outputs": [
    {
     "data": {
      "text/plain": [
       "974"
      ]
     },
     "execution_count": 40,
     "metadata": {},
     "output_type": "execute_result"
    }
   ],
   "source": [
    "df_presidential.count()"
   ]
  },
  {
   "cell_type": "code",
   "execution_count": null,
   "metadata": {
    "collapsed": true
   },
   "outputs": [],
   "source": []
  },
  {
   "cell_type": "code",
   "execution_count": 53,
   "metadata": {
    "collapsed": true
   },
   "outputs": [],
   "source": [
    "#df_presidential_pd = df_presidential.toPandas()"
   ]
  },
  {
   "cell_type": "code",
   "execution_count": 69,
   "metadata": {
    "collapsed": false
   },
   "outputs": [],
   "source": [
    "#type(df_presidential_pd['content'][0].astype('string'))"
   ]
  },
  {
   "cell_type": "code",
   "execution_count": null,
   "metadata": {
    "collapsed": true
   },
   "outputs": [],
   "source": []
  },
  {
   "cell_type": "code",
   "execution_count": null,
   "metadata": {
    "collapsed": true
   },
   "outputs": [],
   "source": []
  },
  {
   "cell_type": "code",
   "execution_count": 70,
   "metadata": {
    "collapsed": false
   },
   "outputs": [],
   "source": [
    "#df_presidential_pd['content'] = df_presidential_pd['content'].map(lambda x:x.encode('utf-8'))"
   ]
  },
  {
   "cell_type": "code",
   "execution_count": null,
   "metadata": {
    "collapsed": true
   },
   "outputs": [],
   "source": []
  },
  {
   "cell_type": "code",
   "execution_count": 41,
   "metadata": {
    "collapsed": false
   },
   "outputs": [
    {
     "name": "stdout",
     "output_type": "stream",
     "text": [
      "+---------------+--------------------+--------------------+------------------+--------------------+--------------------+\n",
      "|_corrupt_record|                 _id|             content|              date|                link|        speech_title|\n",
      "+---------------+--------------------+--------------------+------------------+--------------------+--------------------+\n",
      "|           null|[58d03d7addc55a11...|Thank you.  (Appl...|    March 22, 2016|https://millercen...| Remarks to the P...|\n",
      "|           null|[58d03d7fddc55a11...|Mr. Speaker, Mr. ...|  January 12, 2016|https://millercen...| 2016 State of th...|\n",
      "|           null|[58d03d84ddc55a11...|THE PRESIDENT:  G...|     June 26, 2015|https://millercen...| Remarks in Eulog...|\n",
      "|           null|[58d03d89ddc55a11...|UDIENCE MEMBER:  ...|     March 7, 2015|https://millercen...| Remarks at the 5...|\n",
      "|           null|[58d03d8eddc55a11...|Mr. Speaker, Mr. ...|  January 20, 2015|https://millercen...| 2015 State of th...|\n",
      "|           null|[58d03d93ddc55a11...|My fellow America...| November 20, 2014|https://millercen...| Address to the N...|\n",
      "|           null|[58d03d99ddc55a11...|Mr. Speaker, Mr. ...|  January 28, 2014|https://millercen...| 2014 State of th...|\n",
      "|           null|[58d03d9eddc55a11...|Thank you.  (Appl...|  December 4, 2013|https://millercen...| Speech on Econom...|\n",
      "|           null|[58d03da3ddc55a11...|My fellow America...|September 10, 2013|https://millercen...| Address to the N...|\n",
      "|           null|[58d03daeddc55a11...|Hello, Warrensbur...|     July 24, 2013|https://millercen...| Remarks on Educa...|\n",
      "|           null|[58d03db1ddc55a11...|I wanted to come ...|     July 13, 2013|https://millercen...| Remarks on Trayv...|\n",
      "|           null|[58d03db5ddc55a11...|Hello, Connecticu...|     April 8, 2013|https://millercen...| Speech on Gun Vi...|\n",
      "|           null|[58d03dbaddc55a11...|Thank you.  (Appl...|    March 21, 2013|https://millercen...| Address to the P...|\n",
      "|           null|[58d03dbfddc55a11...|Good morning, eve...|     March 1, 2013|https://millercen...| Statement on the...|\n",
      "|           null|[58d03dc3ddc55a11...|Mr. Speaker, Mr. ...| February 13, 2013|https://millercen...| 2013 State of th...|\n",
      "|           null|[58d03dcbddc55a11...|Thank you!  (Appl...|  January 29, 2013|https://millercen...| Remarks on Immig...|\n",
      "|           null|[58d03dcfddc55a11...|Vice President Bi...|  January 21, 2013|https://millercen...| Second Inaugural...|\n",
      "|           null|[58d03dd3ddc55a11...|Thank you.  (Appl...| December 16, 2012|https://millercen...| Remarks on Sandy...|\n",
      "|           null|[58d03ddbddc55a11...|Tonight, more tha...|  November 6, 2012|https://millercen...| 2012 Election Ni...|\n",
      "|           null|[58d03ddfddc55a11...|THE PRESIDENT:  T...| September 6, 2012|https://millercen...| Nominee Acceptan...|\n",
      "+---------------+--------------------+--------------------+------------------+--------------------+--------------------+\n",
      "only showing top 20 rows\n",
      "\n"
     ]
    }
   ],
   "source": [
    "df_presidential.show()"
   ]
  },
  {
   "cell_type": "code",
   "execution_count": 42,
   "metadata": {
    "collapsed": true
   },
   "outputs": [],
   "source": [
    "model_stem_pre = pipe_stem.fit(df_presidential)"
   ]
  },
  {
   "cell_type": "code",
   "execution_count": 43,
   "metadata": {
    "collapsed": true
   },
   "outputs": [],
   "source": [
    "df_pres_stem = model_stem_pre.transform(df_presidential)"
   ]
  },
  {
   "cell_type": "code",
   "execution_count": 44,
   "metadata": {
    "collapsed": false
   },
   "outputs": [
    {
     "name": "stdout",
     "output_type": "stream",
     "text": [
      "+---------------+--------------------+--------------------+------------------+--------------------+--------------------+--------------------+--------------------+--------------------+\n",
      "|_corrupt_record|                 _id|             content|              date|                link|        speech_title|              tokens|  tokens_nostopwords|      tokens_stemmed|\n",
      "+---------------+--------------------+--------------------+------------------+--------------------+--------------------+--------------------+--------------------+--------------------+\n",
      "|           null|[58d03d7addc55a11...|Thank you.  (Appl...|    March 22, 2016|https://millercen...| Remarks to the P...|[thank, you, appl...|[thank, applause,...|[thank, applaus, ...|\n",
      "|           null|[58d03d7fddc55a11...|Mr. Speaker, Mr. ...|  January 12, 2016|https://millercen...| 2016 State of th...|[speaker, vice, p...|[speaker, vice, p...|[speaker, vice, p...|\n",
      "|           null|[58d03d84ddc55a11...|THE PRESIDENT:  G...|     June 26, 2015|https://millercen...| Remarks in Eulog...|[the, president, ...|[president, givin...|[presid, give, pr...|\n",
      "|           null|[58d03d89ddc55a11...|UDIENCE MEMBER:  ...|     March 7, 2015|https://millercen...| Remarks at the 5...|[udience, member,...|[udience, member,...|[udienc, member, ...|\n",
      "|           null|[58d03d8eddc55a11...|Mr. Speaker, Mr. ...|  January 20, 2015|https://millercen...| 2015 State of th...|[speaker, vice, p...|[speaker, vice, p...|[speaker, vice, p...|\n",
      "|           null|[58d03d93ddc55a11...|My fellow America...| November 20, 2014|https://millercen...| Address to the N...|[fellow, american...|[fellow, american...|[fellow, american...|\n",
      "|           null|[58d03d99ddc55a11...|Mr. Speaker, Mr. ...|  January 28, 2014|https://millercen...| 2014 State of th...|[speaker, vice, p...|[speaker, vice, p...|[speaker, vice, p...|\n",
      "|           null|[58d03d9eddc55a11...|Thank you.  (Appl...|  December 4, 2013|https://millercen...| Speech on Econom...|[thank, you, appl...|[thank, applause,...|[thank, applaus, ...|\n",
      "|           null|[58d03da3ddc55a11...|My fellow America...|September 10, 2013|https://millercen...| Address to the N...|[fellow, american...|[fellow, american...|[fellow, american...|\n",
      "|           null|[58d03daeddc55a11...|Hello, Warrensbur...|     July 24, 2013|https://millercen...| Remarks on Educa...|[hello, warrensbu...|[hello, warrensbu...|[hello, warrensbu...|\n",
      "|           null|[58d03db1ddc55a11...|I wanted to come ...|     July 13, 2013|https://millercen...| Remarks on Trayv...|[wanted, come, ou...|[wanted, come, fi...|[want, come, firs...|\n",
      "|           null|[58d03db5ddc55a11...|Hello, Connecticu...|     April 8, 2013|https://millercen...| Speech on Gun Vi...|[hello, connectic...|[hello, connectic...|[hello, connectic...|\n",
      "|           null|[58d03dbaddc55a11...|Thank you.  (Appl...|    March 21, 2013|https://millercen...| Address to the P...|[thank, you, appl...|[thank, applause,...|[thank, applaus, ...|\n",
      "|           null|[58d03dbfddc55a11...|Good morning, eve...|     March 1, 2013|https://millercen...| Statement on the...|[good, morning, e...|[good, morning, e...|[good, morn, ever...|\n",
      "|           null|[58d03dc3ddc55a11...|Mr. Speaker, Mr. ...| February 13, 2013|https://millercen...| 2013 State of th...|[speaker, vice, p...|[speaker, vice, p...|[speaker, vice, p...|\n",
      "|           null|[58d03dcbddc55a11...|Thank you!  (Appl...|  January 29, 2013|https://millercen...| Remarks on Immig...|[thank, you, appl...|[thank, applause,...|[thank, applaus, ...|\n",
      "|           null|[58d03dcfddc55a11...|Vice President Bi...|  January 21, 2013|https://millercen...| Second Inaugural...|[vice, president,...|[vice, president,...|[vice, presid, bi...|\n",
      "|           null|[58d03dd3ddc55a11...|Thank you.  (Appl...| December 16, 2012|https://millercen...| Remarks on Sandy...|[thank, you, appl...|[thank, applause,...|[thank, applaus, ...|\n",
      "|           null|[58d03ddbddc55a11...|Tonight, more tha...|  November 6, 2012|https://millercen...| 2012 Election Ni...|[tonight, more, t...|[tonight, 200, ye...|[tonight, 200, ye...|\n",
      "|           null|[58d03ddfddc55a11...|THE PRESIDENT:  T...| September 6, 2012|https://millercen...| Nominee Acceptan...|[the, president, ...|[president, thank...|[presid, thank, a...|\n",
      "+---------------+--------------------+--------------------+------------------+--------------------+--------------------+--------------------+--------------------+--------------------+\n",
      "only showing top 20 rows\n",
      "\n"
     ]
    }
   ],
   "source": [
    "df_pres_stem.show()"
   ]
  },
  {
   "cell_type": "code",
   "execution_count": null,
   "metadata": {
    "collapsed": true
   },
   "outputs": [],
   "source": []
  },
  {
   "cell_type": "code",
   "execution_count": null,
   "metadata": {
    "collapsed": true
   },
   "outputs": [],
   "source": []
  },
  {
   "cell_type": "code",
   "execution_count": 45,
   "metadata": {
    "collapsed": true
   },
   "outputs": [],
   "source": [
    "Vector_presidential = cv_model.transform(df_pres_stem)"
   ]
  },
  {
   "cell_type": "code",
   "execution_count": null,
   "metadata": {
    "collapsed": true
   },
   "outputs": [],
   "source": []
  },
  {
   "cell_type": "code",
   "execution_count": 46,
   "metadata": {
    "collapsed": false
   },
   "outputs": [
    {
     "name": "stdout",
     "output_type": "stream",
     "text": [
      "root\n",
      " |-- _corrupt_record: string (nullable = true)\n",
      " |-- _id: struct (nullable = true)\n",
      " |    |-- $oid: string (nullable = true)\n",
      " |-- content: string (nullable = true)\n",
      " |-- date: string (nullable = true)\n",
      " |-- link: string (nullable = true)\n",
      " |-- speech_title: string (nullable = true)\n",
      " |-- tokens: array (nullable = true)\n",
      " |    |-- element: string (containsNull = true)\n",
      " |-- tokens_nostopwords: array (nullable = true)\n",
      " |    |-- element: string (containsNull = true)\n",
      " |-- tokens_stemmed: array (nullable = true)\n",
      " |    |-- element: string (containsNull = true)\n",
      " |-- tokens_countvectorized: vector (nullable = true)\n",
      "\n"
     ]
    }
   ],
   "source": [
    "Vector_presidential.printSchema()"
   ]
  },
  {
   "cell_type": "code",
   "execution_count": 47,
   "metadata": {
    "collapsed": false
   },
   "outputs": [
    {
     "name": "stdout",
     "output_type": "stream",
     "text": [
      "+---------------+--------------------+--------------------+------------------+--------------------+--------------------+--------------------+--------------------+--------------------+----------------------+\n",
      "|_corrupt_record|                 _id|             content|              date|                link|        speech_title|              tokens|  tokens_nostopwords|      tokens_stemmed|tokens_countvectorized|\n",
      "+---------------+--------------------+--------------------+------------------+--------------------+--------------------+--------------------+--------------------+--------------------+----------------------+\n",
      "|           null|[58d03d7addc55a11...|Thank you.  (Appl...|    March 22, 2016|https://millercen...| Remarks to the P...|[thank, you, appl...|[thank, applause,...|[thank, applaus, ...|  (5000,[2,8,10,11,...|\n",
      "|           null|[58d03d7fddc55a11...|Mr. Speaker, Mr. ...|  January 12, 2016|https://millercen...| 2016 State of th...|[speaker, vice, p...|[speaker, vice, p...|[speaker, vice, p...|  (5000,[2,3,8,9,10...|\n",
      "|           null|[58d03d84ddc55a11...|THE PRESIDENT:  G...|     June 26, 2015|https://millercen...| Remarks in Eulog...|[the, president, ...|[president, givin...|[presid, give, pr...|  (5000,[2,3,8,10,1...|\n",
      "|           null|[58d03d89ddc55a11...|UDIENCE MEMBER:  ...|     March 7, 2015|https://millercen...| Remarks at the 5...|[udience, member,...|[udience, member,...|[udienc, member, ...|  (5000,[1,2,3,4,8,...|\n",
      "|           null|[58d03d8eddc55a11...|Mr. Speaker, Mr. ...|  January 20, 2015|https://millercen...| 2015 State of th...|[speaker, vice, p...|[speaker, vice, p...|[speaker, vice, p...|  (5000,[2,3,8,9,10...|\n",
      "|           null|[58d03d93ddc55a11...|My fellow America...| November 20, 2014|https://millercen...| Address to the N...|[fellow, american...|[fellow, american...|[fellow, american...|  (5000,[1,2,3,7,9,...|\n",
      "|           null|[58d03d99ddc55a11...|Mr. Speaker, Mr. ...|  January 28, 2014|https://millercen...| 2014 State of th...|[speaker, vice, p...|[speaker, vice, p...|[speaker, vice, p...|  (5000,[2,3,8,10,1...|\n",
      "|           null|[58d03d9eddc55a11...|Thank you.  (Appl...|  December 4, 2013|https://millercen...| Speech on Econom...|[thank, you, appl...|[thank, applause,...|[thank, applaus, ...|  (5000,[2,3,4,9,10...|\n",
      "|           null|[58d03da3ddc55a11...|My fellow America...|September 10, 2013|https://millercen...| Address to the N...|[fellow, american...|[fellow, american...|[fellow, american...|  (5000,[2,3,4,8,9,...|\n",
      "|           null|[58d03daeddc55a11...|Hello, Warrensbur...|     July 24, 2013|https://millercen...| Remarks on Educa...|[hello, warrensbu...|[hello, warrensbu...|[hello, warrensbu...|  (5000,[2,3,8,9,10...|\n",
      "|           null|[58d03db1ddc55a11...|I wanted to come ...|     July 13, 2013|https://millercen...| Remarks on Trayv...|[wanted, come, ou...|[wanted, come, fi...|[want, come, firs...|  (5000,[2,10,11,15...|\n",
      "|           null|[58d03db5ddc55a11...|Hello, Connecticu...|     April 8, 2013|https://millercen...| Speech on Gun Vi...|[hello, connectic...|[hello, connectic...|[hello, connectic...|  (5000,[2,3,7,8,10...|\n",
      "|           null|[58d03dbaddc55a11...|Thank you.  (Appl...|    March 21, 2013|https://millercen...| Address to the P...|[thank, you, appl...|[thank, applause,...|[thank, applaus, ...|  (5000,[2,3,8,9,10...|\n",
      "|           null|[58d03dbfddc55a11...|Good morning, eve...|     March 1, 2013|https://millercen...| Statement on the...|[good, morning, e...|[good, morning, e...|[good, morn, ever...|  (5000,[2,3,9,10,1...|\n",
      "|           null|[58d03dc3ddc55a11...|Mr. Speaker, Mr. ...| February 13, 2013|https://millercen...| 2013 State of th...|[speaker, vice, p...|[speaker, vice, p...|[speaker, vice, p...|  (5000,[2,3,4,7,8,...|\n",
      "|           null|[58d03dcbddc55a11...|Thank you!  (Appl...|  January 29, 2013|https://millercen...| Remarks on Immig...|[thank, you, appl...|[thank, applause,...|[thank, applaus, ...|  (5000,[2,3,4,8,9,...|\n",
      "|           null|[58d03dcfddc55a11...|Vice President Bi...|  January 21, 2013|https://millercen...| Second Inaugural...|[vice, president,...|[vice, president,...|[vice, presid, bi...|  (5000,[2,3,8,10,1...|\n",
      "|           null|[58d03dd3ddc55a11...|Thank you.  (Appl...| December 16, 2012|https://millercen...| Remarks on Sandy...|[thank, you, appl...|[thank, applause,...|[thank, applaus, ...|  (5000,[2,3,8,9,10...|\n",
      "|           null|[58d03ddbddc55a11...|Tonight, more tha...|  November 6, 2012|https://millercen...| 2012 Election Ni...|[tonight, more, t...|[tonight, 200, ye...|[tonight, 200, ye...|  (5000,[2,8,9,10,1...|\n",
      "|           null|[58d03ddfddc55a11...|THE PRESIDENT:  T...| September 6, 2012|https://millercen...| Nominee Acceptan...|[the, president, ...|[president, thank...|[presid, thank, a...|  (5000,[2,8,9,10,1...|\n",
      "+---------------+--------------------+--------------------+------------------+--------------------+--------------------+--------------------+--------------------+--------------------+----------------------+\n",
      "only showing top 20 rows\n",
      "\n"
     ]
    }
   ],
   "source": [
    "Vector_presidential.show()"
   ]
  },
  {
   "cell_type": "code",
   "execution_count": 48,
   "metadata": {
    "collapsed": true
   },
   "outputs": [],
   "source": [
    "df_tfidf_pre = model_idf.transform(Vector_presidential)"
   ]
  },
  {
   "cell_type": "code",
   "execution_count": 49,
   "metadata": {
    "collapsed": false
   },
   "outputs": [
    {
     "name": "stdout",
     "output_type": "stream",
     "text": [
      "+---------------+--------------------+--------------------+------------------+--------------------+--------------------+--------------------+--------------------+--------------------+----------------------+--------------------+\n",
      "|_corrupt_record|                 _id|             content|              date|                link|        speech_title|              tokens|  tokens_nostopwords|      tokens_stemmed|tokens_countvectorized|           token_idf|\n",
      "+---------------+--------------------+--------------------+------------------+--------------------+--------------------+--------------------+--------------------+--------------------+----------------------+--------------------+\n",
      "|           null|[58d03d7addc55a11...|Thank you.  (Appl...|    March 22, 2016|https://millercen...| Remarks to the P...|[thank, you, appl...|[thank, applause,...|[thank, applaus, ...|  (5000,[2,8,10,11,...|(5000,[2,8,10,11,...|\n",
      "|           null|[58d03d7fddc55a11...|Mr. Speaker, Mr. ...|  January 12, 2016|https://millercen...| 2016 State of th...|[speaker, vice, p...|[speaker, vice, p...|[speaker, vice, p...|  (5000,[2,3,8,9,10...|(5000,[2,3,8,9,10...|\n",
      "|           null|[58d03d84ddc55a11...|THE PRESIDENT:  G...|     June 26, 2015|https://millercen...| Remarks in Eulog...|[the, president, ...|[president, givin...|[presid, give, pr...|  (5000,[2,3,8,10,1...|(5000,[2,3,8,10,1...|\n",
      "|           null|[58d03d89ddc55a11...|UDIENCE MEMBER:  ...|     March 7, 2015|https://millercen...| Remarks at the 5...|[udience, member,...|[udience, member,...|[udienc, member, ...|  (5000,[1,2,3,4,8,...|(5000,[1,2,3,4,8,...|\n",
      "|           null|[58d03d8eddc55a11...|Mr. Speaker, Mr. ...|  January 20, 2015|https://millercen...| 2015 State of th...|[speaker, vice, p...|[speaker, vice, p...|[speaker, vice, p...|  (5000,[2,3,8,9,10...|(5000,[2,3,8,9,10...|\n",
      "|           null|[58d03d93ddc55a11...|My fellow America...| November 20, 2014|https://millercen...| Address to the N...|[fellow, american...|[fellow, american...|[fellow, american...|  (5000,[1,2,3,7,9,...|(5000,[1,2,3,7,9,...|\n",
      "|           null|[58d03d99ddc55a11...|Mr. Speaker, Mr. ...|  January 28, 2014|https://millercen...| 2014 State of th...|[speaker, vice, p...|[speaker, vice, p...|[speaker, vice, p...|  (5000,[2,3,8,10,1...|(5000,[2,3,8,10,1...|\n",
      "|           null|[58d03d9eddc55a11...|Thank you.  (Appl...|  December 4, 2013|https://millercen...| Speech on Econom...|[thank, you, appl...|[thank, applause,...|[thank, applaus, ...|  (5000,[2,3,4,9,10...|(5000,[2,3,4,9,10...|\n",
      "|           null|[58d03da3ddc55a11...|My fellow America...|September 10, 2013|https://millercen...| Address to the N...|[fellow, american...|[fellow, american...|[fellow, american...|  (5000,[2,3,4,8,9,...|(5000,[2,3,4,8,9,...|\n",
      "|           null|[58d03daeddc55a11...|Hello, Warrensbur...|     July 24, 2013|https://millercen...| Remarks on Educa...|[hello, warrensbu...|[hello, warrensbu...|[hello, warrensbu...|  (5000,[2,3,8,9,10...|(5000,[2,3,8,9,10...|\n",
      "|           null|[58d03db1ddc55a11...|I wanted to come ...|     July 13, 2013|https://millercen...| Remarks on Trayv...|[wanted, come, ou...|[wanted, come, fi...|[want, come, firs...|  (5000,[2,10,11,15...|(5000,[2,10,11,15...|\n",
      "|           null|[58d03db5ddc55a11...|Hello, Connecticu...|     April 8, 2013|https://millercen...| Speech on Gun Vi...|[hello, connectic...|[hello, connectic...|[hello, connectic...|  (5000,[2,3,7,8,10...|(5000,[2,3,7,8,10...|\n",
      "|           null|[58d03dbaddc55a11...|Thank you.  (Appl...|    March 21, 2013|https://millercen...| Address to the P...|[thank, you, appl...|[thank, applause,...|[thank, applaus, ...|  (5000,[2,3,8,9,10...|(5000,[2,3,8,9,10...|\n",
      "|           null|[58d03dbfddc55a11...|Good morning, eve...|     March 1, 2013|https://millercen...| Statement on the...|[good, morning, e...|[good, morning, e...|[good, morn, ever...|  (5000,[2,3,9,10,1...|(5000,[2,3,9,10,1...|\n",
      "|           null|[58d03dc3ddc55a11...|Mr. Speaker, Mr. ...| February 13, 2013|https://millercen...| 2013 State of th...|[speaker, vice, p...|[speaker, vice, p...|[speaker, vice, p...|  (5000,[2,3,4,7,8,...|(5000,[2,3,4,7,8,...|\n",
      "|           null|[58d03dcbddc55a11...|Thank you!  (Appl...|  January 29, 2013|https://millercen...| Remarks on Immig...|[thank, you, appl...|[thank, applause,...|[thank, applaus, ...|  (5000,[2,3,4,8,9,...|(5000,[2,3,4,8,9,...|\n",
      "|           null|[58d03dcfddc55a11...|Vice President Bi...|  January 21, 2013|https://millercen...| Second Inaugural...|[vice, president,...|[vice, president,...|[vice, presid, bi...|  (5000,[2,3,8,10,1...|(5000,[2,3,8,10,1...|\n",
      "|           null|[58d03dd3ddc55a11...|Thank you.  (Appl...| December 16, 2012|https://millercen...| Remarks on Sandy...|[thank, you, appl...|[thank, applause,...|[thank, applaus, ...|  (5000,[2,3,8,9,10...|(5000,[2,3,8,9,10...|\n",
      "|           null|[58d03ddbddc55a11...|Tonight, more tha...|  November 6, 2012|https://millercen...| 2012 Election Ni...|[tonight, more, t...|[tonight, 200, ye...|[tonight, 200, ye...|  (5000,[2,8,9,10,1...|(5000,[2,8,9,10,1...|\n",
      "|           null|[58d03ddfddc55a11...|THE PRESIDENT:  T...| September 6, 2012|https://millercen...| Nominee Acceptan...|[the, president, ...|[president, thank...|[presid, thank, a...|  (5000,[2,8,9,10,1...|(5000,[2,8,9,10,1...|\n",
      "+---------------+--------------------+--------------------+------------------+--------------------+--------------------+--------------------+--------------------+--------------------+----------------------+--------------------+\n",
      "only showing top 20 rows\n",
      "\n"
     ]
    }
   ],
   "source": [
    "df_tfidf_pre.show()"
   ]
  },
  {
   "cell_type": "code",
   "execution_count": null,
   "metadata": {
    "collapsed": true
   },
   "outputs": [],
   "source": []
  },
  {
   "cell_type": "code",
   "execution_count": 40,
   "metadata": {
    "collapsed": false
   },
   "outputs": [],
   "source": [
    "#df_tfidf_pre.write.format('com.databricks.spark.csv').options(header='true').save('s3a://usfocus/presidential_tfidf.csv')"
   ]
  },
  {
   "cell_type": "code",
   "execution_count": 20,
   "metadata": {
    "collapsed": true
   },
   "outputs": [],
   "source": [
    "topicWord=udf(lambda tkn: sub_dict[tkn],IntegerType())"
   ]
  },
  {
   "cell_type": "code",
   "execution_count": null,
   "metadata": {
    "collapsed": true
   },
   "outputs": [],
   "source": []
  },
  {
   "cell_type": "code",
   "execution_count": 21,
   "metadata": {
    "collapsed": true
   },
   "outputs": [],
   "source": [
    "df_tfidf=df_tfidf.withColumn(\"label\",topicWord(df_tfidf.subject))"
   ]
  },
  {
   "cell_type": "code",
   "execution_count": 22,
   "metadata": {
    "collapsed": false
   },
   "outputs": [
    {
     "name": "stdout",
     "output_type": "stream",
     "text": [
      "root\n",
      " |-- content: string (nullable = true)\n",
      " |-- subject: string (nullable = true)\n",
      " |-- dates: string (nullable = true)\n",
      " |-- name: string (nullable = true)\n",
      " |-- congress: double (nullable = true)\n",
      " |-- tokens: array (nullable = true)\n",
      " |    |-- element: string (containsNull = true)\n",
      " |-- tokens_nostopwords: array (nullable = true)\n",
      " |    |-- element: string (containsNull = true)\n",
      " |-- tokens_stemmed: array (nullable = true)\n",
      " |    |-- element: string (containsNull = true)\n",
      " |-- tokens_countvectorized: vector (nullable = true)\n",
      " |-- token_idf: vector (nullable = true)\n",
      " |-- label: integer (nullable = true)\n",
      "\n"
     ]
    }
   ],
   "source": [
    "df_tfidf.printSchema()"
   ]
  },
  {
   "cell_type": "code",
   "execution_count": 50,
   "metadata": {
    "collapsed": false
   },
   "outputs": [
    {
     "name": "stdout",
     "output_type": "stream",
     "text": [
      "+--------------------+--------------------+----------+--------------------+--------+--------------------+--------------------+--------------------+----------------------+--------------------+-----+\n",
      "|             content|             subject|     dates|                name|congress|              tokens|  tokens_nostopwords|      tokens_stemmed|tokens_countvectorized|           token_idf|label|\n",
      "+--------------------+--------------------+----------+--------------------+--------+--------------------+--------------------+--------------------+----------------------+--------------------+-----+\n",
      "|[Congressional Bi...|Civil+Rights+and+...|01/25/1995|H.J.Res.16 — 104t...|   104.0|[congressional, b...|[congressional, b...|[congression, bil...|  (5000,[1,2,7,8,10...|(5000,[1,2,7,8,10...|   16|\n",
      "|[Congressional Bi...|Civil+Rights+and+...|01/25/1995|H.J.Res.13 — 104t...|   104.0|[congressional, b...|[congressional, b...|[congression, bil...|  (5000,[0,1,2,7,8,...|(5000,[0,1,2,7,8,...|   16|\n",
      "|[Congressional Bi...|Civil+Rights+and+...|03/15/1995|H.J.Res.10 — 104t...|   104.0|[congressional, b...|[congressional, b...|[congression, bil...|  (5000,[1,2,7,8,10...|(5000,[1,2,7,8,10...|   16|\n",
      "|[Congressional Bi...|Civil+Rights+and+...|10/15/1996|H.Con.Res.223 — 1...|   104.0|[congressional, b...|[congressional, b...|[congression, bil...|  (5000,[0,3,14,17,...|(5000,[0,3,14,17,...|   16|\n",
      "|[Congressional Bi...|Civil+Rights+and+...|05/17/1996|H.Res.420 — 104th...|   104.0|[congressional, b...|[congressional, b...|[congression, bil...|  (5000,[2,3,8,11,1...|(5000,[2,3,8,11,1...|   16|\n",
      "|[Congressional Bi...|Civil+Rights+and+...|04/16/1996|H.Res.316 — 104th...|   104.0|[congressional, b...|[congressional, b...|[congression, bil...|  (5000,[2,3,8,16,3...|(5000,[2,3,8,16,3...|   16|\n",
      "|[Congressional Bi...|Civil+Rights+and+...|11/29/1995|H.Res.285 — 104th...|   104.0|[congressional, b...|[congressional, b...|[congression, bil...|  (5000,[2,3,8,10,1...|(5000,[2,3,8,10,1...|   16|\n",
      "|[Congressional Bi...|Civil+Rights+and+...|01/25/1995|H.Res.39 — 104th ...|   104.0|[congressional, b...|[congressional, b...|[congression, bil...|  (5000,[1,2,7,17,1...|(5000,[1,2,7,17,1...|   16|\n",
      "|[Congressional Bi...|Civil+Rights+and+...|10/02/1996|S.2187 — 104th Co...|   104.0|[congressional, b...|[congressional, b...|[congression, bil...|  (5000,[0,1,2,3,5,...|(5000,[0,1,2,3,5,...|   16|\n",
      "|[Congressional Bi...|Civil+Rights+and+...|09/10/1996|S.2056 — 104th Co...|   104.0|[congressional, b...|[congressional, b...|[congression, bil...|  (5000,[0,1,2,3,5,...|(5000,[0,1,2,3,5,...|   16|\n",
      "|[Congressional Bi...|Civil+Rights+and+...|07/30/1996|S.1990 — 104th Co...|   104.0|[congressional, b...|[congressional, b...|[congression, bil...|  (5000,[0,1,2,3,5,...|(5000,[0,1,2,3,5,...|   16|\n",
      "|[Congressional Bi...|Civil+Rights+and+...|07/17/1996|S.1954 — 104th Co...|   104.0|[congressional, b...|[congressional, b...|[congression, bil...|  (5000,[0,1,2,3,4,...|(5000,[0,1,2,3,4,...|   16|\n",
      "|[104th Congress P...|Civil+Rights+and+...|08/06/1996|S.1757 — 104th Co...|   104.0|[104th, congress,...|[104th, congress,...|[104th, congress,...|  (5000,[0,2,3,6,7,...|(5000,[0,2,3,6,7,...|   16|\n",
      "|[Congressional Bi...|Civil+Rights+and+...|08/03/1995|S.1093 — 104th Co...|   104.0|[congressional, b...|[congressional, b...|[congression, bil...|  (5000,[0,1,2,3,6,...|(5000,[0,1,2,3,6,...|   16|\n",
      "|[Congressional Bi...|Civil+Rights+and+...|04/30/1996|S.1085 — 104th Co...|   104.0|[congressional, b...|[congressional, b...|[congression, bil...|  (5000,[0,1,2,3,4,...|(5000,[0,1,2,3,4,...|   16|\n",
      "|[Congressional Bi...|Civil+Rights+and+...|06/15/1995|S.932 — 104th Con...|   104.0|[congressional, b...|[congressional, b...|[congression, bil...|  (5000,[0,1,2,3,5,...|(5000,[0,1,2,3,5,...|   16|\n",
      "|[Congressional Bi...|Civil+Rights+and+...|05/24/1995|S.849 — 104th Con...|   104.0|[congressional, b...|[congressional, b...|[congression, bil...|  (5000,[0,1,2,3,6,...|(5000,[0,1,2,3,6,...|   16|\n",
      "|[Congressional Bi...|Civil+Rights+and+...|03/11/1996|S.605 — 104th Con...|   104.0|[congressional, b...|[congressional, b...|[congression, bil...|  (5000,[0,1,2,3,4,...|(5000,[0,1,2,3,4,...|   16|\n",
      "|[Congressional Bi...|Civil+Rights+and+...|03/03/1995|S.497 — 104th Con...|   104.0|[congressional, b...|[congressional, b...|[congression, bil...|  (5000,[0,1,2,3,6,...|(5000,[0,1,2,3,6,...|   16|\n",
      "|[Congressional Bi...|Civil+Rights+and+...|02/07/1995|S.366 — 104th Con...|   104.0|[congressional, b...|[congressional, b...|[congression, bil...|  (5000,[0,1,2,3,5,...|(5000,[0,1,2,3,5,...|   16|\n",
      "+--------------------+--------------------+----------+--------------------+--------+--------------------+--------------------+--------------------+----------------------+--------------------+-----+\n",
      "only showing top 20 rows\n",
      "\n"
     ]
    }
   ],
   "source": [
    "df_tfidf.show()"
   ]
  },
  {
   "cell_type": "code",
   "execution_count": null,
   "metadata": {
    "collapsed": true
   },
   "outputs": [],
   "source": []
  },
  {
   "cell_type": "code",
   "execution_count": null,
   "metadata": {
    "collapsed": true
   },
   "outputs": [],
   "source": []
  },
  {
   "cell_type": "code",
   "execution_count": 23,
   "metadata": {
    "collapsed": true
   },
   "outputs": [],
   "source": [
    "from pyspark.ml.classification import NaiveBayes"
   ]
  },
  {
   "cell_type": "code",
   "execution_count": 24,
   "metadata": {
    "collapsed": true
   },
   "outputs": [],
   "source": [
    "nb = NaiveBayes(smoothing=1.0, modelType=\"multinomial\",featuresCol=\"token_idf\", labelCol=\"label\")"
   ]
  },
  {
   "cell_type": "code",
   "execution_count": 25,
   "metadata": {
    "collapsed": true
   },
   "outputs": [],
   "source": [
    "splits = df_tfidf.randomSplit([0.7, 0.3])"
   ]
  },
  {
   "cell_type": "code",
   "execution_count": 26,
   "metadata": {
    "collapsed": true
   },
   "outputs": [],
   "source": [
    "df_train = splits[0]\n",
    "df_test = splits[1]"
   ]
  },
  {
   "cell_type": "code",
   "execution_count": 26,
   "metadata": {
    "collapsed": false
   },
   "outputs": [],
   "source": [
    "#df_train.count(), df_test.count(), df_transformed.count()"
   ]
  },
  {
   "cell_type": "code",
   "execution_count": 27,
   "metadata": {
    "collapsed": false
   },
   "outputs": [
    {
     "data": {
      "text/plain": [
       "DataFrame[content: string, subject: string, dates: string, name: string, congress: double, tokens: array<string>, tokens_nostopwords: array<string>, tokens_stemmed: array<string>, tokens_countvectorized: vector, token_idf: vector, label: int]"
      ]
     },
     "execution_count": 27,
     "metadata": {},
     "output_type": "execute_result"
    }
   ],
   "source": [
    "df_test.persist()"
   ]
  },
  {
   "cell_type": "code",
   "execution_count": 28,
   "metadata": {
    "collapsed": false
   },
   "outputs": [
    {
     "data": {
      "text/plain": [
       "DataFrame[content: string, subject: string, dates: string, name: string, congress: double, tokens: array<string>, tokens_nostopwords: array<string>, tokens_stemmed: array<string>, tokens_countvectorized: vector, token_idf: vector, label: int]"
      ]
     },
     "execution_count": 28,
     "metadata": {},
     "output_type": "execute_result"
    }
   ],
   "source": [
    "df_train.persist()"
   ]
  },
  {
   "cell_type": "code",
   "execution_count": 29,
   "metadata": {
    "collapsed": true
   },
   "outputs": [],
   "source": [
    "from pyspark.ml.evaluation import MulticlassClassificationEvaluator"
   ]
  },
  {
   "cell_type": "code",
   "execution_count": 30,
   "metadata": {
    "collapsed": false
   },
   "outputs": [],
   "source": [
    "model = nb.fit(df_train)\n",
    "\n",
    "# apply the model on the test setM\n",
    "result = model.transform(df_test)"
   ]
  },
  {
   "cell_type": "code",
   "execution_count": 53,
   "metadata": {
    "collapsed": true
   },
   "outputs": [],
   "source": [
    "# keep only label and prediction to compute accuracy\n",
    "predictionAndLabels = result.select(\"prediction\", \"label\")"
   ]
  },
  {
   "cell_type": "code",
   "execution_count": 54,
   "metadata": {
    "collapsed": false
   },
   "outputs": [
    {
     "name": "stdout",
     "output_type": "stream",
     "text": [
      "Accuracy: 0.760466740622\n"
     ]
    }
   ],
   "source": [
    "# compute accuracy on the test set\n",
    "evaluator = MulticlassClassificationEvaluator(labelCol=\"label\", predictionCol=\"prediction\",\n",
    "                                                  metricName=\"accuracy\")\n",
    "\n",
    "print(\"Accuracy: {}\".format(evaluator.evaluate(predictionAndLabels)))"
   ]
  },
  {
   "cell_type": "code",
   "execution_count": 67,
   "metadata": {
    "collapsed": true
   },
   "outputs": [],
   "source": [
    "thetaarray = model.theta.toArray().T"
   ]
  },
  {
   "cell_type": "code",
   "execution_count": 68,
   "metadata": {
    "collapsed": false
   },
   "outputs": [
    {
     "data": {
      "text/plain": [
       "(5000, 32)"
      ]
     },
     "execution_count": 68,
     "metadata": {},
     "output_type": "execute_result"
    }
   ],
   "source": [
    "thetaarray.shape"
   ]
  },
  {
   "cell_type": "code",
   "execution_count": 69,
   "metadata": {
    "collapsed": false
   },
   "outputs": [
    {
     "data": {
      "text/plain": [
       "array([-6.44553536, -6.44159832, -5.87027188, -6.50157639, -7.00347993,\n",
       "       -7.06424165, -6.86110947, -6.53833564, -6.29573312, -6.89665716,\n",
       "       -6.65150232, -6.47315729, -6.72018956, -6.29819749, -6.49102978,\n",
       "       -6.71936598, -6.67217646, -6.73311194, -6.54535073, -6.54100572,\n",
       "       -6.58992112, -6.84902373, -6.30920488, -6.25168744, -6.98012943,\n",
       "       -6.67274765, -6.69053388, -6.70332163, -6.45160215, -7.1942937 ,\n",
       "       -7.04123278, -8.41015784])"
      ]
     },
     "execution_count": 69,
     "metadata": {},
     "output_type": "execute_result"
    }
   ],
   "source": [
    "thetaarray[0]"
   ]
  },
  {
   "cell_type": "code",
   "execution_count": null,
   "metadata": {
    "collapsed": true
   },
   "outputs": [],
   "source": []
  },
  {
   "cell_type": "code",
   "execution_count": 31,
   "metadata": {
    "collapsed": true
   },
   "outputs": [],
   "source": [
    "from pyspark.mllib.evaluation import MulticlassMetrics"
   ]
  },
  {
   "cell_type": "code",
   "execution_count": 32,
   "metadata": {
    "collapsed": false
   },
   "outputs": [],
   "source": [
    "from sklearn.metrics import confusion_matrix"
   ]
  },
  {
   "cell_type": "code",
   "execution_count": 33,
   "metadata": {
    "collapsed": false,
    "scrolled": true
   },
   "outputs": [
    {
     "name": "stdout",
     "output_type": "stream",
     "text": [
      "root\n",
      " |-- content: string (nullable = true)\n",
      " |-- subject: string (nullable = true)\n",
      " |-- dates: string (nullable = true)\n",
      " |-- name: string (nullable = true)\n",
      " |-- congress: double (nullable = true)\n",
      " |-- tokens: array (nullable = true)\n",
      " |    |-- element: string (containsNull = true)\n",
      " |-- tokens_nostopwords: array (nullable = true)\n",
      " |    |-- element: string (containsNull = true)\n",
      " |-- tokens_stemmed: array (nullable = true)\n",
      " |    |-- element: string (containsNull = true)\n",
      " |-- tokens_countvectorized: vector (nullable = true)\n",
      " |-- token_idf: vector (nullable = true)\n",
      " |-- label: integer (nullable = true)\n",
      " |-- rawPrediction: vector (nullable = true)\n",
      " |-- probability: vector (nullable = true)\n",
      " |-- prediction: double (nullable = true)\n",
      "\n"
     ]
    }
   ],
   "source": [
    "result.printSchema()"
   ]
  },
  {
   "cell_type": "code",
   "execution_count": 78,
   "metadata": {
    "collapsed": false
   },
   "outputs": [
    {
     "name": "stdout",
     "output_type": "stream",
     "text": [
      "+--------------------+--------------------+-----------+--------------------+--------+--------------------+--------------------+--------------------+----------------------+--------------------+-----+--------------------+--------------------+----------+\n",
      "|             content|             subject|      dates|                name|congress|              tokens|  tokens_nostopwords|      tokens_stemmed|tokens_countvectorized|           token_idf|label|       rawPrediction|         probability|prediction|\n",
      "+--------------------+--------------------+-----------+--------------------+--------+--------------------+--------------------+--------------------+----------------------+--------------------+-----+--------------------+--------------------+----------+\n",
      "|\" [Congressional ...|      Social+Welfare| 04/10/1995|H.R.1267 — 104th ...|   104.0|[congressional, b...|[congressional, b...|[congression, bil...|  (5000,[0,1,2,3,4,...|(5000,[0,1,2,3,4,...|   23|[-420480.02574563...|[0.0,0.0,0.0,0.0,...|      23.0|\n",
      "|[104th Congress P...|Economics+and+Pub...| 02/08/1996|H.R.2924 — 104th ...|   104.0|[104th, congress,...|[104th, congress,...|[104th, congress,...|  (5000,[0,1,2,3,4,...|(5000,[0,1,2,3,4,...|   19|[-1980.0099862564...|[8.58292505077031...|      19.0|\n",
      "|[104th Congress P...|    Native+Americans| 02/12/1996|H.R.2726 — 104th ...|   104.0|[104th, congress,...|[104th, congress,...|[104th, congress,...|  (5000,[0,1,2,3,4,...|(5000,[0,1,2,3,4,...|   21|[-12853.268708711...|[0.0,0.0,0.0,0.0,...|      21.0|\n",
      "|[104th Congress P...|Economics+and+Pub...| 03/12/1996|H.R.3021 — 104th ...|   104.0|[104th, congress,...|[104th, congress,...|[104th, congress,...|  (5000,[0,1,2,3,4,...|(5000,[0,1,2,3,4,...|   19|[-2230.0229702026...|[2.20750220105115...|      19.0|\n",
      "|[104th Congress P...|Housing+and+Commu...| 03/28/1996|S.1494 — 104th Co...|   104.0|[104th, congress,...|[104th, congress,...|[104th, congress,...|  (5000,[0,1,2,3,4,...|(5000,[0,1,2,3,4,...|   22|[-34626.330079898...|[0.0,0.0,0.0,0.0,...|      22.0|\n",
      "|[104th Congress P...|Economics+and+Pub...| 03/29/1996|H.R.3136 — 104th ...|   104.0|[104th, congress,...|[104th, congress,...|[104th, congress,...|  (5000,[0,1,2,3,5,...|(5000,[0,1,2,3,5,...|   19|[-82853.765729951...|[0.0,2.2487478944...|      19.0|\n",
      "|[104th Congress P...|Agriculture+and+Food| 04/01/1996|H.R.1787 — 104th ...|   104.0|[104th, congress,...|[104th, congress,...|[104th, congress,...|  (5000,[0,2,3,7,8,...|(5000,[0,2,3,7,8,...|   25|[-1137.0219894773...|[9.28261156658828...|      25.0|\n",
      "|[104th Congress P...|Agriculture+and+Food| 04/09/1996|H.R.2969 — 104th ...|   104.0|[104th, congress,...|[104th, congress,...|[104th, congress,...|  (5000,[0,1,2,3,6,...|(5000,[0,1,2,3,6,...|   25|[-1306.1289502656...|[1.81031083554448...|       1.0|\n",
      "|[104th Congress P...|Economics+and+Pub...| 04/09/1996|S.4 — 104th Congr...|   104.0|[104th, congress,...|[104th, congress,...|[104th, congress,...|  (5000,[0,1,2,3,4,...|(5000,[0,1,2,3,4,...|   19|[-43550.955223382...|[0.0,0.0,0.0,0.0,...|       6.0|\n",
      "|[104th Congress P...|Economics+and+Pub...|(modified):|H.R.3019 — 104th ...|   104.0|[104th, congress,...|[104th, congress,...|[104th, congress,...|  (5000,[0,1,2,3,4,...|(5000,[0,1,2,3,4,...|   19|[-1404107.2119058...|[0.0,0.0,0.0,0.0,...|      19.0|\n",
      "|[104th Congress P...|Economics+and+Pub...| 07/05/1996|S.1579 — 104th Co...|   104.0|[104th, congress,...|[104th, congress,...|[104th, congress,...|  (5000,[0,1,2,3,5,...|(5000,[0,1,2,3,5,...|   19|[-24993.131970117...|[0.0,1.0,0.0,0.0,...|       1.0|\n",
      "|[104th Congress P...|Foreign+Trade+and...| 07/18/1996|H.R.2853 — 104th ...|   104.0|[104th, congress,...|[104th, congress,...|[104th, congress,...|  (5000,[0,1,2,3,5,...|(5000,[0,1,2,3,5,...|   27|[-3810.3163556112...|[5.29796967077231...|      27.0|\n",
      "|[104th Congress P...|Sports+and+Recrea...| 08/03/1996|H.R.497 — 104th C...|   104.0|[104th, congress,...|[104th, congress,...|[104th, congress,...|  (5000,[0,1,2,3,5,...|(5000,[0,1,2,3,5,...|   29|[-21569.559796790...|[0.0,0.0,0.0,0.0,...|      29.0|\n",
      "|[104th Congress P...|                 Law| 08/06/1996|S.531 — 104th Con...|   104.0|[104th, congress,...|[104th, congress,...|[104th, congress,...|  (5000,[0,2,3,7,8,...|(5000,[0,2,3,7,8,...|   18|[-1421.5704078995...|[1.65649230673204...|      18.0|\n",
      "|[104th Congress P...|    Native+Americans| 08/06/1996|H.R.3215 — 104th ...|   104.0|[104th, congress,...|[104th, congress,...|[104th, congress,...|  (5000,[0,1,2,3,5,...|(5000,[0,1,2,3,5,...|   21|[-1408.5458398180...|[5.47596908315500...|      19.0|\n",
      "|[104th Congress P...|Economics+and+Pub...| 08/06/1996|H.R.3603 — 104th ...|   104.0|[104th, congress,...|[104th, congress,...|[104th, congress,...|  (5000,[0,1,2,3,4,...|(5000,[0,1,2,3,4,...|   19|[-141831.17306399...|[0.0,0.0,0.0,0.0,...|      19.0|\n",
      "|[104th Congress P...|      Social+Welfare| 08/22/1996|H.R.3734 — 104th ...|   104.0|[104th, congress,...|[104th, congress,...|[104th, congress,...|  (5000,[0,1,2,3,4,...|(5000,[0,1,2,3,4,...|   23|[-713622.50741434...|[0.0,0.0,0.0,0.0,...|      23.0|\n",
      "|[104th Congress P...|                 Law| 09/18/1996|H.R.740 — 104th C...|   104.0|[104th, congress,...|[104th, congress,...|[104th, congress,...|  (5000,[0,1,2,3,6,...|(5000,[0,1,2,3,6,...|   18|[-3158.5698683170...|[6.79497939327172...|      21.0|\n",
      "|[104th Congress P...|            Families| 09/21/1996|H.R.3396 — 104th ...|   104.0|[104th, congress,...|[104th, congress,...|[104th, congress,...|  (5000,[0,1,2,3,6,...|(5000,[0,1,2,3,6,...|   28|[-3125.3640386391...|[1.25690838887635...|       8.0|\n",
      "|[104th Congress P...|Economics+and+Pub...| 07/27/1995|H.R.1944 — 104th ...|   104.0|[104th, congress,...|[104th, congress,...|[104th, congress,...|  (5000,[0,1,2,3,4,...|(5000,[0,1,2,3,4,...|   19|[-191431.86470351...|[0.0,0.0,0.0,0.0,...|      19.0|\n",
      "+--------------------+--------------------+-----------+--------------------+--------+--------------------+--------------------+--------------------+----------------------+--------------------+-----+--------------------+--------------------+----------+\n",
      "only showing top 20 rows\n",
      "\n"
     ]
    }
   ],
   "source": [
    "result.show()"
   ]
  },
  {
   "cell_type": "code",
   "execution_count": 45,
   "metadata": {
    "collapsed": false
   },
   "outputs": [],
   "source": [
    "import itertools\n",
    "import matplotlib.pyplot as plt\n",
    "%matplotlib inline\n",
    "def plot_confusion_matrix(cm, classes,\n",
    "                          normalize=True,\n",
    "                          title='Confusion matrix',\n",
    "                          cmap=plt.cm.PuRd):\n",
    "    \"\"\"\n",
    "    This function prints and plots the confusion matrix.\n",
    "    Normalization can be applied by setting `normalize=True`.\n",
    "    \"\"\"\n",
    "    plt.imshow(cm, interpolation='nearest', cmap=cmap)\n",
    "    plt.title(title,fontweight='bold')\n",
    "    #plt.colorbar()\n",
    "    tick_marks = np.arange(len(classes))\n",
    "    plt.xticks(tick_marks, classes, fontsize=8,rotation=90,fontweight='medium')\n",
    "    plt.yticks(tick_marks, classes,fontsize=8,fontweight='medium')\n",
    "\n",
    "    if normalize:\n",
    "        cm = cm.astype('float') / cm.sum(axis=1)[:, np.newaxis]\n",
    "        print(\"Normalized confusion matrix\")\n",
    "    else:\n",
    "        print('Confusion matrix, without normalization')\n",
    "\n",
    "    print(cm)\n",
    "\n",
    "    thresh = cm.max() / 2.\n",
    "    #for i, j in itertools.product(range(cm.shape[0]), range(cm.shape[1])):\n",
    "    #    plt.text(j, i, cm[i, j],\n",
    "    #             horizontalalignment=\"center\",\n",
    "    #             color=\"white\" if cm[i, j] > thresh else \"black\")\n",
    "\n",
    "    plt.tight_layout()\n",
    "    plt.ylabel('True label',fontweight='bold',fontsize=12)\n",
    "    plt.xlabel('Predicted label',fontweight='bold',fontsize=12)\n",
    "    plt.figure(figsize=(30,30),dpi=1000)\n"
   ]
  },
  {
   "cell_type": "code",
   "execution_count": 35,
   "metadata": {
    "collapsed": true
   },
   "outputs": [],
   "source": [
    "true_label = result.select('label').collect()\n",
    "\n",
    "predict_label = result.select('prediction').collect()"
   ]
  },
  {
   "cell_type": "code",
   "execution_count": 37,
   "metadata": {
    "collapsed": false
   },
   "outputs": [
    {
     "data": {
      "text/plain": [
       "(24339, 24339)"
      ]
     },
     "execution_count": 37,
     "metadata": {},
     "output_type": "execute_result"
    }
   ],
   "source": [
    "len(true_label),len(predict_label)"
   ]
  },
  {
   "cell_type": "code",
   "execution_count": 38,
   "metadata": {
    "collapsed": false,
    "scrolled": true
   },
   "outputs": [],
   "source": [
    "confusion_matrix_nb = confusion_matrix(np.array(true_label), np.array(predict_label))"
   ]
  },
  {
   "cell_type": "code",
   "execution_count": 39,
   "metadata": {
    "collapsed": false
   },
   "outputs": [
    {
     "data": {
      "text/plain": [
       "array([[1652,   10,    7, ...,    4,    3,   34],\n",
       "       [  28,  883,   11, ...,    3,   36,   90],\n",
       "       [  58,   30, 1888, ...,    9,    1,    4],\n",
       "       ..., \n",
       "       [   0,    0,    0, ...,   37,    1,    8],\n",
       "       [   0,    0,    0, ...,    1,   64,   26],\n",
       "       [   1,    0,    0, ...,    0,    1,   25]])"
      ]
     },
     "execution_count": 39,
     "metadata": {},
     "output_type": "execute_result"
    }
   ],
   "source": [
    "confusion_matrix_nb"
   ]
  },
  {
   "cell_type": "code",
   "execution_count": 40,
   "metadata": {
    "collapsed": false
   },
   "outputs": [],
   "source": [
    "subject_ordered = sorted(sub_dict,key=sub_dict.get)"
   ]
  },
  {
   "cell_type": "code",
   "execution_count": 41,
   "metadata": {
    "collapsed": true
   },
   "outputs": [],
   "source": [
    "label_list=range(0,32)"
   ]
  },
  {
   "cell_type": "code",
   "execution_count": 47,
   "metadata": {
    "collapsed": false
   },
   "outputs": [
    {
     "name": "stdout",
     "output_type": "stream",
     "text": [
      "Normalized confusion matrix\n",
      "[[  7.97682279e-01   4.82858522e-03   3.38000966e-03 ...,   1.93143409e-03\n",
      "    1.44857557e-03   1.64171898e-02]\n",
      " [  1.57657658e-02   4.97184685e-01   6.19369369e-03 ...,   1.68918919e-03\n",
      "    2.02702703e-02   5.06756757e-02]\n",
      " [  2.49677142e-02   1.29143349e-02   8.12742144e-01 ...,   3.87430047e-03\n",
      "    4.30477830e-04   1.72191132e-03]\n",
      " ..., \n",
      " [  0.00000000e+00   0.00000000e+00   0.00000000e+00 ...,   6.60714286e-01\n",
      "    1.78571429e-02   1.42857143e-01]\n",
      " [  0.00000000e+00   0.00000000e+00   0.00000000e+00 ...,   1.01010101e-02\n",
      "    6.46464646e-01   2.62626263e-01]\n",
      " [  3.57142857e-02   0.00000000e+00   0.00000000e+00 ...,   0.00000000e+00\n",
      "    3.57142857e-02   8.92857143e-01]]\n"
     ]
    },
    {
     "data": {
      "image/png": "[encoded data removed]",
      "text/plain": [
       "<matplotlib.figure.Figure at 0x7f92454736d0>"
      ]
     },
     "metadata": {},
     "output_type": "display_data"
    },
    {
     "data": {
      "text/plain": [
       "<matplotlib.figure.Figure at 0x7f924536ab50>"
      ]
     },
     "metadata": {},
     "output_type": "display_data"
    }
   ],
   "source": [
    "plot_confusion_matrix(confusion_matrix_nb, classes = label_list,normalize = True, title = 'Confusion matrix of MultinomialNB Model')"
   ]
  },
  {
   "cell_type": "code",
   "execution_count": 118,
   "metadata": {
    "collapsed": false
   },
   "outputs": [],
   "source": [
    "df_tfidf.write.json('s3a://usfocus/congress_tfidf.json')"
   ]
  },
  {
   "cell_type": "code",
   "execution_count": 123,
   "metadata": {
    "collapsed": false
   },
   "outputs": [],
   "source": [
    "result.write.json('s3a://usfocus/result_tfidf.csv')"
   ]
  },
  {
   "cell_type": "code",
   "execution_count": 124,
   "metadata": {
    "collapsed": true
   },
   "outputs": [],
   "source": [
    "result_presidential = model.transform(df_tfidf_pre)"
   ]
  },
  {
   "cell_type": "code",
   "execution_count": 128,
   "metadata": {
    "collapsed": false
   },
   "outputs": [],
   "source": [
    "result_presidential = result_presidential.select('content','date','link','speech_title','tokens_countvectorized','tokens_stemmed','token_idf','rawPrediction','probability','prediction')"
   ]
  },
  {
   "cell_type": "code",
   "execution_count": null,
   "metadata": {
    "collapsed": true
   },
   "outputs": [],
   "source": []
  },
  {
   "cell_type": "code",
   "execution_count": 136,
   "metadata": {
    "collapsed": false
   },
   "outputs": [],
   "source": [
    "#result_presidential.write.json('s3a://usfocus/result_presidential_tfidf.json')"
   ]
  },
  {
   "cell_type": "code",
   "execution_count": 48,
   "metadata": {
    "collapsed": true
   },
   "outputs": [],
   "source": [
    "from pyspark.ml.classification import LogisticRegression"
   ]
  },
  {
   "cell_type": "code",
   "execution_count": 49,
   "metadata": {
    "collapsed": false
   },
   "outputs": [],
   "source": [
    "LG = LogisticRegression(featuresCol=\"token_idf\", labelCol=\"label\")"
   ]
  },
  {
   "cell_type": "code",
   "execution_count": 50,
   "metadata": {
    "collapsed": false
   },
   "outputs": [],
   "source": [
    "model_lg = LG.fit(df_train)\n",
    "\n",
    "# apply the model on the test setM\n",
    "result_lg = model_lg.transform(df_test)"
   ]
  },
  {
   "cell_type": "code",
   "execution_count": 51,
   "metadata": {
    "collapsed": false
   },
   "outputs": [
    {
     "name": "stdout",
     "output_type": "stream",
     "text": [
      "root\n",
      " |-- content: string (nullable = true)\n",
      " |-- subject: string (nullable = true)\n",
      " |-- dates: string (nullable = true)\n",
      " |-- name: string (nullable = true)\n",
      " |-- congress: double (nullable = true)\n",
      " |-- tokens: array (nullable = true)\n",
      " |    |-- element: string (containsNull = true)\n",
      " |-- tokens_nostopwords: array (nullable = true)\n",
      " |    |-- element: string (containsNull = true)\n",
      " |-- tokens_stemmed: array (nullable = true)\n",
      " |    |-- element: string (containsNull = true)\n",
      " |-- tokens_countvectorized: vector (nullable = true)\n",
      " |-- token_idf: vector (nullable = true)\n",
      " |-- label: integer (nullable = true)\n",
      " |-- rawPrediction: vector (nullable = true)\n",
      " |-- probability: vector (nullable = true)\n",
      " |-- prediction: double (nullable = true)\n",
      "\n"
     ]
    }
   ],
   "source": [
    "result_lg.printSchema()"
   ]
  },
  {
   "cell_type": "code",
   "execution_count": 52,
   "metadata": {
    "collapsed": false
   },
   "outputs": [
    {
     "name": "stdout",
     "output_type": "stream",
     "text": [
      "Accuracy: 0.853239656518\n"
     ]
    }
   ],
   "source": [
    "# keep only label and prediction to compute accuracy\n",
    "predictionAndLabels_lg = result_lg.select(\"prediction\", \"label\")\n",
    "\n",
    "# compute accuracy on the test set\n",
    "evaluator_lg = MulticlassClassificationEvaluator(labelCol=\"label\", predictionCol=\"prediction\",\n",
    "                                                  metricName=\"accuracy\")\n",
    "\n",
    "print(\"Accuracy: {}\".format(evaluator_lg.evaluate(predictionAndLabels_lg)))"
   ]
  },
  {
   "cell_type": "code",
   "execution_count": null,
   "metadata": {
    "collapsed": true
   },
   "outputs": [],
   "source": []
  },
  {
   "cell_type": "code",
   "execution_count": null,
   "metadata": {
    "collapsed": true
   },
   "outputs": [],
   "source": []
  },
  {
   "cell_type": "code",
   "execution_count": 55,
   "metadata": {
    "collapsed": true
   },
   "outputs": [],
   "source": [
    "predict_label_lg = result_lg.select('prediction').collect()"
   ]
  },
  {
   "cell_type": "code",
   "execution_count": 56,
   "metadata": {
    "collapsed": false
   },
   "outputs": [
    {
     "data": {
      "text/plain": [
       "(24339, 24339)"
      ]
     },
     "execution_count": 56,
     "metadata": {},
     "output_type": "execute_result"
    }
   ],
   "source": [
    "len(true_label),len(predict_label_lg)"
   ]
  },
  {
   "cell_type": "code",
   "execution_count": 57,
   "metadata": {
    "collapsed": true
   },
   "outputs": [],
   "source": [
    "confusion_matrix_lg = confusion_matrix(np.array(true_label), np.array(predict_label_lg))"
   ]
  },
  {
   "cell_type": "code",
   "execution_count": 58,
   "metadata": {
    "collapsed": false
   },
   "outputs": [
    {
     "name": "stdout",
     "output_type": "stream",
     "text": [
      "Normalized confusion matrix\n",
      "[[  9.04876871e-01   7.72573636e-03   7.24287784e-03 ...,   4.82858522e-04\n",
      "    4.82858522e-04   0.00000000e+00]\n",
      " [  5.06756757e-03   7.98423423e-01   1.12612613e-02 ...,   0.00000000e+00\n",
      "    2.25225225e-03   5.63063063e-04]\n",
      " [  8.17907878e-03   1.72191132e-03   9.35858803e-01 ...,   0.00000000e+00\n",
      "    0.00000000e+00   0.00000000e+00]\n",
      " ..., \n",
      " [  3.57142857e-02   1.78571429e-02   1.78571429e-02 ...,   6.42857143e-01\n",
      "    1.78571429e-02   0.00000000e+00]\n",
      " [  3.03030303e-02   4.04040404e-02   1.01010101e-02 ...,   0.00000000e+00\n",
      "    7.17171717e-01   2.02020202e-02]\n",
      " [  1.07142857e-01   3.57142857e-02   0.00000000e+00 ...,   0.00000000e+00\n",
      "    2.50000000e-01   3.21428571e-01]]\n"
     ]
    },
    {
     "data": {
      "image/png": "[encoded data removed]",
      "text/plain": [
       "<matplotlib.figure.Figure at 0x7f9245294ad0>"
      ]
     },
     "metadata": {},
     "output_type": "display_data"
    },
    {
     "data": {
      "text/plain": [
       "<matplotlib.figure.Figure at 0x7f9245476cd0>"
      ]
     },
     "metadata": {},
     "output_type": "display_data"
    }
   ],
   "source": [
    "plot_confusion_matrix(confusion_matrix_lg, classes = label_list,normalize = True, title = 'Confusion matrix of Log_Reg Model')"
   ]
  },
  {
   "cell_type": "code",
   "execution_count": null,
   "metadata": {
    "collapsed": true
   },
   "outputs": [],
   "source": []
  },
  {
   "cell_type": "code",
   "execution_count": 59,
   "metadata": {
    "collapsed": true
   },
   "outputs": [],
   "source": [
    "from pyspark.ml.classification import RandomForestClassifier"
   ]
  },
  {
   "cell_type": "code",
   "execution_count": 60,
   "metadata": {
    "collapsed": true
   },
   "outputs": [],
   "source": [
    "rf = RandomForestClassifier(featuresCol=\"token_idf\", labelCol=\"label\")"
   ]
  },
  {
   "cell_type": "code",
   "execution_count": null,
   "metadata": {
    "collapsed": true
   },
   "outputs": [],
   "source": []
  },
  {
   "cell_type": "code",
   "execution_count": 61,
   "metadata": {
    "collapsed": true
   },
   "outputs": [],
   "source": [
    "model_rf = rf.fit(df_train)\n",
    "\n",
    "# apply the model on the test setM\n",
    "result_rf = model_rf.transform(df_test)"
   ]
  },
  {
   "cell_type": "code",
   "execution_count": null,
   "metadata": {
    "collapsed": true
   },
   "outputs": [],
   "source": []
  },
  {
   "cell_type": "code",
   "execution_count": 62,
   "metadata": {
    "collapsed": false
   },
   "outputs": [
    {
     "name": "stdout",
     "output_type": "stream",
     "text": [
      "Accuracy: 0.447512223181\n"
     ]
    }
   ],
   "source": [
    "# keep only label and prediction to compute accuracy\n",
    "predictionAndLabels_rf = result_rf.select(\"prediction\", \"label\")\n",
    "\n",
    "# compute accuracy on the test set\n",
    "evaluator_rf = MulticlassClassificationEvaluator(labelCol=\"label\", predictionCol=\"prediction\",\n",
    "                                                  metricName=\"accuracy\")\n",
    "\n",
    "print(\"Accuracy: {}\".format(evaluator_rf.evaluate(predictionAndLabels_rf)))"
   ]
  },
  {
   "cell_type": "code",
   "execution_count": null,
   "metadata": {
    "collapsed": true
   },
   "outputs": [],
   "source": []
  },
  {
   "cell_type": "code",
   "execution_count": 63,
   "metadata": {
    "collapsed": true
   },
   "outputs": [],
   "source": [
    "predict_label_rf = result_rf.select('prediction').collect()"
   ]
  },
  {
   "cell_type": "code",
   "execution_count": null,
   "metadata": {
    "collapsed": true
   },
   "outputs": [],
   "source": []
  },
  {
   "cell_type": "code",
   "execution_count": 64,
   "metadata": {
    "collapsed": false
   },
   "outputs": [
    {
     "data": {
      "text/plain": [
       "(24339, 24339)"
      ]
     },
     "execution_count": 64,
     "metadata": {},
     "output_type": "execute_result"
    }
   ],
   "source": [
    "\n",
    "\n",
    "len(true_label),len(predict_label_rf)"
   ]
  },
  {
   "cell_type": "code",
   "execution_count": null,
   "metadata": {
    "collapsed": true
   },
   "outputs": [],
   "source": []
  },
  {
   "cell_type": "code",
   "execution_count": 65,
   "metadata": {
    "collapsed": true
   },
   "outputs": [],
   "source": [
    "confusion_matrix_rf = confusion_matrix(np.array(true_label), np.array(predict_label_rf))"
   ]
  },
  {
   "cell_type": "code",
   "execution_count": null,
   "metadata": {
    "collapsed": true
   },
   "outputs": [],
   "source": []
  },
  {
   "cell_type": "code",
   "execution_count": 66,
   "metadata": {
    "collapsed": false
   },
   "outputs": [
    {
     "name": "stdout",
     "output_type": "stream",
     "text": [
      "Normalized confusion matrix\n",
      "[[ 0.81313375  0.04200869  0.04732014 ...,  0.          0.          0.        ]\n",
      " [ 0.08727477  0.4329955   0.26407658 ...,  0.          0.          0.        ]\n",
      " [ 0.00860956  0.00258287  0.96254843 ...,  0.          0.          0.        ]\n",
      " ..., \n",
      " [ 0.07142857  0.28571429  0.10714286 ...,  0.          0.          0.        ]\n",
      " [ 0.1010101   0.33333333  0.06060606 ...,  0.          0.          0.        ]\n",
      " [ 0.03571429  0.07142857  0.03571429 ...,  0.          0.          0.        ]]\n"
     ]
    },
    {
     "data": {
      "image/png": "[encoded data removed]",
      "text/plain": [
       "<matplotlib.figure.Figure at 0x7f92452c8ad0>"
      ]
     },
     "metadata": {},
     "output_type": "display_data"
    },
    {
     "data": {
      "text/plain": [
       "<matplotlib.figure.Figure at 0x7f9245d58690>"
      ]
     },
     "metadata": {},
     "output_type": "display_data"
    }
   ],
   "source": [
    "plot_confusion_matrix(confusion_matrix_rf, classes = label_list,normalize = True, title = 'Confusion matrix of RandomForest Model')"
   ]
  }
 ],
 "metadata": {
  "anaconda-cloud": {},
  "kernelspec": {
   "display_name": "Python [conda root]",
   "language": "python",
   "name": "conda-root-py"
  },
  "language_info": {
   "codemirror_mode": {
    "name": "ipython",
    "version": 2
   },
   "file_extension": ".py",
   "mimetype": "text/x-python",
   "name": "python",
   "nbconvert_exporter": "python",
   "pygments_lexer": "ipython2",
   "version": "2.7.12"
  }
 },
 "nbformat": 4,
 "nbformat_minor": 1
}
